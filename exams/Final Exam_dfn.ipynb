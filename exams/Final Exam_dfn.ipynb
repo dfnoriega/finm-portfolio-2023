{
 "cells": [
  {
   "cell_type": "markdown",
   "id": "e49f9090",
   "metadata": {},
   "source": [
    "# Final Exam\n",
    "\n",
    "## FINM 36700 - 2023\n",
    "\n",
    "### UChicago Financial Mathematics\n",
    "\n",
    "* Mark Hendricks\n",
    "* hendricks@uchicago.edu"
   ]
  },
  {
   "cell_type": "markdown",
   "id": "6a26cd48",
   "metadata": {},
   "source": [
    "# Instructions"
   ]
  },
  {
   "cell_type": "markdown",
   "id": "7450dc04",
   "metadata": {},
   "source": [
    "## Please note the following:\n",
    "\n",
    "Points\n",
    "* The exam is 155 points.\n",
    "* You have 180 minutes to complete the exam.\n",
    "* For every minute late you submit the exam, you will lose one point.\n",
    "\n",
    "\n",
    "Submission\n",
    "* You will upload your solution to the `Final Exam` assignment on Canvas, where you downloaded this. (Be sure to **submit** on Canvas, not just **save** on Canvas.\n",
    "* Your submission should be readable, (the graders can understand your answers,) and it should **include all code used in your analysis in a file format that the code can be executed.** \n",
    "\n",
    "Rules\n",
    "* The exam is open-material, closed-communication.\n",
    "* You do not need to cite material from the course github repo--you are welcome to use the code posted there without citation.\n",
    "\n",
    "Advice\n",
    "* If you find any question to be unclear, state your interpretation and proceed. We will only answer questions of interpretation if there is a typo, error, etc.\n",
    "* The exam will be graded for partial credit."
   ]
  },
  {
   "cell_type": "markdown",
   "id": "2ed02541",
   "metadata": {},
   "source": [
    "## Data\n",
    "\n",
    "**All data files are found in the class github repo, in the `data` folder.**\n",
    "\n",
    "This exam makes use of the following data files:\n",
    "* `final_exam_data.xlsx`\n",
    "\n",
    "This file has sheets for...\n",
    "* `portfolio` (weekly) - Part 2\n",
    "* `forecasting` (monthly) - Part 3\n",
    "* `fx_carry`(daily) - Part 4"
   ]
  },
  {
   "cell_type": "markdown",
   "id": "8e430ec4",
   "metadata": {},
   "source": [
    "## Scoring\n",
    "\n",
    "| Problem | Points |\n",
    "|---------|--------|\n",
    "| 1       | 40     |\n",
    "| 2       | 25     |\n",
    "| 3       | 50     |\n",
    "| 4       | 40     |"
   ]
  },
  {
   "cell_type": "markdown",
   "id": "7b2f131d",
   "metadata": {},
   "source": [
    "### Each numbered question is worth 5 points unless otherwise specified."
   ]
  },
  {
   "cell_type": "markdown",
   "id": "e7bae96a",
   "metadata": {},
   "source": [
    "### Notation\n",
    "(Hidden LaTeX commands)\n",
    "\n",
    "$$\\newcommand{\\betamkt}{\\beta^{i,\\text{MKT}}}$$\n",
    "$$\\newcommand{\\betahml}{\\beta^{i,\\text{HML}}}$$\n",
    "$$\\newcommand{\\betaumd}{\\beta^{i,\\text{UMD}}}$$\n",
    "$$\\newcommand{\\Eri}{E\\left[\\tilde{r}^{i}\\right]}$$\n",
    "$$\\newcommand{\\Emkt}{E\\left[\\tilde{r}^{\\text{MKT}}\\right]}$$\n",
    "$$\\newcommand{\\Ehml}{E\\left[\\tilde{r}^{\\text{HML}}\\right]}$$\n",
    "$$\\newcommand{\\Eumd}{E\\left[\\tilde{r}^{\\text{UMD}}\\right]}$$\n",
    "\n",
    "$$\\newcommand{\\frn}{\\text{MXN}}$$\n",
    "$$\\newcommand{\\frnrate}{\\text{MXSTR}}$$\n",
    "$$\\newcommand{\\FXspot}{S}$$\n",
    "$$\\newcommand{\\fxspot}{\\texttt{s}}$$\n",
    "$$\\newcommand{\\rflogusd}{\\texttt{r}^{\\text{USD}}}$$\n",
    "$$\\newcommand{\\rflogfrn}{\\texttt{r}^{\\frn}}$$\n",
    "\n",
    "$$\\newcommand{\\wintt}{t,t+1}$$\n",
    "\n",
    "$$\\newcommand{\\targ}{\\text{USO}}$$"
   ]
  },
  {
   "cell_type": "markdown",
   "id": "29108024",
   "metadata": {},
   "source": [
    "# 1. Short Answer"
   ]
  },
  {
   "cell_type": "markdown",
   "id": "10e4483d",
   "metadata": {},
   "source": [
    "#### No Data Needed\n",
    "\n",
    "These problems do not require any data file. Rather, analyze them conceptually. "
   ]
  },
  {
   "cell_type": "markdown",
   "id": "fb4ae41e",
   "metadata": {},
   "source": [
    "### 1.\n",
    "\n",
    "Consider a Linear Factor Pricing Model (LFPM).\n",
    "\n",
    "Which metric do we examine to understand its fit, (or errors)...\n",
    "* given the estimated **time-series (TS)** test?\n",
    "* given the estimated **cross-sectional (CS)** test?"
   ]
  },
  {
   "cell_type": "markdown",
   "metadata": {},
   "source": [
    "**Given TS test**\n",
    "\n",
    "You would want to see alphas being 0. In particular, R2s of the regressions are not relevant.\n",
    "\n",
    "**Given CS test**\n",
    "\n",
    "R2s are critical. One could also expect an alpha close to 0, if allowed."
   ]
  },
  {
   "cell_type": "markdown",
   "id": "b3af04d7",
   "metadata": {},
   "source": [
    "### 2.\n",
    "\n",
    "Consider the Arbitrage Pricing Theory (APT). Is it fair to say that it is more likely to work for sets of assets with low cross-correlation? Why or why not?"
   ]
  },
  {
   "cell_type": "markdown",
   "metadata": {},
   "source": [
    "The Arbitrage Pricing Theory established that a perfect linear factor decomposition, with 0 correlation of errors and infinite assets, would also be a perfect pricing model.\n",
    "\n",
    "(Why not)\n",
    "However, low cross-correlation does not necessarily imply low correlation of errors. It may be the case the model is failing to identify systematic factors driving some of them."
   ]
  },
  {
   "cell_type": "markdown",
   "id": "098ce470",
   "metadata": {},
   "source": [
    "### 3.\n",
    "\n",
    "In constructing momentum portfolios, we discussed selecting the top and bottom 10% of stocks, ranked by past returns. How do you think the strategy would be impacted if we were more extreme in the selection, and went long-short just the top / bottom 1% of total stocks?"
   ]
  },
  {
   "cell_type": "markdown",
   "metadata": {},
   "source": [
    "Selecting only 1% of total stocks would accentuate/stress momentum in the strategy, in the sense of expecting a higher mean return. However, selecting a smaller number of stocks also hurts diversification effects, which means a higher volatility would also be expected. In short, one would expect a higher mean returns and a higher volatility."
   ]
  },
  {
   "cell_type": "markdown",
   "id": "36646d1a",
   "metadata": {},
   "source": [
    "### 4.\n",
    "\n",
    "Over longer horizons, do investments have higher Sharpe ratios? How is this issue relevant to long-term asset allocators such as Barnstable?"
   ]
  },
  {
   "cell_type": "markdown",
   "metadata": {},
   "source": [
    "Expected mean returns scale linearly with time, while volatility scales linearly with the square-root of time. As the sharpe ratio is the mean divided by volatility, over longer horizons investments are expected to have higher sharpe ratios (scaling linearly with square-root of time).\n",
    "Long-term asset allocators can benefit directly from this, being able to ride longer term horizons and expecting higher sharpe ratios, on average."
   ]
  },
  {
   "cell_type": "markdown",
   "id": "b37329a6",
   "metadata": {},
   "source": [
    "### 5.\n",
    "\n",
    "Before it crashed, how did LTCM's performance compare to the S&P (SPY)? Was it an attractive investment? Be specific."
   ]
  },
  {
   "cell_type": "markdown",
   "metadata": {},
   "source": [
    "It was a very attractive investment! We saw that it achieved similar metrics from a mean and volatility perspective, but it did so with very little correlation with SPY. From a mean-variance optimization perspective, this is extremely valuable to a porfolio."
   ]
  },
  {
   "cell_type": "markdown",
   "id": "5fc27e9c",
   "metadata": {},
   "source": [
    "### 6.\n",
    "\n",
    "Suppose investors are **not** mean-variance investors. If we find an investment with a Sharpe ratio higher than the \"market\", would this would be inconsistent with the CAPM?"
   ]
  },
  {
   "cell_type": "markdown",
   "metadata": {},
   "source": [
    "The CAPM expresses that all investments have EXPECTED returns proportional to their market beta. The question seems to imply that a sharpe ratio would be OBSERVED to be higher. Consequenlty, this would not be inconsistent with CAPM, as it would not necessarily imply anything about expected returns. It would only say that some investment performed better over some period of time."
   ]
  },
  {
   "cell_type": "markdown",
   "id": "80418680",
   "metadata": {},
   "source": [
    "### 7.\n",
    "\n",
    "What causes us concern about the performance of classic mean-variance optimization out-of-sample?\n",
    "\n",
    "What is one of the potential solutions we discussed?"
   ]
  },
  {
   "cell_type": "markdown",
   "metadata": {},
   "source": [
    "One of the main issues with mean-variance optimization is that it is overly sensitive to variations on mean return values, which are very hard to estimate precisely. The classic approach would not have a means to convey the uncertainty in point estimates for mean returns, and the optimization would consequently tend to take extreme positions based on highly uncertain figures. The high sensitivity stems from the explosiveness of inverting the covariance matrix.\n",
    "\n",
    "One of the potential solutions dicussed was using regulatization to avoid extreme weights. Alternatively, one could specify constraints to weights directly."
   ]
  },
  {
   "cell_type": "markdown",
   "id": "93744f83",
   "metadata": {},
   "source": [
    "### 8.\n",
    "\n",
    "True or False: Uncovered Interest Parity implies Covered Interest Parity, but not vice-versa.\n",
    "\n",
    "Explain."
   ]
  },
  {
   "cell_type": "markdown",
   "metadata": {},
   "source": [
    "False. Uncovered interest parity is a model about EXPECTATIONS. Covered interest parity is a NO-ARBITRAGE RELATIONSHIP between relative differences in risk-free rates, and spot and forward exchange rates. UIP does not imply CIP. UIP is a theory, while CIP is a no-arbitrage condition."
   ]
  },
  {
   "cell_type": "markdown",
   "id": "7966dc11",
   "metadata": {},
   "source": [
    "***"
   ]
  },
  {
   "cell_type": "markdown",
   "metadata": {},
   "source": [
    "## Importing functions and modules"
   ]
  },
  {
   "cell_type": "code",
   "execution_count": 1,
   "metadata": {},
   "outputs": [],
   "source": [
    "import pandas as pd\n",
    "import numpy as np\n",
    "from sympy import Matrix\n",
    "from sklearn.linear_model import LinearRegression\n",
    "from sklearn.metrics import mean_squared_error, r2_score\n",
    "from scipy.stats import skew, kurtosis, norm\n",
    "import seaborn as sns\n",
    "import matplotlib.pyplot as plt\n",
    "\n",
    "\n",
    "def calculate_statistics(df, annualize_factor=12, VaR=0.05, CVaR=0.05, dropdown=False):\n",
    "    '''\n",
    "    Calculates the mean, volatility, sharpe, skewness, kurtosis, VaR, CVaR and dropdown stats of a dataframe\n",
    "    Returns a dataframe with values for each asset\n",
    "    '''\n",
    "    res={}\n",
    "    res_i={}\n",
    "    for i in df.columns:\n",
    "        if df[i].dtype=='<M8[ns]':\n",
    "            Dates=df[i]\n",
    "        else:\n",
    "            res_i.update({'mean':np.mean(df[i])*annualize_factor})\n",
    "            res_i.update({'volatility':np.std(df[i])*(annualize_factor**(1/2))})\n",
    "            res_i.update({'sharpe':res_i['mean']/res_i['volatility']})\n",
    "            res_i.update({'skewness':skew(df[i])})\n",
    "            res_i.update({'kurtosis':kurtosis(df[i])})\n",
    "            res_i.update({'VaR':df[i].quantile(VaR)})\n",
    "            res_i.update({'CVaR':df[i][df[i]<df[i].quantile(CVaR)].mean()})\n",
    "            if dropdown:\n",
    "                res_i.update({'Max_Drawdown':maxDrawD(Dates,df[i])})\n",
    "            res.update({i:res_i})\n",
    "            res_i={}\n",
    "    return pd.DataFrame(res)\n",
    "\n",
    "def calculate_statistics_array(data, annualize_factor=12, VaR=0.05, CVaR=0.05):\n",
    "    '''\n",
    "    Calculates the mean, volatility and sharpe ratio of an array\n",
    "    Returns a dictionary with the 'mean', 'volatility' and 'sharpe' ratio of the array\n",
    "    '''\n",
    "    res_i={}\n",
    "    res_i.update({'mean':np.mean(data)*annualize_factor})\n",
    "    res_i.update({'volatility':np.std(data)*(annualize_factor**(1/2))})\n",
    "    res_i.update({'sharpe':res_i['mean']/res_i['volatility']})\n",
    "    res_i.update({'skewness':skew(data)})\n",
    "    res_i.update({'kurtosis':kurtosis(data)})\n",
    "    df=pd.DataFrame(data)\n",
    "    res_i.update({'VaR':df.quantile(VaR).iloc[0]})\n",
    "    res_i.update({'CVaR':df[df<df.quantile(CVaR)].mean().iloc[0]})\n",
    "    # res_i.update({'Max_Drawdown':maxDrawD(df[i])})\n",
    "    return res_i\n",
    "\n",
    "def maxDrawD(dates, values):\n",
    "    \"\"\"\n",
    "    Calculates the maximum drawdown and the dates of the max/min/recovery within the max drawdown period.\n",
    "    \n",
    "    Parameters:\n",
    "    dates (array): An array of dates\n",
    "    values (array): An array of values\n",
    "    \n",
    "    Returns:\n",
    "    tuple: A tuple containing the maximum drawdown, the start date of the max drawdown period, \n",
    "    the end date of the max drawdown period, the date of the minimum value, and the date of recovery.\n",
    "    \"\"\"\n",
    "    df = pd.DataFrame({'Date': dates, 'Value': values})\n",
    "    df.dropna(inplace=True)\n",
    "    df.reset_index(drop=True, inplace=True)\n",
    "    dates = df['Date'].values\n",
    "    values = df['Value'].values\n",
    "\n",
    "    wealth_index = 1000 * (1 + df['Value']).cumprod()\n",
    "    previous_peaks = wealth_index.cummax()\n",
    "    drawdowns = (wealth_index - previous_peaks) / previous_peaks\n",
    "\n",
    "    prev_max=previous_peaks[:drawdowns.idxmin()].idxmax()\n",
    "    recovery_wealth=wealth_index[drawdowns.idxmin():]\n",
    "    try:\n",
    "        recovery_date=df['Date'].loc[recovery_wealth[recovery_wealth>=previous_peaks[prev_max]].index[0]]\n",
    "    except:\n",
    "        recovery_date=np.nan\n",
    "\n",
    "    res={}\n",
    "    res.update({'max_drawdown': drawdowns.min()})\n",
    "    res.update({'max_drawdown_start_date':df['Date'].loc[previous_peaks[:drawdowns.idxmin()].idxmax()]})\n",
    "    res.update({'max_drawdown_min_date':df['Date'].loc[drawdowns.idxmin()]})\n",
    "    res.update({'max_recovery_date':recovery_date})\n",
    "    \n",
    "    return res\n",
    "\n",
    "\n",
    "def tangency_portfolio(df):\n",
    "    '''\n",
    "    Calculates the weights of the tangency portfolio\n",
    "    Inputs: dataframe with column 0 being the date and the rest ([1:]) being the assets\n",
    "    Make sure df's first column (0) is the date, or anything that is not an asset\n",
    "    '''\n",
    "    stats=calculate_statistics(df)\n",
    "    assets=len(df.columns[1:])\n",
    "    mdf=Matrix(df.iloc[:,1:].cov())\n",
    "    vect1=Matrix([1]*assets)\n",
    "    mean=[]\n",
    "    for i in stats:\n",
    "        mean.append(stats[i]['mean'])\n",
    "    vectmean=Matrix(mean)\n",
    "    sigma_inv=mdf.inv()\n",
    "    wt=(1/((vect1.T@sigma_inv@vectmean)[0,0]))*(sigma_inv@vectmean)\n",
    "\n",
    "    tickers=[]\n",
    "    for i in stats:\n",
    "        tickers.append(i)\n",
    "    tan_port=pd.DataFrame()\n",
    "    tan_port['tickers']=tickers\n",
    "    tan_port['Tangent Weights']=0.0\n",
    "    for i in range(len(tan_port)):\n",
    "        tan_port.loc[i,'Tangent Weights']=float(round(wt[i], 6))\n",
    "    \n",
    "    tan_port.set_index('tickers', inplace=True,drop=True)\n",
    "\n",
    "    return tan_port\n",
    "    \n",
    "\n",
    "def correlation_heatmap(df):\n",
    "    '''\n",
    "    Plots a heatmap of the correlation matrix of a dataframe [1:]\n",
    "    '''\n",
    "    plt.figure(figsize=(16, 6))\n",
    "    heatmap = sns.heatmap(df.iloc[:,1:].corr(), vmin=-1, vmax=1, annot=True, cmap='BrBG')\n",
    "    heatmap.set_title('Correlation Heatmap', fontdict={'fontsize':18}, pad=12)\n",
    "\n",
    "def calculate_market_statistics(df,regressor, annualize_factor=12):\n",
    "    '''\n",
    "    Calculates the alpha, beta, treynor ratio and information ratio of a dataframe for all non-date columns\n",
    "    Regressor is benchmark: e.g., SPY, Market\n",
    "    '''\n",
    "    res={}\n",
    "    res_i={}\n",
    "    for i in df.columns:\n",
    "        if df[i].dtype=='<M8[ns]':\n",
    "            pass\n",
    "        else:\n",
    "            model=LinearRegression()\n",
    "            model.fit(np.array(regressor).reshape(-1,1),df[i])\n",
    "            alpha=model.intercept_*annualize_factor\n",
    "            beta=model.coef_[0]\n",
    "            res_i.update({'alpha':alpha})\n",
    "            res_i.update({'market_beta':beta})\n",
    "            res_i.update({'treynor_ratio':np.mean(df[i])*annualize_factor/beta})\n",
    "\n",
    "            residuals=np.array(df[i])-model.predict(np.array(regressor).reshape(-1,1))\n",
    "            res_i.update({'information_ratio':alpha/(np.std(residuals)*annualize_factor**(1/2))})\n",
    "            res_i.update({'r2':model.score(np.array(regressor).reshape(-1,1), df[i])})\n",
    "\n",
    "            res.update({i:res_i})\n",
    "            res_i={}\n",
    "    return pd.DataFrame(res).transpose()\n",
    "\n",
    "def run_regression(df,regressors,annualize_factor=12):\n",
    "    '''\n",
    "    Runs a regression for all non-date columns in a dataframe\n",
    "    Regressors is a dataframe with the regressors as columns\n",
    "    Returns a dataframe with the alpha, betas, and r2 for each asset\n",
    "    '''\n",
    "    res={}\n",
    "    res_i={}\n",
    "    for i in df.columns:\n",
    "        if df[i].dtype=='<M8[ns]':\n",
    "            pass\n",
    "        else:\n",
    "            model=LinearRegression()\n",
    "            model.fit(regressors,df[i])\n",
    "            alpha=model.intercept_*annualize_factor\n",
    "            betas=model.coef_\n",
    "            r2=model.score(regressors, df[i])\n",
    "            res_i.update({'alpha':alpha})\n",
    "            for ii in range(len(betas)):\n",
    "                res_i.update({'beta_'+str(regressors.columns[ii]):betas[ii]})\n",
    "            res_i.update({'r2':r2})\n",
    "            res.update({i:res_i})\n",
    "            res_i={}\n",
    "    \n",
    "    return pd.DataFrame(res).transpose()\n",
    "\n",
    "def prob(mu, sigma, h):\n",
    "    '''\n",
    "    Returns the probability of underperforming mu\n",
    "    over a period h. Make sure that mu and sigma are \n",
    "    from log returns.\n",
    "    '''\n",
    "    return norm.cdf(np.sqrt(h)*-mu/sigma)"
   ]
  },
  {
   "cell_type": "markdown",
   "id": "36e16d88",
   "metadata": {},
   "source": [
    "# 2. Optimization\n",
    "\n",
    "Use the data found in the `portfolio` tab. it is weekly data."
   ]
  },
  {
   "cell_type": "markdown",
   "id": "eea0db3c",
   "metadata": {},
   "source": [
    "### 1.\n",
    "\n",
    "Assume the provided data is in terms of **excess** returns.\n",
    "\n",
    "Report the weights of the tangency portfolio.\n",
    "\n",
    "Report the weights of the MV portfolio which achieves a mean weekly return of `0.0025`."
   ]
  },
  {
   "cell_type": "code",
   "execution_count": 2,
   "metadata": {},
   "outputs": [],
   "source": [
    "pordf=pd.read_excel('../data/final_exam_data.xlsx',sheet_name='portfolio')"
   ]
  },
  {
   "cell_type": "code",
   "execution_count": 3,
   "metadata": {},
   "outputs": [
    {
     "name": "stdout",
     "output_type": "stream",
     "text": [
      "Weights that achieve a 0.0025 return:\n"
     ]
    },
    {
     "data": {
      "text/html": [
       "<div>\n",
       "<style scoped>\n",
       "    .dataframe tbody tr th:only-of-type {\n",
       "        vertical-align: middle;\n",
       "    }\n",
       "\n",
       "    .dataframe tbody tr th {\n",
       "        vertical-align: top;\n",
       "    }\n",
       "\n",
       "    .dataframe thead th {\n",
       "        text-align: right;\n",
       "    }\n",
       "</style>\n",
       "<table border=\"1\" class=\"dataframe\">\n",
       "  <thead>\n",
       "    <tr style=\"text-align: right;\">\n",
       "      <th></th>\n",
       "      <th>Tangent Weights</th>\n",
       "    </tr>\n",
       "    <tr>\n",
       "      <th>tickers</th>\n",
       "      <th></th>\n",
       "    </tr>\n",
       "  </thead>\n",
       "  <tbody>\n",
       "    <tr>\n",
       "      <th>SPY</th>\n",
       "      <td>0.479969</td>\n",
       "    </tr>\n",
       "    <tr>\n",
       "      <th>BTC</th>\n",
       "      <td>0.079311</td>\n",
       "    </tr>\n",
       "    <tr>\n",
       "      <th>USO</th>\n",
       "      <td>-0.024121</td>\n",
       "    </tr>\n",
       "    <tr>\n",
       "      <th>TLT</th>\n",
       "      <td>-0.022660</td>\n",
       "    </tr>\n",
       "    <tr>\n",
       "      <th>IEF</th>\n",
       "      <td>0.093716</td>\n",
       "    </tr>\n",
       "    <tr>\n",
       "      <th>IYR</th>\n",
       "      <td>-0.246719</td>\n",
       "    </tr>\n",
       "    <tr>\n",
       "      <th>GLD</th>\n",
       "      <td>0.200172</td>\n",
       "    </tr>\n",
       "  </tbody>\n",
       "</table>\n",
       "</div>"
      ],
      "text/plain": [
       "         Tangent Weights\n",
       "tickers                 \n",
       "SPY             0.479969\n",
       "BTC             0.079311\n",
       "USO            -0.024121\n",
       "TLT            -0.022660\n",
       "IEF             0.093716\n",
       "IYR            -0.246719\n",
       "GLD             0.200172"
      ]
     },
     "execution_count": 3,
     "metadata": {},
     "output_type": "execute_result"
    }
   ],
   "source": [
    "wt=tangency_portfolio(pordf)\n",
    "tan_returns=pordf.iloc[:,1:].mean()@wt\n",
    "target_weights=wt*0.0025/tan_returns\n",
    "\n",
    "print('Weights that achieve a 0.0025 return:')\n",
    "target_weights"
   ]
  },
  {
   "cell_type": "markdown",
   "id": "2b8805fd",
   "metadata": {},
   "source": [
    "### 2.\n",
    "\n",
    "Assume the provided data is in terms of **total** returns.\n",
    "\n",
    "Report the weights of the GMV portfolio\n",
    "\n",
    "Report the weights of the MV portfolio which achieves a mean weekly return of `0.0025`."
   ]
  },
  {
   "cell_type": "code",
   "execution_count": 4,
   "metadata": {},
   "outputs": [],
   "source": [
    "def tangency_portfolio_rfr(asset_return,cov_matrix, cov_diagnolize = False):\n",
    "    \"\"\" \n",
    "        Returns the tangency portfolio weights in a (1 x n) vector\n",
    "        Inputs: \n",
    "            asset_return - return for each asset (n x 1) Vector\n",
    "            cov_matrix = nxn covariance matrix for the assets\n",
    "    \"\"\"\n",
    "    if cov_diagnolize:\n",
    "        asset_cov = np.diag(np.diag(cov_matrix))\n",
    "    else:\n",
    "        asset_cov = np.array(cov_matrix)\n",
    "    inverted_cov= np.linalg.inv(asset_cov)\n",
    "    one_vector = np.ones(len(cov_matrix.index))\n",
    "    \n",
    "    den = (one_vector @ inverted_cov) @ (asset_return)\n",
    "    num =  inverted_cov @ asset_return\n",
    "    return (1/den) * num\n",
    "\n",
    "def gmv_portfolio(asset_return,cov_matrix):\n",
    "    \"\"\" \n",
    "        Returns the Global Minimum Variance portfolio weights in a (1 x n) vector\n",
    "        Inputs: \n",
    "            asset_return - return for each asset (n x 1) Vector\n",
    "            cov_matrix = nxn covariance matrix for the assets\n",
    "    \"\"\"\n",
    "    asset_cov = np.array(cov_matrix)\n",
    "    inverted_cov= np.linalg.inv(asset_cov)\n",
    "    one_vector = np.ones(len(cov_matrix.index))\n",
    "    \n",
    "    den = (one_vector @ inverted_cov) @ (one_vector)\n",
    "    num =  inverted_cov @ one_vector\n",
    "    return (1/den) * num\n",
    "\n",
    "def mv_portfolio(asset_return,cov_matrix,target_ret):\n",
    "    \"\"\" \n",
    "        Returns the Mean-Variance portfolio weights in a (1 x n) vector when no riskless assset is available\n",
    "        Inputs: \n",
    "            asset_return - total return for each asset (n x 1) Vector\n",
    "            cov_matrix = nxn covariance matrix for the assets\n",
    "            target_ret = Target Return (Not-Annualized)\n",
    "            tangency_port = Tangency portfolio\n",
    "    \"\"\"\n",
    "    omega_tan = tangency_portfolio_rfr(asset_return.mean(),cov_matrix)\n",
    "    omega_gmv = gmv_portfolio(asset_return,cov_matrix) \n",
    "    \n",
    "    mu_tan = asset_return.mean() @ omega_tan\n",
    "    mu_gmv = asset_return.mean() @ omega_gmv\n",
    "    \n",
    "    delta = (target_ret - mu_gmv)/(mu_tan - mu_gmv)\n",
    "    mv_weights = delta * omega_tan + (1-delta)*omega_gmv\n",
    "    return mv_weights\n",
    "\n",
    "temp_df=pordf.copy()\n",
    "temp_df.set_index('date', inplace=True, drop=True)"
   ]
  },
  {
   "cell_type": "code",
   "execution_count": 5,
   "metadata": {},
   "outputs": [
    {
     "name": "stdout",
     "output_type": "stream",
     "text": [
      "Weights that achieve a 0.0025 return:\n"
     ]
    },
    {
     "data": {
      "text/html": [
       "<div>\n",
       "<style scoped>\n",
       "    .dataframe tbody tr th:only-of-type {\n",
       "        vertical-align: middle;\n",
       "    }\n",
       "\n",
       "    .dataframe tbody tr th {\n",
       "        vertical-align: top;\n",
       "    }\n",
       "\n",
       "    .dataframe thead th {\n",
       "        text-align: right;\n",
       "    }\n",
       "</style>\n",
       "<table border=\"1\" class=\"dataframe\">\n",
       "  <thead>\n",
       "    <tr style=\"text-align: right;\">\n",
       "      <th></th>\n",
       "      <th>Tangent Weights</th>\n",
       "    </tr>\n",
       "    <tr>\n",
       "      <th>tickers</th>\n",
       "      <th></th>\n",
       "    </tr>\n",
       "  </thead>\n",
       "  <tbody>\n",
       "    <tr>\n",
       "      <th>SPY</th>\n",
       "      <td>0.498982</td>\n",
       "    </tr>\n",
       "    <tr>\n",
       "      <th>BTC</th>\n",
       "      <td>0.074852</td>\n",
       "    </tr>\n",
       "    <tr>\n",
       "      <th>USO</th>\n",
       "      <td>-0.021620</td>\n",
       "    </tr>\n",
       "    <tr>\n",
       "      <th>TLT</th>\n",
       "      <td>-0.244953</td>\n",
       "    </tr>\n",
       "    <tr>\n",
       "      <th>IEF</th>\n",
       "      <td>0.757509</td>\n",
       "    </tr>\n",
       "    <tr>\n",
       "      <th>IYR</th>\n",
       "      <td>-0.253592</td>\n",
       "    </tr>\n",
       "    <tr>\n",
       "      <th>GLD</th>\n",
       "      <td>0.188823</td>\n",
       "    </tr>\n",
       "  </tbody>\n",
       "</table>\n",
       "</div>"
      ],
      "text/plain": [
       "         Tangent Weights\n",
       "tickers                 \n",
       "SPY             0.498982\n",
       "BTC             0.074852\n",
       "USO            -0.021620\n",
       "TLT            -0.244953\n",
       "IEF             0.757509\n",
       "IYR            -0.253592\n",
       "GLD             0.188823"
      ]
     },
     "execution_count": 5,
     "metadata": {},
     "output_type": "execute_result"
    }
   ],
   "source": [
    "tgmv_weights=mv_portfolio(temp_df, temp_df.cov(), 0.0025)\n",
    "tgmv_df=target_weights.copy()\n",
    "tgmv_df['Tangent Weights']=tgmv_weights\n",
    "print('Weights that achieve a 0.0025 return:')\n",
    "tgmv_df"
   ]
  },
  {
   "cell_type": "markdown",
   "id": "59976b89",
   "metadata": {},
   "source": [
    "### 3.\n",
    "\n",
    "Conceptually, what is the difference between the portfolios in part 1 and part 2?\n",
    "\n",
    "Mathematically, what is the difference in their optimizations?"
   ]
  },
  {
   "cell_type": "markdown",
   "metadata": {},
   "source": [
    "Conceptually, in the excess returns approach, one only needs combinations of the risk-free rate and the tancency portfolio, as anything other than the tangency portfolio would, by definition, have a lower sharpe ratio (be not optimal).\n",
    "\n",
    "Mathematically ,in the excess returns approach the weights to not need to add up to one! One can short or long as much as desired the risk-free asset, which has 0 correlation with any other asset. The excess return optimization has one fewer constraint (sum of weights equal to one is not present)."
   ]
  },
  {
   "cell_type": "markdown",
   "id": "140cbca4",
   "metadata": {},
   "source": [
    "### 4.\n",
    "\n",
    "#### (10pts)\n",
    "\n",
    "Consider the following:\n",
    "* drop `BTC` from the sample\n",
    "* target a weekly mean return of `.0025`.\n",
    "* assume once again that the provided data is **excess** returns.\n",
    "\n",
    "Using data only through 2021, \n",
    "* calculate the tangency weights\n",
    "* compute the performance of this tangency portfolio in the out-of-sample (OOS) period of 2022-2023.\n",
    "\n",
    "Report the\n",
    "* mean\n",
    "* vol\n",
    "* Sharpe\n",
    "\n",
    "Compare these three metrics with the equally-weighted portfolio for 2022-2023."
   ]
  },
  {
   "cell_type": "code",
   "execution_count": 6,
   "metadata": {},
   "outputs": [],
   "source": [
    "tdf=pordf.copy()\n",
    "tdf.drop(columns='BTC', inplace=True)\n",
    "tdf=tdf[tdf['date']<'2022']\n",
    "wt_4=tangency_portfolio(tdf)\n",
    "tan_returns_4=tdf.iloc[:,1:].mean()@wt_4\n",
    "target_weights_4=wt_4*0.0025/tan_returns_4\n",
    "\n",
    "ttdf=pordf.copy()\n",
    "ttdf.drop(columns='BTC', inplace=True)\n",
    "ttdf=ttdf[ttdf['date']>='2022']\n",
    "for i in ttdf.columns[1:]:\n",
    "    ttdf[i]=ttdf[i]*target_weights_4.loc[i][0]\n",
    "\n",
    "ttdf['MV_optimization']=ttdf.iloc[:,1:].sum(axis=1)\n",
    "\n",
    "tttdf=pordf.copy()\n",
    "tttdf.drop(columns='BTC', inplace=True)\n",
    "tttdf=tttdf[tttdf['date']>='2022']\n",
    "for i in tttdf.columns[1:]:\n",
    "    tttdf[i]=tttdf[i]/len(tttdf.columns[1:])\n",
    "\n",
    "ttdf['Equally_weighted']=tttdf.iloc[:,1:].sum(axis=1)"
   ]
  },
  {
   "cell_type": "code",
   "execution_count": 7,
   "metadata": {},
   "outputs": [
    {
     "name": "stdout",
     "output_type": "stream",
     "text": [
      "Annualized statistics:\n"
     ]
    },
    {
     "data": {
      "text/html": [
       "<div>\n",
       "<style scoped>\n",
       "    .dataframe tbody tr th:only-of-type {\n",
       "        vertical-align: middle;\n",
       "    }\n",
       "\n",
       "    .dataframe tbody tr th {\n",
       "        vertical-align: top;\n",
       "    }\n",
       "\n",
       "    .dataframe thead th {\n",
       "        text-align: right;\n",
       "    }\n",
       "</style>\n",
       "<table border=\"1\" class=\"dataframe\">\n",
       "  <thead>\n",
       "    <tr style=\"text-align: right;\">\n",
       "      <th></th>\n",
       "      <th>MV_optimization</th>\n",
       "      <th>Equally_weighted</th>\n",
       "    </tr>\n",
       "  </thead>\n",
       "  <tbody>\n",
       "    <tr>\n",
       "      <th>mean</th>\n",
       "      <td>-0.341311</td>\n",
       "      <td>-0.121861</td>\n",
       "    </tr>\n",
       "    <tr>\n",
       "      <th>volatility</th>\n",
       "      <td>0.357731</td>\n",
       "      <td>0.276171</td>\n",
       "    </tr>\n",
       "    <tr>\n",
       "      <th>sharpe</th>\n",
       "      <td>-0.954100</td>\n",
       "      <td>-0.441252</td>\n",
       "    </tr>\n",
       "  </tbody>\n",
       "</table>\n",
       "</div>"
      ],
      "text/plain": [
       "            MV_optimization  Equally_weighted\n",
       "mean              -0.341311         -0.121861\n",
       "volatility         0.357731          0.276171\n",
       "sharpe            -0.954100         -0.441252"
      ]
     },
     "execution_count": 7,
     "metadata": {},
     "output_type": "execute_result"
    }
   ],
   "source": [
    "print('Annualized statistics:')\n",
    "calculate_statistics(ttdf[['date','MV_optimization','Equally_weighted']],252).iloc[:3,:]"
   ]
  },
  {
   "cell_type": "markdown",
   "metadata": {},
   "source": [
    "**Annualized!!!**"
   ]
  },
  {
   "cell_type": "markdown",
   "id": "829ba75e",
   "metadata": {},
   "source": [
    "***"
   ]
  },
  {
   "cell_type": "markdown",
   "id": "3d666942",
   "metadata": {},
   "source": [
    "# 3.\n",
    "\n",
    "Forecast (total) returns on gold as tracked by the ETF ticker, $\\targ$. This ETF holds crude oil.\n",
    "\n",
    "As signals, use two interest rate signals, as seen in Treasury-notes. (No need to consider anything specific about Treasury notes, just read these as macroeconomic signals.)\n",
    "* Tnote rate\n",
    "* month-over-month change in the Tnote rate\n",
    "\n",
    "Find the all data needed for this problem in the sheet `forecasting`."
   ]
  },
  {
   "cell_type": "code",
   "execution_count": 8,
   "metadata": {},
   "outputs": [],
   "source": [
    "forecasting=pd.read_excel('../data/final_exam_data.xlsx',sheet_name='forecasting')"
   ]
  },
  {
   "cell_type": "code",
   "execution_count": 9,
   "metadata": {},
   "outputs": [
    {
     "data": {
      "text/html": [
       "<div>\n",
       "<style scoped>\n",
       "    .dataframe tbody tr th:only-of-type {\n",
       "        vertical-align: middle;\n",
       "    }\n",
       "\n",
       "    .dataframe tbody tr th {\n",
       "        vertical-align: top;\n",
       "    }\n",
       "\n",
       "    .dataframe thead th {\n",
       "        text-align: right;\n",
       "    }\n",
       "</style>\n",
       "<table border=\"1\" class=\"dataframe\">\n",
       "  <thead>\n",
       "    <tr style=\"text-align: right;\">\n",
       "      <th></th>\n",
       "      <th>date</th>\n",
       "      <th>USO</th>\n",
       "      <th>Tnote rate</th>\n",
       "      <th>Tnote rate change</th>\n",
       "    </tr>\n",
       "  </thead>\n",
       "  <tbody>\n",
       "    <tr>\n",
       "      <th>0</th>\n",
       "      <td>2009-05-31</td>\n",
       "      <td>0.271394</td>\n",
       "      <td>3.465</td>\n",
       "      <td>0.341</td>\n",
       "    </tr>\n",
       "    <tr>\n",
       "      <th>1</th>\n",
       "      <td>2009-06-30</td>\n",
       "      <td>0.042033</td>\n",
       "      <td>3.523</td>\n",
       "      <td>0.058</td>\n",
       "    </tr>\n",
       "    <tr>\n",
       "      <th>2</th>\n",
       "      <td>2009-07-31</td>\n",
       "      <td>-0.029528</td>\n",
       "      <td>3.501</td>\n",
       "      <td>-0.022</td>\n",
       "    </tr>\n",
       "    <tr>\n",
       "      <th>3</th>\n",
       "      <td>2009-08-31</td>\n",
       "      <td>-0.020647</td>\n",
       "      <td>3.401</td>\n",
       "      <td>-0.100</td>\n",
       "    </tr>\n",
       "    <tr>\n",
       "      <th>4</th>\n",
       "      <td>2009-09-30</td>\n",
       "      <td>0.003883</td>\n",
       "      <td>3.307</td>\n",
       "      <td>-0.094</td>\n",
       "    </tr>\n",
       "    <tr>\n",
       "      <th>...</th>\n",
       "      <td>...</td>\n",
       "      <td>...</td>\n",
       "      <td>...</td>\n",
       "      <td>...</td>\n",
       "    </tr>\n",
       "    <tr>\n",
       "      <th>170</th>\n",
       "      <td>2023-07-31</td>\n",
       "      <td>0.151377</td>\n",
       "      <td>3.959</td>\n",
       "      <td>0.140</td>\n",
       "    </tr>\n",
       "    <tr>\n",
       "      <th>171</th>\n",
       "      <td>2023-08-31</td>\n",
       "      <td>0.025830</td>\n",
       "      <td>4.093</td>\n",
       "      <td>0.134</td>\n",
       "    </tr>\n",
       "    <tr>\n",
       "      <th>172</th>\n",
       "      <td>2023-09-30</td>\n",
       "      <td>0.077272</td>\n",
       "      <td>4.573</td>\n",
       "      <td>0.480</td>\n",
       "    </tr>\n",
       "    <tr>\n",
       "      <th>173</th>\n",
       "      <td>2023-10-31</td>\n",
       "      <td>-0.072224</td>\n",
       "      <td>4.875</td>\n",
       "      <td>0.302</td>\n",
       "    </tr>\n",
       "    <tr>\n",
       "      <th>174</th>\n",
       "      <td>2023-11-30</td>\n",
       "      <td>-0.033324</td>\n",
       "      <td>4.271</td>\n",
       "      <td>-0.604</td>\n",
       "    </tr>\n",
       "  </tbody>\n",
       "</table>\n",
       "<p>175 rows × 4 columns</p>\n",
       "</div>"
      ],
      "text/plain": [
       "          date       USO  Tnote rate  Tnote rate change\n",
       "0   2009-05-31  0.271394       3.465              0.341\n",
       "1   2009-06-30  0.042033       3.523              0.058\n",
       "2   2009-07-31 -0.029528       3.501             -0.022\n",
       "3   2009-08-31 -0.020647       3.401             -0.100\n",
       "4   2009-09-30  0.003883       3.307             -0.094\n",
       "..         ...       ...         ...                ...\n",
       "170 2023-07-31  0.151377       3.959              0.140\n",
       "171 2023-08-31  0.025830       4.093              0.134\n",
       "172 2023-09-30  0.077272       4.573              0.480\n",
       "173 2023-10-31 -0.072224       4.875              0.302\n",
       "174 2023-11-30 -0.033324       4.271             -0.604\n",
       "\n",
       "[175 rows x 4 columns]"
      ]
     },
     "execution_count": 9,
     "metadata": {},
     "output_type": "execute_result"
    }
   ],
   "source": [
    "forecasting"
   ]
  },
  {
   "cell_type": "markdown",
   "id": "2a7d9d6a",
   "metadata": {},
   "source": [
    "### 1.\n",
    "\n",
    "Estimate a forecasting regression of $\\targ$ on the two (lagged) signals.\n",
    "\n",
    "$$r_{t+1}^\\targ = \\alpha + \\beta^{x}x_t + \\beta^z z_t + \\epsilon_{t+1}$$\n",
    "\n",
    "where\n",
    "* $x$ denotes the interest-rate signal.\n",
    "* $z$ denotes the change in rate signal.\n",
    "\n",
    "Report the r-squared, as well as the OLS estimates for the intercept and the two betas. (No need to annualize the stats.)"
   ]
  },
  {
   "cell_type": "code",
   "execution_count": 10,
   "metadata": {},
   "outputs": [
    {
     "name": "stdout",
     "output_type": "stream",
     "text": [
      "R2 score: 0.02813716766965546\n",
      "Intercept: 0.020120399914827315\n",
      "Tnote beta: -0.009568836780175635\n",
      "Tnote change beta: 0.07406127227052074\n"
     ]
    }
   ],
   "source": [
    "model=LinearRegression()\n",
    "model.fit(forecasting[['Tnote rate','Tnote rate change']].shift(1).dropna(),forecasting['USO'].iloc[1:])\n",
    "r2=model.score(forecasting[['Tnote rate','Tnote rate change']].shift(1).dropna(),forecasting['USO'].iloc[1:])\n",
    "print('R2 score:',r2)\n",
    "print('Intercept:',model.intercept_)\n",
    "print('Tnote beta:',model.coef_[0])\n",
    "print('Tnote change beta:',model.coef_[1])"
   ]
  },
  {
   "cell_type": "markdown",
   "id": "23724c47",
   "metadata": {},
   "source": [
    "### 2.\n",
    "\n",
    "Use your forecasted returns, $\\hat{r}^{\\targ}_{t+1}$ to build trading weights:\n",
    "\n",
    "$$w_t = 0.50 + 50\\;\\hat{r}^{\\targ}_{t+1}$$\n",
    "\n",
    "(So the rule says to hold 50% in the ETF plus/minus 50x the forecast. Recall the forecast is a monthly percentage, so it is a small number.)\n",
    "\n",
    "Calculate the return from implementing this strategy. Denote this as $r^x_t$.\n",
    "\n",
    "Report the first and last 5 values."
   ]
  },
  {
   "cell_type": "code",
   "execution_count": 11,
   "metadata": {},
   "outputs": [],
   "source": [
    "wt=0.5+(50*model.predict(forecasting[['Tnote rate','Tnote rate change']].shift(1).dropna()))\n",
    "forecast = forecasting[['date','USO']].iloc[1:,:].copy()\n",
    "forecast['wt']=wt\n",
    "forecast['forecast']=forecast['USO']*forecast['wt']"
   ]
  },
  {
   "cell_type": "code",
   "execution_count": 12,
   "metadata": {},
   "outputs": [
    {
     "name": "stdout",
     "output_type": "stream",
     "text": [
      "First 5 rows of the forecast:\n"
     ]
    },
    {
     "data": {
      "text/html": [
       "<div>\n",
       "<style scoped>\n",
       "    .dataframe tbody tr th:only-of-type {\n",
       "        vertical-align: middle;\n",
       "    }\n",
       "\n",
       "    .dataframe tbody tr th {\n",
       "        vertical-align: top;\n",
       "    }\n",
       "\n",
       "    .dataframe thead th {\n",
       "        text-align: right;\n",
       "    }\n",
       "</style>\n",
       "<table border=\"1\" class=\"dataframe\">\n",
       "  <thead>\n",
       "    <tr style=\"text-align: right;\">\n",
       "      <th></th>\n",
       "      <th>date</th>\n",
       "      <th>forecast</th>\n",
       "    </tr>\n",
       "  </thead>\n",
       "  <tbody>\n",
       "    <tr>\n",
       "      <th>1</th>\n",
       "      <td>2009-06-30</td>\n",
       "      <td>0.046697</td>\n",
       "    </tr>\n",
       "    <tr>\n",
       "      <th>2</th>\n",
       "      <td>2009-07-31</td>\n",
       "      <td>-0.001041</td>\n",
       "    </tr>\n",
       "    <tr>\n",
       "      <th>3</th>\n",
       "      <td>2009-08-31</td>\n",
       "      <td>0.005171</td>\n",
       "    </tr>\n",
       "    <tr>\n",
       "      <th>4</th>\n",
       "      <td>2009-09-30</td>\n",
       "      <td>-0.001909</td>\n",
       "    </tr>\n",
       "    <tr>\n",
       "      <th>5</th>\n",
       "      <td>2009-10-31</td>\n",
       "      <td>-0.036695</td>\n",
       "    </tr>\n",
       "  </tbody>\n",
       "</table>\n",
       "</div>"
      ],
      "text/plain": [
       "        date  forecast\n",
       "1 2009-06-30  0.046697\n",
       "2 2009-07-31 -0.001041\n",
       "3 2009-08-31  0.005171\n",
       "4 2009-09-30 -0.001909\n",
       "5 2009-10-31 -0.036695"
      ]
     },
     "execution_count": 12,
     "metadata": {},
     "output_type": "execute_result"
    }
   ],
   "source": [
    "print('First 5 rows of the forecast:')\n",
    "forecast[['date','forecast']].head()"
   ]
  },
  {
   "cell_type": "code",
   "execution_count": 13,
   "metadata": {},
   "outputs": [
    {
     "name": "stdout",
     "output_type": "stream",
     "text": [
      "Last 5 rows of the forecast:\n"
     ]
    },
    {
     "data": {
      "text/html": [
       "<div>\n",
       "<style scoped>\n",
       "    .dataframe tbody tr th:only-of-type {\n",
       "        vertical-align: middle;\n",
       "    }\n",
       "\n",
       "    .dataframe tbody tr th {\n",
       "        vertical-align: top;\n",
       "    }\n",
       "\n",
       "    .dataframe thead th {\n",
       "        text-align: right;\n",
       "    }\n",
       "</style>\n",
       "<table border=\"1\" class=\"dataframe\">\n",
       "  <thead>\n",
       "    <tr style=\"text-align: right;\">\n",
       "      <th></th>\n",
       "      <th>date</th>\n",
       "      <th>forecast</th>\n",
       "    </tr>\n",
       "  </thead>\n",
       "  <tbody>\n",
       "    <tr>\n",
       "      <th>170</th>\n",
       "      <td>2023-07-31</td>\n",
       "      <td>0.053407</td>\n",
       "    </tr>\n",
       "    <tr>\n",
       "      <th>171</th>\n",
       "      <td>2023-08-31</td>\n",
       "      <td>0.003366</td>\n",
       "    </tr>\n",
       "    <tr>\n",
       "      <th>172</th>\n",
       "      <td>2023-09-30</td>\n",
       "      <td>0.003397</td>\n",
       "    </tr>\n",
       "    <tr>\n",
       "      <th>173</th>\n",
       "      <td>2023-10-31</td>\n",
       "      <td>-0.079126</td>\n",
       "    </tr>\n",
       "    <tr>\n",
       "      <th>174</th>\n",
       "      <td>2023-11-30</td>\n",
       "      <td>-0.009729</td>\n",
       "    </tr>\n",
       "  </tbody>\n",
       "</table>\n",
       "</div>"
      ],
      "text/plain": [
       "          date  forecast\n",
       "170 2023-07-31  0.053407\n",
       "171 2023-08-31  0.003366\n",
       "172 2023-09-30  0.003397\n",
       "173 2023-10-31 -0.079126\n",
       "174 2023-11-30 -0.009729"
      ]
     },
     "execution_count": 13,
     "metadata": {},
     "output_type": "execute_result"
    }
   ],
   "source": [
    "print('Last 5 rows of the forecast:')\n",
    "forecast[['date','forecast']].tail()"
   ]
  },
  {
   "cell_type": "markdown",
   "id": "e0085f68",
   "metadata": {},
   "source": [
    "### 3.\n",
    "\n",
    "Calculate the following (annualized) performance metrics for both the passive investment, $r^\\targ$, as well as the strategy implemented in the previous problem, $r^x$.\n",
    "\n",
    "* mean\n",
    "* volatility\n",
    "* max drawdown"
   ]
  },
  {
   "cell_type": "code",
   "execution_count": 14,
   "metadata": {},
   "outputs": [
    {
     "data": {
      "text/html": [
       "<div>\n",
       "<style scoped>\n",
       "    .dataframe tbody tr th:only-of-type {\n",
       "        vertical-align: middle;\n",
       "    }\n",
       "\n",
       "    .dataframe tbody tr th {\n",
       "        vertical-align: top;\n",
       "    }\n",
       "\n",
       "    .dataframe thead th {\n",
       "        text-align: right;\n",
       "    }\n",
       "</style>\n",
       "<table border=\"1\" class=\"dataframe\">\n",
       "  <thead>\n",
       "    <tr style=\"text-align: right;\">\n",
       "      <th></th>\n",
       "      <th>Pasive</th>\n",
       "      <th>Strategy</th>\n",
       "    </tr>\n",
       "  </thead>\n",
       "  <tbody>\n",
       "    <tr>\n",
       "      <th>mean</th>\n",
       "      <td>-0.022956</td>\n",
       "      <td>0.168447</td>\n",
       "    </tr>\n",
       "    <tr>\n",
       "      <th>volatility</th>\n",
       "      <td>0.35543</td>\n",
       "      <td>0.305718</td>\n",
       "    </tr>\n",
       "    <tr>\n",
       "      <th>Max_Drawdown</th>\n",
       "      <td>-0.947065</td>\n",
       "      <td>-0.653193</td>\n",
       "    </tr>\n",
       "  </tbody>\n",
       "</table>\n",
       "</div>"
      ],
      "text/plain": [
       "                Pasive  Strategy\n",
       "mean         -0.022956  0.168447\n",
       "volatility     0.35543  0.305718\n",
       "Max_Drawdown -0.947065 -0.653193"
      ]
     },
     "execution_count": 14,
     "metadata": {},
     "output_type": "execute_result"
    }
   ],
   "source": [
    "tres=calculate_statistics(forecast[['date','USO','forecast']],12,0.05,0.05,True)\n",
    "tres.loc['Max_Drawdown']=tres.loc['Max_Drawdown'].apply(lambda x: x['max_drawdown'])\n",
    "tres.rename(columns={'USO':'Pasive','forecast':'Strategy'}, inplace=True)\n",
    "tres.loc[['mean','volatility','Max_Drawdown'],:]"
   ]
  },
  {
   "cell_type": "markdown",
   "id": "58ed3942",
   "metadata": {},
   "source": [
    "### 4.\n",
    "\n",
    "#### (7pts)\n",
    "\n",
    "\n",
    "Suppose we are assessing the returns to this active strategy, $r^x$, without knowing how it is generated. \n",
    "\n",
    "Use a regression (with an intercept) to report the optimal hedge ratio of passive $\\targ$ to this active strategy. \n",
    "\n",
    "* Report the hedge ratio, being clear about whether you are going long or short $\\targ$ in order to hedge.\n",
    "\n",
    "* What is the mean return of the hedged active strategy?"
   ]
  },
  {
   "cell_type": "code",
   "execution_count": 15,
   "metadata": {},
   "outputs": [
    {
     "name": "stdout",
     "output_type": "stream",
     "text": [
      "Optimal hedge ratio:  -0.3182\n"
     ]
    }
   ],
   "source": [
    "model=LinearRegression()\n",
    "model.fit(np.array(forecast['forecast']).reshape(-1,1),np.array(forecast['USO']).reshape(-1,1))\n",
    "print('Optimal hedge ratio: ',-round(model.coef_[0][0],4))"
   ]
  },
  {
   "cell_type": "markdown",
   "metadata": {},
   "source": [
    "The optimal hedge ratio would be to SHORT 0.3182 units of USO for each invested unit in the strategy"
   ]
  },
  {
   "cell_type": "code",
   "execution_count": 16,
   "metadata": {},
   "outputs": [
    {
     "name": "stdout",
     "output_type": "stream",
     "text": [
      "Mean return of hedged strategy (not annualized!): 0.0146\n"
     ]
    }
   ],
   "source": [
    "print('Mean return of hedged strategy (not annualized!):',round(np.mean(forecast['forecast']-model.coef_[0][0]*forecast['USO']),4))"
   ]
  },
  {
   "cell_type": "markdown",
   "id": "8d7ae67f",
   "metadata": {},
   "source": [
    "### 5.\n",
    "\n",
    "#### (8pts)\n",
    "\n",
    "For the rest of the problem, consider the out-of-sample (OOS) performance of the strategy.\n",
    "\n",
    "Forecast values of $\\targ$ for January 2018 through Dec 2023. (So we are using the data up until January 2018 as “burn-in” data.)\n",
    "* Loop through time, estimating the forecast only using data through time $t$.\n",
    "* At each step, calculate the next OOS forecast, $\\hat{r}^{\\targ}_{t+1}$.\n",
    "\n",
    "Report the first and last 5 values of your OOS forecast, $\\hat{r}^{\\targ}_{t+1}$."
   ]
  },
  {
   "cell_type": "code",
   "execution_count": 17,
   "metadata": {},
   "outputs": [
    {
     "name": "stderr",
     "output_type": "stream",
     "text": [
      "/Users/Daniel/opt/anaconda3/envs/UChicago1_macbook/lib/python3.11/site-packages/sklearn/base.py:464: UserWarning: X does not have valid feature names, but LinearRegression was fitted with feature names\n",
      "  warnings.warn(\n",
      "/Users/Daniel/opt/anaconda3/envs/UChicago1_macbook/lib/python3.11/site-packages/sklearn/base.py:464: UserWarning: X does not have valid feature names, but LinearRegression was fitted with feature names\n",
      "  warnings.warn(\n",
      "/Users/Daniel/opt/anaconda3/envs/UChicago1_macbook/lib/python3.11/site-packages/sklearn/base.py:464: UserWarning: X does not have valid feature names, but LinearRegression was fitted with feature names\n",
      "  warnings.warn(\n",
      "/Users/Daniel/opt/anaconda3/envs/UChicago1_macbook/lib/python3.11/site-packages/sklearn/base.py:464: UserWarning: X does not have valid feature names, but LinearRegression was fitted with feature names\n",
      "  warnings.warn(\n",
      "/Users/Daniel/opt/anaconda3/envs/UChicago1_macbook/lib/python3.11/site-packages/sklearn/base.py:464: UserWarning: X does not have valid feature names, but LinearRegression was fitted with feature names\n",
      "  warnings.warn(\n",
      "/Users/Daniel/opt/anaconda3/envs/UChicago1_macbook/lib/python3.11/site-packages/sklearn/base.py:464: UserWarning: X does not have valid feature names, but LinearRegression was fitted with feature names\n",
      "  warnings.warn(\n",
      "/Users/Daniel/opt/anaconda3/envs/UChicago1_macbook/lib/python3.11/site-packages/sklearn/base.py:464: UserWarning: X does not have valid feature names, but LinearRegression was fitted with feature names\n",
      "  warnings.warn(\n",
      "/Users/Daniel/opt/anaconda3/envs/UChicago1_macbook/lib/python3.11/site-packages/sklearn/base.py:464: UserWarning: X does not have valid feature names, but LinearRegression was fitted with feature names\n",
      "  warnings.warn(\n",
      "/Users/Daniel/opt/anaconda3/envs/UChicago1_macbook/lib/python3.11/site-packages/sklearn/base.py:464: UserWarning: X does not have valid feature names, but LinearRegression was fitted with feature names\n",
      "  warnings.warn(\n",
      "/Users/Daniel/opt/anaconda3/envs/UChicago1_macbook/lib/python3.11/site-packages/sklearn/base.py:464: UserWarning: X does not have valid feature names, but LinearRegression was fitted with feature names\n",
      "  warnings.warn(\n",
      "/Users/Daniel/opt/anaconda3/envs/UChicago1_macbook/lib/python3.11/site-packages/sklearn/base.py:464: UserWarning: X does not have valid feature names, but LinearRegression was fitted with feature names\n",
      "  warnings.warn(\n",
      "/Users/Daniel/opt/anaconda3/envs/UChicago1_macbook/lib/python3.11/site-packages/sklearn/base.py:464: UserWarning: X does not have valid feature names, but LinearRegression was fitted with feature names\n",
      "  warnings.warn(\n",
      "/Users/Daniel/opt/anaconda3/envs/UChicago1_macbook/lib/python3.11/site-packages/sklearn/base.py:464: UserWarning: X does not have valid feature names, but LinearRegression was fitted with feature names\n",
      "  warnings.warn(\n",
      "/Users/Daniel/opt/anaconda3/envs/UChicago1_macbook/lib/python3.11/site-packages/sklearn/base.py:464: UserWarning: X does not have valid feature names, but LinearRegression was fitted with feature names\n",
      "  warnings.warn(\n",
      "/Users/Daniel/opt/anaconda3/envs/UChicago1_macbook/lib/python3.11/site-packages/sklearn/base.py:464: UserWarning: X does not have valid feature names, but LinearRegression was fitted with feature names\n",
      "  warnings.warn(\n",
      "/Users/Daniel/opt/anaconda3/envs/UChicago1_macbook/lib/python3.11/site-packages/sklearn/base.py:464: UserWarning: X does not have valid feature names, but LinearRegression was fitted with feature names\n",
      "  warnings.warn(\n",
      "/Users/Daniel/opt/anaconda3/envs/UChicago1_macbook/lib/python3.11/site-packages/sklearn/base.py:464: UserWarning: X does not have valid feature names, but LinearRegression was fitted with feature names\n",
      "  warnings.warn(\n",
      "/Users/Daniel/opt/anaconda3/envs/UChicago1_macbook/lib/python3.11/site-packages/sklearn/base.py:464: UserWarning: X does not have valid feature names, but LinearRegression was fitted with feature names\n",
      "  warnings.warn(\n",
      "/Users/Daniel/opt/anaconda3/envs/UChicago1_macbook/lib/python3.11/site-packages/sklearn/base.py:464: UserWarning: X does not have valid feature names, but LinearRegression was fitted with feature names\n",
      "  warnings.warn(\n",
      "/Users/Daniel/opt/anaconda3/envs/UChicago1_macbook/lib/python3.11/site-packages/sklearn/base.py:464: UserWarning: X does not have valid feature names, but LinearRegression was fitted with feature names\n",
      "  warnings.warn(\n",
      "/Users/Daniel/opt/anaconda3/envs/UChicago1_macbook/lib/python3.11/site-packages/sklearn/base.py:464: UserWarning: X does not have valid feature names, but LinearRegression was fitted with feature names\n",
      "  warnings.warn(\n",
      "/Users/Daniel/opt/anaconda3/envs/UChicago1_macbook/lib/python3.11/site-packages/sklearn/base.py:464: UserWarning: X does not have valid feature names, but LinearRegression was fitted with feature names\n",
      "  warnings.warn(\n",
      "/Users/Daniel/opt/anaconda3/envs/UChicago1_macbook/lib/python3.11/site-packages/sklearn/base.py:464: UserWarning: X does not have valid feature names, but LinearRegression was fitted with feature names\n",
      "  warnings.warn(\n",
      "/Users/Daniel/opt/anaconda3/envs/UChicago1_macbook/lib/python3.11/site-packages/sklearn/base.py:464: UserWarning: X does not have valid feature names, but LinearRegression was fitted with feature names\n",
      "  warnings.warn(\n",
      "/Users/Daniel/opt/anaconda3/envs/UChicago1_macbook/lib/python3.11/site-packages/sklearn/base.py:464: UserWarning: X does not have valid feature names, but LinearRegression was fitted with feature names\n",
      "  warnings.warn(\n",
      "/Users/Daniel/opt/anaconda3/envs/UChicago1_macbook/lib/python3.11/site-packages/sklearn/base.py:464: UserWarning: X does not have valid feature names, but LinearRegression was fitted with feature names\n",
      "  warnings.warn(\n",
      "/Users/Daniel/opt/anaconda3/envs/UChicago1_macbook/lib/python3.11/site-packages/sklearn/base.py:464: UserWarning: X does not have valid feature names, but LinearRegression was fitted with feature names\n",
      "  warnings.warn(\n",
      "/Users/Daniel/opt/anaconda3/envs/UChicago1_macbook/lib/python3.11/site-packages/sklearn/base.py:464: UserWarning: X does not have valid feature names, but LinearRegression was fitted with feature names\n",
      "  warnings.warn(\n",
      "/Users/Daniel/opt/anaconda3/envs/UChicago1_macbook/lib/python3.11/site-packages/sklearn/base.py:464: UserWarning: X does not have valid feature names, but LinearRegression was fitted with feature names\n",
      "  warnings.warn(\n",
      "/Users/Daniel/opt/anaconda3/envs/UChicago1_macbook/lib/python3.11/site-packages/sklearn/base.py:464: UserWarning: X does not have valid feature names, but LinearRegression was fitted with feature names\n",
      "  warnings.warn(\n",
      "/Users/Daniel/opt/anaconda3/envs/UChicago1_macbook/lib/python3.11/site-packages/sklearn/base.py:464: UserWarning: X does not have valid feature names, but LinearRegression was fitted with feature names\n",
      "  warnings.warn(\n",
      "/Users/Daniel/opt/anaconda3/envs/UChicago1_macbook/lib/python3.11/site-packages/sklearn/base.py:464: UserWarning: X does not have valid feature names, but LinearRegression was fitted with feature names\n",
      "  warnings.warn(\n",
      "/Users/Daniel/opt/anaconda3/envs/UChicago1_macbook/lib/python3.11/site-packages/sklearn/base.py:464: UserWarning: X does not have valid feature names, but LinearRegression was fitted with feature names\n",
      "  warnings.warn(\n",
      "/Users/Daniel/opt/anaconda3/envs/UChicago1_macbook/lib/python3.11/site-packages/sklearn/base.py:464: UserWarning: X does not have valid feature names, but LinearRegression was fitted with feature names\n",
      "  warnings.warn(\n",
      "/Users/Daniel/opt/anaconda3/envs/UChicago1_macbook/lib/python3.11/site-packages/sklearn/base.py:464: UserWarning: X does not have valid feature names, but LinearRegression was fitted with feature names\n",
      "  warnings.warn(\n",
      "/Users/Daniel/opt/anaconda3/envs/UChicago1_macbook/lib/python3.11/site-packages/sklearn/base.py:464: UserWarning: X does not have valid feature names, but LinearRegression was fitted with feature names\n",
      "  warnings.warn(\n",
      "/Users/Daniel/opt/anaconda3/envs/UChicago1_macbook/lib/python3.11/site-packages/sklearn/base.py:464: UserWarning: X does not have valid feature names, but LinearRegression was fitted with feature names\n",
      "  warnings.warn(\n",
      "/Users/Daniel/opt/anaconda3/envs/UChicago1_macbook/lib/python3.11/site-packages/sklearn/base.py:464: UserWarning: X does not have valid feature names, but LinearRegression was fitted with feature names\n",
      "  warnings.warn(\n",
      "/Users/Daniel/opt/anaconda3/envs/UChicago1_macbook/lib/python3.11/site-packages/sklearn/base.py:464: UserWarning: X does not have valid feature names, but LinearRegression was fitted with feature names\n",
      "  warnings.warn(\n",
      "/Users/Daniel/opt/anaconda3/envs/UChicago1_macbook/lib/python3.11/site-packages/sklearn/base.py:464: UserWarning: X does not have valid feature names, but LinearRegression was fitted with feature names\n",
      "  warnings.warn(\n",
      "/Users/Daniel/opt/anaconda3/envs/UChicago1_macbook/lib/python3.11/site-packages/sklearn/base.py:464: UserWarning: X does not have valid feature names, but LinearRegression was fitted with feature names\n",
      "  warnings.warn(\n",
      "/Users/Daniel/opt/anaconda3/envs/UChicago1_macbook/lib/python3.11/site-packages/sklearn/base.py:464: UserWarning: X does not have valid feature names, but LinearRegression was fitted with feature names\n",
      "  warnings.warn(\n",
      "/Users/Daniel/opt/anaconda3/envs/UChicago1_macbook/lib/python3.11/site-packages/sklearn/base.py:464: UserWarning: X does not have valid feature names, but LinearRegression was fitted with feature names\n",
      "  warnings.warn(\n",
      "/Users/Daniel/opt/anaconda3/envs/UChicago1_macbook/lib/python3.11/site-packages/sklearn/base.py:464: UserWarning: X does not have valid feature names, but LinearRegression was fitted with feature names\n",
      "  warnings.warn(\n",
      "/Users/Daniel/opt/anaconda3/envs/UChicago1_macbook/lib/python3.11/site-packages/sklearn/base.py:464: UserWarning: X does not have valid feature names, but LinearRegression was fitted with feature names\n",
      "  warnings.warn(\n",
      "/Users/Daniel/opt/anaconda3/envs/UChicago1_macbook/lib/python3.11/site-packages/sklearn/base.py:464: UserWarning: X does not have valid feature names, but LinearRegression was fitted with feature names\n",
      "  warnings.warn(\n",
      "/Users/Daniel/opt/anaconda3/envs/UChicago1_macbook/lib/python3.11/site-packages/sklearn/base.py:464: UserWarning: X does not have valid feature names, but LinearRegression was fitted with feature names\n",
      "  warnings.warn(\n",
      "/Users/Daniel/opt/anaconda3/envs/UChicago1_macbook/lib/python3.11/site-packages/sklearn/base.py:464: UserWarning: X does not have valid feature names, but LinearRegression was fitted with feature names\n",
      "  warnings.warn(\n",
      "/Users/Daniel/opt/anaconda3/envs/UChicago1_macbook/lib/python3.11/site-packages/sklearn/base.py:464: UserWarning: X does not have valid feature names, but LinearRegression was fitted with feature names\n",
      "  warnings.warn(\n",
      "/Users/Daniel/opt/anaconda3/envs/UChicago1_macbook/lib/python3.11/site-packages/sklearn/base.py:464: UserWarning: X does not have valid feature names, but LinearRegression was fitted with feature names\n",
      "  warnings.warn(\n",
      "/Users/Daniel/opt/anaconda3/envs/UChicago1_macbook/lib/python3.11/site-packages/sklearn/base.py:464: UserWarning: X does not have valid feature names, but LinearRegression was fitted with feature names\n",
      "  warnings.warn(\n",
      "/Users/Daniel/opt/anaconda3/envs/UChicago1_macbook/lib/python3.11/site-packages/sklearn/base.py:464: UserWarning: X does not have valid feature names, but LinearRegression was fitted with feature names\n",
      "  warnings.warn(\n",
      "/Users/Daniel/opt/anaconda3/envs/UChicago1_macbook/lib/python3.11/site-packages/sklearn/base.py:464: UserWarning: X does not have valid feature names, but LinearRegression was fitted with feature names\n",
      "  warnings.warn(\n",
      "/Users/Daniel/opt/anaconda3/envs/UChicago1_macbook/lib/python3.11/site-packages/sklearn/base.py:464: UserWarning: X does not have valid feature names, but LinearRegression was fitted with feature names\n",
      "  warnings.warn(\n",
      "/Users/Daniel/opt/anaconda3/envs/UChicago1_macbook/lib/python3.11/site-packages/sklearn/base.py:464: UserWarning: X does not have valid feature names, but LinearRegression was fitted with feature names\n",
      "  warnings.warn(\n",
      "/Users/Daniel/opt/anaconda3/envs/UChicago1_macbook/lib/python3.11/site-packages/sklearn/base.py:464: UserWarning: X does not have valid feature names, but LinearRegression was fitted with feature names\n",
      "  warnings.warn(\n",
      "/Users/Daniel/opt/anaconda3/envs/UChicago1_macbook/lib/python3.11/site-packages/sklearn/base.py:464: UserWarning: X does not have valid feature names, but LinearRegression was fitted with feature names\n",
      "  warnings.warn(\n",
      "/Users/Daniel/opt/anaconda3/envs/UChicago1_macbook/lib/python3.11/site-packages/sklearn/base.py:464: UserWarning: X does not have valid feature names, but LinearRegression was fitted with feature names\n",
      "  warnings.warn(\n",
      "/Users/Daniel/opt/anaconda3/envs/UChicago1_macbook/lib/python3.11/site-packages/sklearn/base.py:464: UserWarning: X does not have valid feature names, but LinearRegression was fitted with feature names\n",
      "  warnings.warn(\n",
      "/Users/Daniel/opt/anaconda3/envs/UChicago1_macbook/lib/python3.11/site-packages/sklearn/base.py:464: UserWarning: X does not have valid feature names, but LinearRegression was fitted with feature names\n",
      "  warnings.warn(\n",
      "/Users/Daniel/opt/anaconda3/envs/UChicago1_macbook/lib/python3.11/site-packages/sklearn/base.py:464: UserWarning: X does not have valid feature names, but LinearRegression was fitted with feature names\n",
      "  warnings.warn(\n",
      "/Users/Daniel/opt/anaconda3/envs/UChicago1_macbook/lib/python3.11/site-packages/sklearn/base.py:464: UserWarning: X does not have valid feature names, but LinearRegression was fitted with feature names\n",
      "  warnings.warn(\n",
      "/Users/Daniel/opt/anaconda3/envs/UChicago1_macbook/lib/python3.11/site-packages/sklearn/base.py:464: UserWarning: X does not have valid feature names, but LinearRegression was fitted with feature names\n",
      "  warnings.warn(\n",
      "/Users/Daniel/opt/anaconda3/envs/UChicago1_macbook/lib/python3.11/site-packages/sklearn/base.py:464: UserWarning: X does not have valid feature names, but LinearRegression was fitted with feature names\n",
      "  warnings.warn(\n",
      "/Users/Daniel/opt/anaconda3/envs/UChicago1_macbook/lib/python3.11/site-packages/sklearn/base.py:464: UserWarning: X does not have valid feature names, but LinearRegression was fitted with feature names\n",
      "  warnings.warn(\n",
      "/Users/Daniel/opt/anaconda3/envs/UChicago1_macbook/lib/python3.11/site-packages/sklearn/base.py:464: UserWarning: X does not have valid feature names, but LinearRegression was fitted with feature names\n",
      "  warnings.warn(\n",
      "/Users/Daniel/opt/anaconda3/envs/UChicago1_macbook/lib/python3.11/site-packages/sklearn/base.py:464: UserWarning: X does not have valid feature names, but LinearRegression was fitted with feature names\n",
      "  warnings.warn(\n",
      "/Users/Daniel/opt/anaconda3/envs/UChicago1_macbook/lib/python3.11/site-packages/sklearn/base.py:464: UserWarning: X does not have valid feature names, but LinearRegression was fitted with feature names\n",
      "  warnings.warn(\n",
      "/Users/Daniel/opt/anaconda3/envs/UChicago1_macbook/lib/python3.11/site-packages/sklearn/base.py:464: UserWarning: X does not have valid feature names, but LinearRegression was fitted with feature names\n",
      "  warnings.warn(\n",
      "/Users/Daniel/opt/anaconda3/envs/UChicago1_macbook/lib/python3.11/site-packages/sklearn/base.py:464: UserWarning: X does not have valid feature names, but LinearRegression was fitted with feature names\n",
      "  warnings.warn(\n",
      "/Users/Daniel/opt/anaconda3/envs/UChicago1_macbook/lib/python3.11/site-packages/sklearn/base.py:464: UserWarning: X does not have valid feature names, but LinearRegression was fitted with feature names\n",
      "  warnings.warn(\n"
     ]
    }
   ],
   "source": [
    "dates=forecast['date'][forecast['date']>='2018']\n",
    "df5=forecast.copy()\n",
    "df5.drop(columns='wt', inplace=True)\n",
    "df5['forecast']=np.nan\n",
    "for i in dates:\n",
    "    X=forecasting[forecasting['date']<i][['Tnote rate','Tnote rate change']].shift(1).dropna()\n",
    "    y=forecasting[forecasting['date']<i]['USO'].iloc[1:]\n",
    "    model=LinearRegression()\n",
    "    model.fit(X,y)\n",
    "    prediction=model.predict(np.array(forecasting[forecasting['date']<i].iloc[-1][['Tnote rate','Tnote rate change']]).reshape(1,-1))\n",
    "    df5.loc[df5['date']==i,'forecast']=prediction"
   ]
  },
  {
   "cell_type": "code",
   "execution_count": 18,
   "metadata": {},
   "outputs": [
    {
     "name": "stdout",
     "output_type": "stream",
     "text": [
      "First 5 rows of the forecast:\n"
     ]
    },
    {
     "data": {
      "text/html": [
       "<div>\n",
       "<style scoped>\n",
       "    .dataframe tbody tr th:only-of-type {\n",
       "        vertical-align: middle;\n",
       "    }\n",
       "\n",
       "    .dataframe tbody tr th {\n",
       "        vertical-align: top;\n",
       "    }\n",
       "\n",
       "    .dataframe thead th {\n",
       "        text-align: right;\n",
       "    }\n",
       "</style>\n",
       "<table border=\"1\" class=\"dataframe\">\n",
       "  <thead>\n",
       "    <tr style=\"text-align: right;\">\n",
       "      <th></th>\n",
       "      <th>date</th>\n",
       "      <th>forecast</th>\n",
       "    </tr>\n",
       "  </thead>\n",
       "  <tbody>\n",
       "    <tr>\n",
       "      <th>104</th>\n",
       "      <td>2018-01-31</td>\n",
       "      <td>-0.007559</td>\n",
       "    </tr>\n",
       "    <tr>\n",
       "      <th>105</th>\n",
       "      <td>2018-02-28</td>\n",
       "      <td>0.002248</td>\n",
       "    </tr>\n",
       "    <tr>\n",
       "      <th>106</th>\n",
       "      <td>2018-03-31</td>\n",
       "      <td>-0.005113</td>\n",
       "    </tr>\n",
       "    <tr>\n",
       "      <th>107</th>\n",
       "      <td>2018-04-30</td>\n",
       "      <td>-0.011960</td>\n",
       "    </tr>\n",
       "    <tr>\n",
       "      <th>108</th>\n",
       "      <td>2018-05-31</td>\n",
       "      <td>-0.002330</td>\n",
       "    </tr>\n",
       "  </tbody>\n",
       "</table>\n",
       "</div>"
      ],
      "text/plain": [
       "          date  forecast\n",
       "104 2018-01-31 -0.007559\n",
       "105 2018-02-28  0.002248\n",
       "106 2018-03-31 -0.005113\n",
       "107 2018-04-30 -0.011960\n",
       "108 2018-05-31 -0.002330"
      ]
     },
     "execution_count": 18,
     "metadata": {},
     "output_type": "execute_result"
    }
   ],
   "source": [
    "df5.dropna(inplace=True)\n",
    "print('First 5 rows of the forecast:')\n",
    "df5[['date','forecast']].head()"
   ]
  },
  {
   "cell_type": "code",
   "execution_count": 19,
   "metadata": {},
   "outputs": [
    {
     "name": "stdout",
     "output_type": "stream",
     "text": [
      "Last 5 rows of the forecast:\n"
     ]
    },
    {
     "data": {
      "text/html": [
       "<div>\n",
       "<style scoped>\n",
       "    .dataframe tbody tr th:only-of-type {\n",
       "        vertical-align: middle;\n",
       "    }\n",
       "\n",
       "    .dataframe tbody tr th {\n",
       "        vertical-align: top;\n",
       "    }\n",
       "\n",
       "    .dataframe thead th {\n",
       "        text-align: right;\n",
       "    }\n",
       "</style>\n",
       "<table border=\"1\" class=\"dataframe\">\n",
       "  <thead>\n",
       "    <tr style=\"text-align: right;\">\n",
       "      <th></th>\n",
       "      <th>date</th>\n",
       "      <th>forecast</th>\n",
       "    </tr>\n",
       "  </thead>\n",
       "  <tbody>\n",
       "    <tr>\n",
       "      <th>170</th>\n",
       "      <td>2023-07-31</td>\n",
       "      <td>-0.006231</td>\n",
       "    </tr>\n",
       "    <tr>\n",
       "      <th>171</th>\n",
       "      <td>2023-08-31</td>\n",
       "      <td>-0.006372</td>\n",
       "    </tr>\n",
       "    <tr>\n",
       "      <th>172</th>\n",
       "      <td>2023-09-30</td>\n",
       "      <td>-0.007037</td>\n",
       "    </tr>\n",
       "    <tr>\n",
       "      <th>173</th>\n",
       "      <td>2023-10-31</td>\n",
       "      <td>0.019210</td>\n",
       "    </tr>\n",
       "    <tr>\n",
       "      <th>174</th>\n",
       "      <td>2023-11-30</td>\n",
       "      <td>-0.002345</td>\n",
       "    </tr>\n",
       "  </tbody>\n",
       "</table>\n",
       "</div>"
      ],
      "text/plain": [
       "          date  forecast\n",
       "170 2023-07-31 -0.006231\n",
       "171 2023-08-31 -0.006372\n",
       "172 2023-09-30 -0.007037\n",
       "173 2023-10-31  0.019210\n",
       "174 2023-11-30 -0.002345"
      ]
     },
     "execution_count": 19,
     "metadata": {},
     "output_type": "execute_result"
    }
   ],
   "source": [
    "print('Last 5 rows of the forecast:')\n",
    "df5[['date','forecast']].tail()"
   ]
  },
  {
   "cell_type": "markdown",
   "id": "e219d4a1",
   "metadata": {},
   "source": [
    "### 6. \n",
    "\n",
    "#### (8pts)\n",
    "\n",
    "Report the out-of-sample r-squared, relative to a baseline forecast which is simply the mean of $\\targ$ up to the point the forecast is made.\n",
    "\n",
    "Does the forecast seem effective?"
   ]
  },
  {
   "cell_type": "code",
   "execution_count": 20,
   "metadata": {},
   "outputs": [],
   "source": [
    "temp=forecasting.copy()\n",
    "temp['cum_mean_forecast']=temp['USO'].expanding().mean().shift(1)\n",
    "df5=pd.merge(df5,temp[['date','cum_mean_forecast']],on='date')"
   ]
  },
  {
   "cell_type": "code",
   "execution_count": 21,
   "metadata": {},
   "outputs": [
    {
     "name": "stdout",
     "output_type": "stream",
     "text": [
      "R2 score: -0.0044913307399883085\n"
     ]
    }
   ],
   "source": [
    "RSS=np.sum((df5['USO']-df5['forecast'])**2)\n",
    "TSS=np.sum((df5['USO']-df5['cum_mean_forecast'])**2)\n",
    "print('R2 score:',1-RSS/TSS)"
   ]
  },
  {
   "cell_type": "markdown",
   "metadata": {},
   "source": [
    "The forecast does not seems effective. The R2 is very low."
   ]
  },
  {
   "cell_type": "markdown",
   "id": "17b18e0f",
   "metadata": {},
   "source": [
    "### 7. \n",
    "\n",
    "Report the correlation between \n",
    "* OOS forecast\n",
    "* realized value of $\\targ$.\n",
    "\n",
    "In light of this, how effective does the forecast seem?"
   ]
  },
  {
   "cell_type": "code",
   "execution_count": 22,
   "metadata": {},
   "outputs": [
    {
     "data": {
      "image/png": "[encoded data removed]",
      "text/plain": [
       "<Figure size 1600x600 with 2 Axes>"
      ]
     },
     "metadata": {},
     "output_type": "display_data"
    }
   ],
   "source": [
    "correlation_heatmap(df5)"
   ]
  },
  {
   "cell_type": "code",
   "execution_count": 23,
   "metadata": {},
   "outputs": [
    {
     "name": "stdout",
     "output_type": "stream",
     "text": [
      "Correlation between OOS forecast and realized value: 0.03192\n"
     ]
    }
   ],
   "source": [
    "print('Correlation between OOS forecast and realized value:',round(np.corrcoef(df5['USO'],df5['forecast'])[0][1],5))"
   ]
  },
  {
   "cell_type": "markdown",
   "metadata": {},
   "source": [
    "The forecast does not seem very effective. The correlation is very low."
   ]
  },
  {
   "cell_type": "markdown",
   "id": "20fa6765",
   "metadata": {},
   "source": [
    "### 8.\n",
    "\n",
    "#### (7pts)\n",
    "\n",
    "Convert your OOS forecast to a traded return strategy, using the same allocation rule as in part 2.\n",
    "\n",
    "Report the following performance stats for the OOS forecast strategy.\n",
    "\n",
    "* mean\n",
    "* volatility\n",
    "* max-drawdown\n",
    "\n",
    "Compare these with the passive return, $r^\\targ$ over the same OOS window."
   ]
  },
  {
   "cell_type": "code",
   "execution_count": 24,
   "metadata": {},
   "outputs": [
    {
     "data": {
      "text/html": [
       "<div>\n",
       "<style scoped>\n",
       "    .dataframe tbody tr th:only-of-type {\n",
       "        vertical-align: middle;\n",
       "    }\n",
       "\n",
       "    .dataframe tbody tr th {\n",
       "        vertical-align: top;\n",
       "    }\n",
       "\n",
       "    .dataframe thead th {\n",
       "        text-align: right;\n",
       "    }\n",
       "</style>\n",
       "<table border=\"1\" class=\"dataframe\">\n",
       "  <thead>\n",
       "    <tr style=\"text-align: right;\">\n",
       "      <th></th>\n",
       "      <th>Pasive</th>\n",
       "      <th>Strategy</th>\n",
       "    </tr>\n",
       "  </thead>\n",
       "  <tbody>\n",
       "    <tr>\n",
       "      <th>mean</th>\n",
       "      <td>0.074152</td>\n",
       "      <td>0.063566</td>\n",
       "    </tr>\n",
       "    <tr>\n",
       "      <th>volatility</th>\n",
       "      <td>0.446715</td>\n",
       "      <td>0.47567</td>\n",
       "    </tr>\n",
       "    <tr>\n",
       "      <th>Max_Drawdown</th>\n",
       "      <td>-0.846005</td>\n",
       "      <td>-0.818974</td>\n",
       "    </tr>\n",
       "  </tbody>\n",
       "</table>\n",
       "</div>"
      ],
      "text/plain": [
       "                Pasive  Strategy\n",
       "mean          0.074152  0.063566\n",
       "volatility    0.446715   0.47567\n",
       "Max_Drawdown -0.846005 -0.818974"
      ]
     },
     "execution_count": 24,
     "metadata": {},
     "output_type": "execute_result"
    }
   ],
   "source": [
    "df5['wt_forecast']=0.5+(50*df5['forecast'])\n",
    "df5['forecast_ret']=df5['USO']*df5['wt_forecast']\n",
    "tdf5res=calculate_statistics(df5[['date','USO','forecast_ret']],12,0.05,0.05,True)\n",
    "tdf5res.loc['Max_Drawdown']=tdf5res.loc['Max_Drawdown'].apply(lambda x: x['max_drawdown'])\n",
    "tdf5res.rename(columns={'USO':'Pasive','forecast_ret':'Strategy'}, inplace=True)\n",
    "tdf5res.loc[['mean','volatility','Max_Drawdown'],:]\n"
   ]
  },
  {
   "cell_type": "markdown",
   "metadata": {},
   "source": [
    "The pasive strategy seems to perform marginally better in mean and vol, although the max drawdown is a bit worse."
   ]
  },
  {
   "cell_type": "markdown",
   "id": "39f49e1d",
   "metadata": {},
   "source": [
    "***"
   ]
  },
  {
   "cell_type": "markdown",
   "id": "1ad0fe9b",
   "metadata": {},
   "source": [
    "# 4. "
   ]
  },
  {
   "cell_type": "markdown",
   "id": "b8d54909",
   "metadata": {},
   "source": [
    "We examine FX carry for trading the Mexican peso $\\frn$.\n",
    "* Find the FX and risk-free rate data for this problem on sheet `fx_carry`. As before, these are spot FX prices quoted as USD per $\\frn$.\n",
    "* SOFR is the risk-free rate on USD, and $\\frnrate$ is the risk-free rate for $\\frn$.\n",
    "* As in Homework 8, the data is provided such that any row’s date, $t$, is reporting $S_t$ and $r^f_{t,t+1}$.\n",
    "That is, both of these are known at time t."
   ]
  },
  {
   "cell_type": "code",
   "execution_count": 25,
   "metadata": {},
   "outputs": [],
   "source": [
    "fx_daily=pd.read_excel('../data/final_exam_data.xlsx',sheet_name='fx_carry')"
   ]
  },
  {
   "cell_type": "code",
   "execution_count": 26,
   "metadata": {},
   "outputs": [
    {
     "data": {
      "text/html": [
       "<div>\n",
       "<style scoped>\n",
       "    .dataframe tbody tr th:only-of-type {\n",
       "        vertical-align: middle;\n",
       "    }\n",
       "\n",
       "    .dataframe tbody tr th {\n",
       "        vertical-align: top;\n",
       "    }\n",
       "\n",
       "    .dataframe thead th {\n",
       "        text-align: right;\n",
       "    }\n",
       "</style>\n",
       "<table border=\"1\" class=\"dataframe\">\n",
       "  <thead>\n",
       "    <tr style=\"text-align: right;\">\n",
       "      <th></th>\n",
       "      <th>date</th>\n",
       "      <th>MXN</th>\n",
       "      <th>SOFR</th>\n",
       "      <th>MXSTR</th>\n",
       "    </tr>\n",
       "  </thead>\n",
       "  <tbody>\n",
       "    <tr>\n",
       "      <th>0</th>\n",
       "      <td>2018-04-03</td>\n",
       "      <td>0.054959</td>\n",
       "      <td>0.000073</td>\n",
       "      <td>0.000298</td>\n",
       "    </tr>\n",
       "    <tr>\n",
       "      <th>1</th>\n",
       "      <td>2018-04-04</td>\n",
       "      <td>0.054852</td>\n",
       "      <td>0.000069</td>\n",
       "      <td>0.000298</td>\n",
       "    </tr>\n",
       "    <tr>\n",
       "      <th>2</th>\n",
       "      <td>2018-04-05</td>\n",
       "      <td>0.055166</td>\n",
       "      <td>0.000069</td>\n",
       "      <td>0.000298</td>\n",
       "    </tr>\n",
       "    <tr>\n",
       "      <th>3</th>\n",
       "      <td>2018-04-06</td>\n",
       "      <td>0.054558</td>\n",
       "      <td>0.000069</td>\n",
       "      <td>0.000298</td>\n",
       "    </tr>\n",
       "    <tr>\n",
       "      <th>4</th>\n",
       "      <td>2018-04-09</td>\n",
       "      <td>0.054871</td>\n",
       "      <td>0.000069</td>\n",
       "      <td>0.000298</td>\n",
       "    </tr>\n",
       "    <tr>\n",
       "      <th>...</th>\n",
       "      <td>...</td>\n",
       "      <td>...</td>\n",
       "      <td>...</td>\n",
       "      <td>...</td>\n",
       "    </tr>\n",
       "    <tr>\n",
       "      <th>1375</th>\n",
       "      <td>2023-11-24</td>\n",
       "      <td>0.058392</td>\n",
       "      <td>0.000211</td>\n",
       "      <td>0.000446</td>\n",
       "    </tr>\n",
       "    <tr>\n",
       "      <th>1376</th>\n",
       "      <td>2023-11-27</td>\n",
       "      <td>0.058302</td>\n",
       "      <td>0.000211</td>\n",
       "      <td>0.000446</td>\n",
       "    </tr>\n",
       "    <tr>\n",
       "      <th>1377</th>\n",
       "      <td>2023-11-28</td>\n",
       "      <td>0.058418</td>\n",
       "      <td>0.000211</td>\n",
       "      <td>0.000446</td>\n",
       "    </tr>\n",
       "    <tr>\n",
       "      <th>1378</th>\n",
       "      <td>2023-11-29</td>\n",
       "      <td>0.058132</td>\n",
       "      <td>0.000211</td>\n",
       "      <td>0.000446</td>\n",
       "    </tr>\n",
       "    <tr>\n",
       "      <th>1379</th>\n",
       "      <td>2023-11-30</td>\n",
       "      <td>0.057551</td>\n",
       "      <td>0.000212</td>\n",
       "      <td>0.000446</td>\n",
       "    </tr>\n",
       "  </tbody>\n",
       "</table>\n",
       "<p>1380 rows × 4 columns</p>\n",
       "</div>"
      ],
      "text/plain": [
       "           date       MXN      SOFR     MXSTR\n",
       "0    2018-04-03  0.054959  0.000073  0.000298\n",
       "1    2018-04-04  0.054852  0.000069  0.000298\n",
       "2    2018-04-05  0.055166  0.000069  0.000298\n",
       "3    2018-04-06  0.054558  0.000069  0.000298\n",
       "4    2018-04-09  0.054871  0.000069  0.000298\n",
       "...         ...       ...       ...       ...\n",
       "1375 2023-11-24  0.058392  0.000211  0.000446\n",
       "1376 2023-11-27  0.058302  0.000211  0.000446\n",
       "1377 2023-11-28  0.058418  0.000211  0.000446\n",
       "1378 2023-11-29  0.058132  0.000211  0.000446\n",
       "1379 2023-11-30  0.057551  0.000212  0.000446\n",
       "\n",
       "[1380 rows x 4 columns]"
      ]
     },
     "execution_count": 26,
     "metadata": {},
     "output_type": "execute_result"
    }
   ],
   "source": [
    "fx_daily"
   ]
  },
  {
   "cell_type": "markdown",
   "id": "d7b43578",
   "metadata": {},
   "source": [
    "### 1.\n",
    "#### (3pts)\n",
    "\n",
    "Transform the data to **log** FX prices and **log** interest rates, just as we did in Homework 8.\n",
    "\n",
    "$$\\begin{align}\n",
    "\\fxspot_t & \\equiv \\ln\\left(\\FXspot_t\\right)\\\\[3pt]\n",
    "\\rflogusd_{\\wintt} & \\equiv \\ln\\left(1+r^{\\text{USD}}_{\\wintt}\\right)\\\\[3pt]\n",
    "\\rflogfrn_{\\wintt} & \\equiv \\ln\\left(1+r^{\\frn}_{\\wintt}\\right)\\\\\n",
    "\\end{align}$$\n",
    "\n",
    "\n",
    "Display the mean of all three series."
   ]
  },
  {
   "cell_type": "code",
   "execution_count": 27,
   "metadata": {},
   "outputs": [],
   "source": [
    "fx_daily['MXN']=np.log(fx_daily['MXN'])\n",
    "fx_daily['SOFR']=np.log(fx_daily['SOFR']+1)\n",
    "fx_daily['MXSTR']=np.log(fx_daily['MXSTR']+1)"
   ]
  },
  {
   "cell_type": "code",
   "execution_count": 28,
   "metadata": {},
   "outputs": [
    {
     "data": {
      "text/plain": [
       "date     2021-01-30 05:37:02.608695552\n",
       "MXN                          -2.981326\n",
       "SOFR                          0.000072\n",
       "MXSTR                         0.000291\n",
       "dtype: object"
      ]
     },
     "execution_count": 28,
     "metadata": {},
     "output_type": "execute_result"
    }
   ],
   "source": [
    "fx_daily.mean()"
   ]
  },
  {
   "cell_type": "markdown",
   "id": "16c8af81",
   "metadata": {},
   "source": [
    "### 2.\n",
    "\n",
    "Calculate the excess log return to a USD investor of holding $\\frn$. Report the following **annualized** stats...\n",
    "* Mean\n",
    "* Volatility\n",
    "* Sharpe ratio.\n",
    "\n",
    "Assume there are 252 reported days per year for pursposes of annnualization."
   ]
  },
  {
   "cell_type": "code",
   "execution_count": 29,
   "metadata": {},
   "outputs": [
    {
     "data": {
      "text/plain": [
       "{'mean': 0.06670778753543484,\n",
       " 'volatility': 0.1285773314793013,\n",
       " 'sharpe': 0.5188145279416817,\n",
       " 'skewness': -0.7713028838753212,\n",
       " 'kurtosis': 6.28998142439964,\n",
       " 'VaR': -0.013121091546541236,\n",
       " 'CVaR': -0.020164640033356634}"
      ]
     },
     "execution_count": 29,
     "metadata": {},
     "output_type": "execute_result"
    }
   ],
   "source": [
    "ret=fx_daily['MXN'].diff()+fx_daily['MXSTR'].shift(1)-fx_daily['SOFR'].shift(1)\n",
    "ret.dropna(inplace=True)\n",
    "tstats=calculate_statistics_array(np.array(ret),252,0.05,0.05)\n",
    "tstats"
   ]
  },
  {
   "cell_type": "markdown",
   "id": "882a14ec",
   "metadata": {},
   "source": [
    "### 3. \n",
    "\n",
    "Over the sample, was it better to be long or short $\\frn$ relative to USD?\n",
    "* Did the interest spread help on average?\n",
    "* Did the USD appreciate or depreciate relative to $\\frn$ over the sample?"
   ]
  },
  {
   "cell_type": "markdown",
   "metadata": {},
   "source": [
    "The mean return for holding (long) MXN is positive over the the sample. Consequently, it would have been better to be long MXN relative to USD.\n",
    "\n",
    "The interest spread helped the investor. The interest was higher for MXNSTR (compared to SOFR) for this period.\n",
    "\n",
    "During the sample time, the USD depreciated relative to MXN. (Exchange rate increased)"
   ]
  },
  {
   "cell_type": "markdown",
   "id": "966c2e52",
   "metadata": {},
   "source": [
    "### 4.\n",
    "\n",
    "#### (7pts)\n",
    "\n",
    "Forecast the growth of the FX rate using the interest-rate differential:\n",
    "\n",
    "$$\\fxspot_{t+1} - \\fxspot_t = \\alpha + \\beta\\left(\\rflogusd_{\\wintt} - \\rflogfrn_{\\wintt}\\right) + \\epsilon_{t+1}$$\n",
    "\n",
    "Report the following OLS stats, (no need to annualize or scale them.)\n",
    "* $\\alpha$\n",
    "* $\\beta$\n",
    "* r-squared"
   ]
  },
  {
   "cell_type": "code",
   "execution_count": 30,
   "metadata": {},
   "outputs": [
    {
     "name": "stdout",
     "output_type": "stream",
     "text": [
      "Intercept: 0.001144918235607656\n",
      "Beta: 5.081978852067023\n",
      "r-squared: 0.00036316195963082\n"
     ]
    }
   ],
   "source": [
    "model=LinearRegression()\n",
    "fx_daily.dropna(inplace=True)\n",
    "model.fit(\n",
    "    np.array((fx_daily['SOFR']-fx_daily['MXSTR']).shift(1).dropna()).reshape(-1,1),\n",
    "    np.array(fx_daily['MXN'].diff().dropna()).reshape(-1,1)\n",
    "    )\n",
    "print('Intercept:',model.intercept_[0])\n",
    "print('Beta:',model.coef_[0][0])\n",
    "print('r-squared:',\n",
    "      model.score(\n",
    "          np.array((fx_daily['SOFR']-fx_daily['MXSTR']).shift(1).dropna()).reshape(-1,1),\n",
    "          np.array(fx_daily['MXN'].diff().dropna()).reshape(-1,1)\n",
    "        )\n",
    "    )"
   ]
  },
  {
   "cell_type": "markdown",
   "id": "c0853d98",
   "metadata": {},
   "source": [
    "### 5. \n",
    "\n",
    "If we assume the Uncovered Interest Parity to hold true, what would you expect to be true of the regression estimates?"
   ]
  },
  {
   "cell_type": "markdown",
   "metadata": {},
   "source": [
    "UIP states that the change in the spot fx rate would be completely explained by the changes in risk free rates. Consequently, one would expect beta to be one, and alpha to be 0. Given that UIP states a parity in EXPECTATION, we have no expectation for r-squared values."
   ]
  },
  {
   "cell_type": "markdown",
   "id": "451d9df9",
   "metadata": {},
   "source": [
    "### 6.\n",
    "\n",
    "Based on the regression results, if we observe an increase in the interest rate on USD relative to $\\frn$, should we expect the USD to get stronger (appreciate) or weaker (depreciate)?"
   ]
  },
  {
   "cell_type": "markdown",
   "metadata": {},
   "source": [
    "A strengthening of the USD means that it now buys mode of the other currency that it did before. Alternatively, the foreign currency would decrease its value in USD. \n",
    "\n",
    "We obtained a positive beta. This means that the USD per MXN are expected to increase for increases in interest rates on USD relative to MXN. Equivalently, we would expect the **USD to weaken** with an increase in the interest rate on USD relative to MXN."
   ]
  },
  {
   "cell_type": "markdown",
   "id": "82badb39",
   "metadata": {},
   "source": [
    "### 7.\n",
    "\n",
    "If the risk free rates in $\\frn$ increase relative to risk-free rates in USD, do we expect the forward exchange rate to be higher than the spot exchange rate?"
   ]
  },
  {
   "cell_type": "markdown",
   "metadata": {},
   "source": [
    "CIP establishes that the forward-spot differencial in a foreign currency is equal to the differential in domestic - foreign risk-free rates. For an increase in relative risk-free rates  MXN relative to the USD (i.e. decrease of difference in domestic - foreign risk-free rates) we would expect a **lower forward exchange rate.**"
   ]
  },
  {
   "cell_type": "markdown",
   "id": "a5176e26",
   "metadata": {},
   "source": [
    "### 8.\n",
    "\n",
    "Do you think the estimated forecast impact of rates on currency returns would be larger over an annual horizon instead of a daily horizon? Why?"
   ]
  },
  {
   "cell_type": "markdown",
   "metadata": {},
   "source": [
    "Forecasted impacts amplify/compound over time for signals that have a high autocorrelation. Risk-free rates are a prime example of a dynamic with high autocorrelation. Consequently, the estimated impact of rates (again, which are very likely to have substantial autocorrelation) on currency returns would be **larger over an annual horizon instead of a daily horizon.**"
   ]
  },
  {
   "cell_type": "markdown",
   "id": "c9eb0321",
   "metadata": {},
   "source": [
    "***"
   ]
  }
 ],
 "metadata": {
  "hide_input": false,
  "kernelspec": {
   "display_name": "Python 3 (ipykernel)",
   "language": "python",
   "name": "python3"
  },
  "language_info": {
   "codemirror_mode": {
    "name": "ipython",
    "version": 3
   },
   "file_extension": ".py",
   "mimetype": "text/x-python",
   "name": "python",
   "nbconvert_exporter": "python",
   "pygments_lexer": "ipython3",
   "version": "3.11.5"
  }
 },
 "nbformat": 4,
 "nbformat_minor": 5
}
