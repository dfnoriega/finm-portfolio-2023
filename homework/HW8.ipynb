{
 "cells": [
  {
   "cell_type": "markdown",
   "metadata": {},
   "source": [
    "# Homework 8\n",
    "## Group C21\n",
    "* Daniel Noriega\n",
    "* Fernando Urbano\n",
    "* Xianbin Xu"
   ]
  },
  {
   "cell_type": "markdown",
   "metadata": {},
   "source": [
    "## 1. Conceptual issues for LTCM\n",
    "\n",
    "### 1.1 Describe LTCM’s investment strategy with regard to the following aspects: \n",
    "\n",
    "* **Securities traded**\n",
    "\n",
    "Interest-rate swaps, fixes-rate residential mortgages, government bonds and futures on those bonds, put and call options on broad stock market indexes, as well as individual stocks, among others. LTCM deployed its strategies principally in the UK, French, German and Japanese markets.\n",
    "\n",
    "* **Trading frequency**\n",
    "\n",
    "LTCM focused on medium- to long-term opportunities. Positions may have needed to be rebalanced more frequently, but the horizon of their strategies commonly spanned several months, or years. \n",
    "\n",
    "\n",
    "* **Skewness (Do they seek many small wins or a few big hits?)**\n",
    "\n",
    "LTCM focuses on small (but several) wins over long horizons.\n",
    "\n",
    "* **Forecasting (What is behind their selection of trades?)**\n",
    "\n",
    "Their strategies, LTCM belived, arose as a result of dislocactions in financial markets caused by insitutional demands, which would take an uncertain amount of time to be corrected.\n",
    "\n",
    "### 1.2. What are LTCM’s biggest advantages over its competitors?\n",
    "\n",
    "LTCM could (1) finance its trades very efficiently. In addition, (2) LTCM considered they had paritular expertise in the development of trading strategies using sophisticated analytical models. \n",
    "\n",
    "### 1.3. The case discusses four types of funding risk facing LTCM. The case discusses specific ways in which LTCM manages each of these risks.\n",
    "\n",
    "* **collateral haircuts**\n",
    "\n",
    "LTCM uses total-return swaps to finance some of its positions with zero haircuts. Its costs of carrying a position was limited to the spread it paid on the swaps. \n",
    "\n",
    "* **repo maturity**\n",
    "\n",
    "LTCM uses longer term maturity repos (6-12 months) as opposed to overnight and short-term repos to prevent difficulties when rolling over repo financing. It also monitored LTCM's repo financing maturity's structure constantly to ensure healthiness.\n",
    "\n",
    "* **equity redemption**\n",
    "\n",
    "Establishing withdrawal schemes that prevented investor from withdrawing large amounts/amounts that could endanger the company's financing in short horizons. LTCM staggered the maturiries of the Fund's equity capital.\n",
    "\n",
    "* **loan access**\n",
    "\n",
    "LTCM obtained $230 million of unsecured term loans. In addition, the firm negotiated a $700 million revolving line of credit. LTCM insisted that the agreement contained no material adverse change clauses or any other covenant subject to discretionary interpretation by the lenders.\n",
    "\n",
    "### 1.4. LTCM is largely in the business of selling liquidity and volatility. Describe how LTCM accounts for liquidity risk in their quantitative measurements.\n",
    "\n",
    "LTCM estimated worst case scenario haircuts under severe economic stress situations. Then, the fund was careful to structure its financing so taht the fund would not be forced to liquidate positions swiftly due to financial market disruptions only.\n",
    "\n",
    "### 1.5. Is leverage risk currently a concern for LTCM?\n",
    "\n",
    "By the end of 1997, the fund was leveraged at a level equivalent to the lowest value of the historical range for the fund since it had reached global scale in 1995. Consequenlty, no. Although managed, it was not a major concern for LTCM. \n",
    "\n",
    "### 1.6. Many strategies of LTCM rely on converging spreads. LTCM feels that these are almost win/win situations because of the fact that if the spread converges, they make money. If it diverges, the trade becomes even more attractive, as convergence is still expected at a future date. What is the risk in these convergence trades?\n",
    "\n",
    "Even if convergence were guaranteed, some trades exposed LTCM to operating costs that could erode the firm's viability. If the carry costs of enough trades became negative and large, this could strain the funds bottom line and overall operability. "
   ]
  },
  {
   "cell_type": "markdown",
   "metadata": {},
   "source": [
    "#### <i>Importing modules, required functions and data:</i>\n"
   ]
  },
  {
   "cell_type": "code",
   "execution_count": 1,
   "metadata": {
    "tags": []
   },
   "outputs": [],
   "source": [
    "import pandas as pd\n",
    "import numpy as np\n",
    "from sklearn.linear_model import LinearRegression\n",
    "from sklearn.metrics import r2_score\n",
    "from scipy.stats import skew, kurtosis\n",
    "\n",
    "def calculate_statistics(df, annualize_factor=12, VaR=0.05, CVaR=0.05, dropdown=False):\n",
    "    '''\n",
    "    Calculates the mean, volatility, sharpe, skewness, kurtosis, VaR, CVaR and dropdown stats of a dataframe\n",
    "    Returns a dataframe with values for each asset\n",
    "    '''\n",
    "    res={}\n",
    "    res_i={}\n",
    "    for i in df.columns:\n",
    "        if df[i].dtype=='<M8[ns]':\n",
    "            Dates=df[i]\n",
    "        else:\n",
    "            res_i.update({'mean':np.mean(df[i])*annualize_factor})\n",
    "            res_i.update({'volatility':np.std(df[i])*(annualize_factor**(1/2))})\n",
    "            res_i.update({'sharpe':res_i['mean']/res_i['volatility']})\n",
    "            res_i.update({'skewness':skew(df[i])})\n",
    "            res_i.update({'kurtosis':kurtosis(df[i])})\n",
    "            res_i.update({'VaR':df[i].quantile(VaR)})\n",
    "            res_i.update({'CVaR':df[i][df[i]<df[i].quantile(CVaR)].mean()})\n",
    "            if dropdown:\n",
    "                res_i.update({'Max_Drawdown':maxDrawD(Dates,df[i])})\n",
    "            res.update({i:res_i})\n",
    "            res_i={}\n",
    "    return pd.DataFrame(res)\n",
    "\n",
    "def maxDrawD(dates, values):\n",
    "    \"\"\"\n",
    "    Calculates the maximum drawdown and the dates of the max/min/recovery within the max drawdown period.\n",
    "    \n",
    "    Parameters:\n",
    "    dates (array): An array of dates\n",
    "    values (array): An array of values\n",
    "    \n",
    "    Returns:\n",
    "    tuple: A tuple containing the maximum drawdown, the start date of the max drawdown period, \n",
    "    the end date of the max drawdown period, the date of the minimum value, and the date of recovery.\n",
    "    \"\"\"\n",
    "    df = pd.DataFrame({'Date': dates, 'Value': values})\n",
    "    df.dropna(inplace=True)\n",
    "    dates = df['Date'].values\n",
    "    values = df['Value'].values\n",
    "\n",
    "    max_value = values[0]\n",
    "    max_date = dates[0]\n",
    "    max_drawdown = 0\n",
    "    max_drawdown_start_date = dates[0]\n",
    "    max_drawdown_min_date = dates[0]\n",
    "    max_recovery_date = dates[0]\n",
    "    for i in range(1, len(values)):\n",
    "        if values[i] > max_value:\n",
    "            max_value = values[i]\n",
    "            max_date = dates[i]\n",
    "            max_recovery_date = dates[i]\n",
    "        else:\n",
    "            drawdown = (max_value - values[i]) / max_value\n",
    "            if drawdown > max_drawdown:\n",
    "                max_drawdown = drawdown\n",
    "                max_drawdown_start_date = max_date\n",
    "                max_drawdown_min_date = dates[i]\n",
    "                try:\n",
    "                    max_recovery_date = df['Date'].loc[df[(df['Date']>max_date) & (df['Value']>=max_value)].index[0]]\n",
    "                except:\n",
    "                    max_recovery_date = np.nan\n",
    "\n",
    "    res={}\n",
    "    res.update({'max_drawdown':max_drawdown})\n",
    "    res.update({'max_drawdown_start_date':max_drawdown_start_date})\n",
    "    res.update({'max_drawdown_min_date':max_drawdown_min_date})\n",
    "    res.update({'max_recovery_date':max_recovery_date})\n",
    "    \n",
    "    return res\n",
    "\n",
    "pd.set_option('display.float_format', '{:.5f}'.format)"
   ]
  },
  {
   "cell_type": "code",
   "execution_count": 2,
   "metadata": {},
   "outputs": [],
   "source": [
    "dfltcm = pd.read_excel('../data/ltcm_exhibits_data.xlsx', sheet_name='Exhibit 2', skiprows=2)\n",
    "dfltcm.rename(columns={'Unnamed: 0': 'Date'}, inplace=True)\n",
    "dfltcm.dropna(inplace=True)\n",
    "dfltcm['Date']=pd.to_datetime(dfltcm['Date'])\n",
    "dfltcm.reset_index(drop=True, inplace=True)\n",
    "\n",
    "dfrf=pd.read_excel('../data/gmo_analysis_data.xlsx', sheet_name='returns (total)')\n",
    "dfrf.rename(columns={'Unnamed: 0': 'Date'}, inplace=True)\n",
    "tdfrf=pd.read_excel('../data/gmo_analysis_data.xlsx', sheet_name='risk-free rate')\n",
    "tdfrf.rename(columns={'Unnamed: 0': 'Date'}, inplace=True)\n",
    "dfrf=dfrf.merge(tdfrf, on='Date', how='left')\n",
    "del(tdfrf)\n",
    "dfrf.drop(['GMWAX'], axis=1, inplace=True)\n",
    "dfrf=dfrf[(dfrf['Date']>='1994-02') & (dfrf['Date']<=dfltcm['Date'].max())]\n",
    "dfrf.reset_index(drop=True, inplace=True)\n",
    "\n",
    "dfct_rf=pd.read_excel('../data/fx_carry_data.xlsx',sheet_name='risk-free rates')\n",
    "dfct_fx=pd.read_excel('../data/fx_carry_data.xlsx',sheet_name='fx rates')\n",
    "dfct_fx.rename(columns={'USUK':'GBP1M','USEU':'EUR1M','USSZ':'CHF1M','USJP':'JPY1M'}, inplace=True)\n"
   ]
  },
  {
   "cell_type": "markdown",
   "metadata": {},
   "source": [
    "## 2. LTCM Risk Decomposition\n",
    "\n",
    "### 2.1. Summary Stats\n",
    "\n",
    "<i> (a), (b) </i>"
   ]
  },
  {
   "cell_type": "code",
   "execution_count": 3,
   "metadata": {},
   "outputs": [
    {
     "name": "stdout",
     "output_type": "stream",
     "text": [
      "LTCM Statistics\n"
     ]
    },
    {
     "data": {
      "text/html": [
       "<div>\n",
       "<style scoped>\n",
       "    .dataframe tbody tr th:only-of-type {\n",
       "        vertical-align: middle;\n",
       "    }\n",
       "\n",
       "    .dataframe tbody tr th {\n",
       "        vertical-align: top;\n",
       "    }\n",
       "\n",
       "    .dataframe thead th {\n",
       "        text-align: right;\n",
       "    }\n",
       "</style>\n",
       "<table border=\"1\" class=\"dataframe\">\n",
       "  <thead>\n",
       "    <tr style=\"text-align: right;\">\n",
       "      <th></th>\n",
       "      <th>Gross Monthly Performancea</th>\n",
       "      <th>Net Monthly Performanceb</th>\n",
       "    </tr>\n",
       "  </thead>\n",
       "  <tbody>\n",
       "    <tr>\n",
       "      <th>mean</th>\n",
       "      <td>0.29389</td>\n",
       "      <td>0.20717</td>\n",
       "    </tr>\n",
       "    <tr>\n",
       "      <th>volatility</th>\n",
       "      <td>0.13506</td>\n",
       "      <td>0.11084</td>\n",
       "    </tr>\n",
       "    <tr>\n",
       "      <th>sharpe</th>\n",
       "      <td>2.17595</td>\n",
       "      <td>1.86903</td>\n",
       "    </tr>\n",
       "    <tr>\n",
       "      <th>skewness</th>\n",
       "      <td>-0.28797</td>\n",
       "      <td>-0.79454</td>\n",
       "    </tr>\n",
       "    <tr>\n",
       "      <th>kurtosis</th>\n",
       "      <td>1.31405</td>\n",
       "      <td>2.52746</td>\n",
       "    </tr>\n",
       "    <tr>\n",
       "      <th>VaR</th>\n",
       "      <td>-0.02640</td>\n",
       "      <td>-0.02240</td>\n",
       "    </tr>\n",
       "    <tr>\n",
       "      <th>CVaR</th>\n",
       "      <td>-0.06900</td>\n",
       "      <td>-0.06467</td>\n",
       "    </tr>\n",
       "  </tbody>\n",
       "</table>\n",
       "</div>"
      ],
      "text/plain": [
       "            Gross Monthly Performancea  Net Monthly Performanceb\n",
       "mean                           0.29389                   0.20717\n",
       "volatility                     0.13506                   0.11084\n",
       "sharpe                         2.17595                   1.86903\n",
       "skewness                      -0.28797                  -0.79454\n",
       "kurtosis                       1.31405                   2.52746\n",
       "VaR                           -0.02640                  -0.02240\n",
       "CVaR                          -0.06900                  -0.06467"
      ]
     },
     "execution_count": 3,
     "metadata": {},
     "output_type": "execute_result"
    }
   ],
   "source": [
    "print('LTCM Statistics')\n",
    "calculate_statistics(dfltcm)[['Gross Monthly Performancea','Net Monthly Performanceb']]"
   ]
  },
  {
   "cell_type": "code",
   "execution_count": 4,
   "metadata": {},
   "outputs": [
    {
     "data": {
      "text/html": [
       "<div>\n",
       "<style scoped>\n",
       "    .dataframe tbody tr th:only-of-type {\n",
       "        vertical-align: middle;\n",
       "    }\n",
       "\n",
       "    .dataframe tbody tr th {\n",
       "        vertical-align: top;\n",
       "    }\n",
       "\n",
       "    .dataframe thead th {\n",
       "        text-align: right;\n",
       "    }\n",
       "</style>\n",
       "<table border=\"1\" class=\"dataframe\">\n",
       "  <thead>\n",
       "    <tr style=\"text-align: right;\">\n",
       "      <th></th>\n",
       "      <th>SPY</th>\n",
       "      <th>US3M</th>\n",
       "    </tr>\n",
       "  </thead>\n",
       "  <tbody>\n",
       "    <tr>\n",
       "      <th>mean</th>\n",
       "      <td>0.22209</td>\n",
       "      <td>0.05150</td>\n",
       "    </tr>\n",
       "    <tr>\n",
       "      <th>volatility</th>\n",
       "      <td>0.11274</td>\n",
       "      <td>0.00147</td>\n",
       "    </tr>\n",
       "    <tr>\n",
       "      <th>sharpe</th>\n",
       "      <td>1.96985</td>\n",
       "      <td>35.06494</td>\n",
       "    </tr>\n",
       "    <tr>\n",
       "      <th>skewness</th>\n",
       "      <td>-0.42443</td>\n",
       "      <td>-1.35914</td>\n",
       "    </tr>\n",
       "    <tr>\n",
       "      <th>kurtosis</th>\n",
       "      <td>-0.50494</td>\n",
       "      <td>2.57217</td>\n",
       "    </tr>\n",
       "    <tr>\n",
       "      <th>VaR</th>\n",
       "      <td>-0.04280</td>\n",
       "      <td>0.00345</td>\n",
       "    </tr>\n",
       "    <tr>\n",
       "      <th>CVaR</th>\n",
       "      <td>-0.04696</td>\n",
       "      <td>0.00306</td>\n",
       "    </tr>\n",
       "  </tbody>\n",
       "</table>\n",
       "</div>"
      ],
      "text/plain": [
       "                SPY     US3M\n",
       "mean        0.22209  0.05150\n",
       "volatility  0.11274  0.00147\n",
       "sharpe      1.96985 35.06494\n",
       "skewness   -0.42443 -1.35914\n",
       "kurtosis   -0.50494  2.57217\n",
       "VaR        -0.04280  0.00345\n",
       "CVaR       -0.04696  0.00306"
      ]
     },
     "execution_count": 4,
     "metadata": {},
     "output_type": "execute_result"
    }
   ],
   "source": [
    "calculate_statistics(dfrf)"
   ]
  },
  {
   "cell_type": "markdown",
   "metadata": {},
   "source": [
    "<i> (c) </i> The difference between gross and net performances is substantial (~1/3). The gross performance is better than SPY's for the same period, but on a net basis they are very similar (SPY actually seems to outperform marginally (better sharpe, lower kurtosis, better CVaR; although worse VaR)."
   ]
  },
  {
   "cell_type": "markdown",
   "metadata": {},
   "source": [
    "### 2.2. Estimate regression\n",
    "\n",
    "$$\n",
    "\\tilde{r}_t^{LTCM} = \\alpha + \\beta^m\\tilde{r}_t^m + \\epsilon_t\n",
    "$$\n",
    "\n",
    "<i> (a) </i>"
   ]
  },
  {
   "cell_type": "code",
   "execution_count": 5,
   "metadata": {},
   "outputs": [
    {
     "name": "stdout",
     "output_type": "stream",
     "text": [
      "α :   0.19595\n",
      "β :   0.05051\n",
      "R-squared:  0.00264\n"
     ]
    }
   ],
   "source": [
    "model=LinearRegression()\n",
    "model.fit(np.array(dfrf['SPY']).reshape(-1,1),np.array(dfltcm['Net Monthly Performanceb']).reshape(-1,1))\n",
    "alpha=model.intercept_[0]*12\n",
    "beta=model.coef_[0][0]\n",
    "r2=r2_score(np.array(dfltcm['Net Monthly Performanceb']).reshape(-1,1),model.predict(np.array(dfrf['SPY']).reshape(-1,1)))\n",
    "print('\\u03B1',':  ', round(alpha,5))\n",
    "print('\\u03B2',':  ', round(beta, 5))\n",
    "print('R-squared: ', round(r2,5))"
   ]
  },
  {
   "cell_type": "markdown",
   "metadata": {},
   "source": [
    "<i> (b) </i> From this regression, it does not seem like LTCM is closet indexing. &alpha; is quite substantial.\n",
    "\n",
    "<i> (c) </i> Yes. Again, &alpha; is large and positive."
   ]
  },
  {
   "cell_type": "markdown",
   "metadata": {},
   "source": [
    "### 2.3. Checking non-linear market exposure.\n",
    "\n",
    "$$\n",
    "\\tilde{r}_t^{LTCM} = \\alpha + \\beta_1\\tilde{r}_t^m + \\beta_2(\\tilde{r}_t^m)^2 + \\epsilon_t\n",
    "$$\n",
    "\n",
    "<i> (a) </i>"
   ]
  },
  {
   "cell_type": "code",
   "execution_count": 6,
   "metadata": {},
   "outputs": [
    {
     "name": "stdout",
     "output_type": "stream",
     "text": [
      "α :   0.25304\n",
      "β 1:   0.16403\n",
      "β 2:   -4.8927\n",
      "R-squared:  0.03714\n"
     ]
    }
   ],
   "source": [
    "model=LinearRegression()\n",
    "model.fit(pd.DataFrame([dfrf['SPY'],dfrf['SPY'].apply(lambda x: x**2)]).transpose(),np.array(dfltcm['Net Monthly Performanceb']).reshape(-1,1))\n",
    "alpha=model.intercept_[0]*12\n",
    "beta1=model.coef_[0][0]\n",
    "beta2=model.coef_[0][1]\n",
    "r2=r2_score(np.array(dfltcm['Net Monthly Performanceb']).reshape(-1,1),model.predict(pd.DataFrame([dfrf['SPY'],dfrf['SPY'].apply(lambda x: x**2)]).transpose()))\n",
    "print('\\u03B1',':  ', round(alpha, 5))\n",
    "print('\\u03B2','1:  ', round(beta1, 5))\n",
    "print('\\u03B2','2:  ', round(beta2, 5))\n",
    "print('R-squared: ', round(r2, 5))"
   ]
  },
  {
   "cell_type": "markdown",
   "metadata": {},
   "source": [
    "<i> (b) </i> The quadratic market factor increases the variability explained by a factor greater than 10. Nonetheless, it remains quite small overall, and &alpha; remains large.\n",
    "\n",
    "<i> (c) </i> Given the large and negative &beta;2, LTCM seems to behave as if it were short market options. However, given that &beta;2 accompanies returns-squared, which are 'small' numbers, the magnitude may not be as large as initially perceived.\n",
    "\n",
    "<i> (d) </i> Based on the regression above, LTCM seems to be negatively exposed to market volatility. &beta;2 is negative, while options increase in value as volatility increases."
   ]
  },
  {
   "cell_type": "markdown",
   "metadata": {},
   "source": [
    "### 2.4. Trying to pinpoint the nature of LTCM's nonlinear exposure.\n",
    "\n",
    "$$\n",
    "\\tilde{r}_t^{LTCM} = \\alpha + \\beta\\tilde{r}_t^m + \\beta_u max(\\tilde{r}_t^m - k_1, 0) + \\beta_d max(k_2 - \\tilde{r}_t^m, 0) +\\epsilon_t\n",
    "$$\n",
    "\n",
    "<i> (a) </i>"
   ]
  },
  {
   "cell_type": "code",
   "execution_count": 7,
   "metadata": {},
   "outputs": [
    {
     "name": "stdout",
     "output_type": "stream",
     "text": [
      "α :   0.18458\n",
      "β :   0.45268\n",
      "β u:   -1.08048\n",
      "β d:   1.14791\n",
      "R-squared:  0.06696\n"
     ]
    }
   ],
   "source": [
    "model=LinearRegression()\n",
    "X=pd.DataFrame(\n",
    "    [\n",
    "        dfrf['SPY'],\n",
    "        (dfrf['SPY']-0.03).apply(lambda x: max(x, 0)),\n",
    "        (-0.03-dfrf['SPY']).apply(lambda x: max(x, 0))\n",
    "    ]\n",
    ")\n",
    "model.fit(X.transpose(),np.array(dfltcm['Net Monthly Performanceb']).reshape(-1,1))\n",
    "alpha=model.intercept_[0]*12\n",
    "beta1=model.coef_[0][0]\n",
    "beta2=model.coef_[0][1]\n",
    "beta3=model.coef_[0][2]\n",
    "r2=r2_score(np.array(dfltcm['Net Monthly Performanceb']).reshape(-1,1),model.predict(X.transpose()))\n",
    "print('\\u03B1',':  ', round(alpha, 5))\n",
    "print('\\u03B2',':  ', round(beta1, 5))\n",
    "print('\\u03B2','u:  ', round(beta2, 5))\n",
    "print('\\u03B2','d:  ', round(beta3, 5))\n",
    "print('R-squared: ', round(r2, 5))"
   ]
  },
  {
   "cell_type": "markdown",
   "metadata": {},
   "source": [
    "<i> (b) </i> LTCM seems to be short the call-like factor (&beta;u), and long the put-like factor (&beta;d).\n",
    "\n",
    "<i> (c) </i> The absolute value of the put-like factor is higher. The put-like factor seems to affect LTCM's performance more.\n",
    "\n",
    "<i> (d) </i> Based on this regression, it seems like this exposure stems from shorting the market's upside and being long the market's downside. The fact that &beta;u and &beta;d are of opposite signs strengthens the argument."
   ]
  },
  {
   "cell_type": "markdown",
   "metadata": {},
   "source": [
    "## 3. The FX Carry Trade\n",
    "\n",
    "### 3.1. The Static Carry Trade\n",
    "\n",
    "<i> (a), (b), (c) </i>"
   ]
  },
  {
   "cell_type": "code",
   "execution_count": 8,
   "metadata": {},
   "outputs": [],
   "source": [
    "for i in dfct_rf.columns[1:]:\n",
    "    dfct_rf[i]=np.log(dfct_rf[i]+1)\n",
    "for i in dfct_fx.columns[1:]:\n",
    "    dfct_fx[i]=np.log(dfct_fx[i])"
   ]
  },
  {
   "cell_type": "code",
   "execution_count": 9,
   "metadata": {},
   "outputs": [
    {
     "data": {
      "text/html": [
       "<div>\n",
       "<style scoped>\n",
       "    .dataframe tbody tr th:only-of-type {\n",
       "        vertical-align: middle;\n",
       "    }\n",
       "\n",
       "    .dataframe tbody tr th {\n",
       "        vertical-align: top;\n",
       "    }\n",
       "\n",
       "    .dataframe thead th {\n",
       "        text-align: right;\n",
       "    }\n",
       "</style>\n",
       "<table border=\"1\" class=\"dataframe\">\n",
       "  <thead>\n",
       "    <tr style=\"text-align: right;\">\n",
       "      <th></th>\n",
       "      <th>GBP1M</th>\n",
       "      <th>EUR1M</th>\n",
       "      <th>CHF1M</th>\n",
       "      <th>JPY1M</th>\n",
       "    </tr>\n",
       "  </thead>\n",
       "  <tbody>\n",
       "    <tr>\n",
       "      <th>mean</th>\n",
       "      <td>-0.00354</td>\n",
       "      <td>-0.00431</td>\n",
       "      <td>0.00442</td>\n",
       "      <td>-0.01725</td>\n",
       "    </tr>\n",
       "    <tr>\n",
       "      <th>volatility</th>\n",
       "      <td>0.08620</td>\n",
       "      <td>0.09460</td>\n",
       "      <td>0.09863</td>\n",
       "      <td>0.09141</td>\n",
       "    </tr>\n",
       "    <tr>\n",
       "      <th>sharpe</th>\n",
       "      <td>-0.04102</td>\n",
       "      <td>-0.04555</td>\n",
       "      <td>0.04478</td>\n",
       "      <td>-0.18876</td>\n",
       "    </tr>\n",
       "    <tr>\n",
       "      <th>skewness</th>\n",
       "      <td>-0.30973</td>\n",
       "      <td>-0.12406</td>\n",
       "      <td>0.20106</td>\n",
       "      <td>-0.17586</td>\n",
       "    </tr>\n",
       "    <tr>\n",
       "      <th>kurtosis</th>\n",
       "      <td>1.31516</td>\n",
       "      <td>1.13954</td>\n",
       "      <td>2.11007</td>\n",
       "      <td>0.69806</td>\n",
       "    </tr>\n",
       "    <tr>\n",
       "      <th>VaR</th>\n",
       "      <td>-0.03961</td>\n",
       "      <td>-0.04487</td>\n",
       "      <td>-0.04189</td>\n",
       "      <td>-0.04918</td>\n",
       "    </tr>\n",
       "    <tr>\n",
       "      <th>CVaR</th>\n",
       "      <td>-0.05701</td>\n",
       "      <td>-0.06218</td>\n",
       "      <td>-0.05668</td>\n",
       "      <td>-0.06249</td>\n",
       "    </tr>\n",
       "  </tbody>\n",
       "</table>\n",
       "</div>"
      ],
      "text/plain": [
       "              GBP1M    EUR1M    CHF1M    JPY1M\n",
       "mean       -0.00354 -0.00431  0.00442 -0.01725\n",
       "volatility  0.08620  0.09460  0.09863  0.09141\n",
       "sharpe     -0.04102 -0.04555  0.04478 -0.18876\n",
       "skewness   -0.30973 -0.12406  0.20106 -0.17586\n",
       "kurtosis    1.31516  1.13954  2.11007  0.69806\n",
       "VaR        -0.03961 -0.04487 -0.04189 -0.04918\n",
       "CVaR       -0.05701 -0.06218 -0.05668 -0.06249"
      ]
     },
     "execution_count": 9,
     "metadata": {},
     "output_type": "execute_result"
    }
   ],
   "source": [
    "elr=pd.DataFrame()\n",
    "for i in dfct_fx.columns[1:]:\n",
    "    elr[i]=dfct_fx[i]-dfct_fx[i].shift(1)-dfct_rf['USD1M']+dfct_rf[i]\n",
    "elr.dropna(inplace=True)\n",
    "calculate_statistics(elr)"
   ]
  },
  {
   "cell_type": "markdown",
   "metadata": {},
   "source": [
    "All currencies seem to have similar volatility figures and very small means. The Swiss Franc is the only one that appreciated relative to the dollar over the period analyzed. The dollar strengthened relative to all other currencies."
   ]
  },
  {
   "cell_type": "markdown",
   "metadata": {},
   "source": [
    "### 3.2. Implications for UIP\n",
    "\n",
    "<i> (a) </i> According to UIP we should observe a mean value of 0, which is almost what we obtained. Nevertheless, UIP is a theory about expectations, so these values certainly do not disprove it.\n",
    "\n",
    "<i> (b) </i> The Swiss Franc was the only currency resulting in a positive sharpe value over the term assessed.\n",
    "\n",
    "<i> (c) </i> Long positions in all other currencies would have resulted in a negative excess return over the sample (i.e. GBP, EUR and JPY).\n",
    "\n",
    "\n",
    "### 3.3. Predicting FX\n",
    "\n",
    "Test wheter interest-rate differentials can predict growth in the foreign-exchange rate:\n",
    "\n",
    "$$\n",
    "s_{t+1}^i - s_t^i = \\alpha^i + \\beta^i(r_{t,t+1}^{f,\\$} - r_{t,t+1}^{f,i}) +\\epsilon_{t+1}^i\n",
    "$$\n",
    "\n",
    "<i> (a) </i>"
   ]
  },
  {
   "cell_type": "code",
   "execution_count": 10,
   "metadata": {},
   "outputs": [
    {
     "data": {
      "text/html": [
       "<div>\n",
       "<style scoped>\n",
       "    .dataframe tbody tr th:only-of-type {\n",
       "        vertical-align: middle;\n",
       "    }\n",
       "\n",
       "    .dataframe tbody tr th {\n",
       "        vertical-align: top;\n",
       "    }\n",
       "\n",
       "    .dataframe thead th {\n",
       "        text-align: right;\n",
       "    }\n",
       "</style>\n",
       "<table border=\"1\" class=\"dataframe\">\n",
       "  <thead>\n",
       "    <tr style=\"text-align: right;\">\n",
       "      <th></th>\n",
       "      <th>GBP1M</th>\n",
       "      <th>EUR1M</th>\n",
       "      <th>CHF1M</th>\n",
       "      <th>JPY1M</th>\n",
       "    </tr>\n",
       "  </thead>\n",
       "  <tbody>\n",
       "    <tr>\n",
       "      <th>alpha</th>\n",
       "      <td>-0.00063</td>\n",
       "      <td>0.00074</td>\n",
       "      <td>0.00413</td>\n",
       "      <td>-0.00010</td>\n",
       "    </tr>\n",
       "    <tr>\n",
       "      <th>beta</th>\n",
       "      <td>0.11067</td>\n",
       "      <td>-1.63381</td>\n",
       "      <td>-2.06667</td>\n",
       "      <td>0.10538</td>\n",
       "    </tr>\n",
       "    <tr>\n",
       "      <th>r2</th>\n",
       "      <td>0.00002</td>\n",
       "      <td>0.00440</td>\n",
       "      <td>0.00616</td>\n",
       "      <td>0.00004</td>\n",
       "    </tr>\n",
       "  </tbody>\n",
       "</table>\n",
       "</div>"
      ],
      "text/plain": [
       "         GBP1M    EUR1M    CHF1M    JPY1M\n",
       "alpha -0.00063  0.00074  0.00413 -0.00010\n",
       "beta   0.11067 -1.63381 -2.06667  0.10538\n",
       "r2     0.00002  0.00440  0.00616  0.00004"
      ]
     },
     "execution_count": 10,
     "metadata": {},
     "output_type": "execute_result"
    }
   ],
   "source": [
    "res=pd.DataFrame()\n",
    "for i in dfct_fx.columns[1:]:\n",
    "    model=LinearRegression()\n",
    "    X=(dfct_rf['USD1M']-dfct_rf[i]).iloc[1:]\n",
    "    Y=(dfct_fx[i]-dfct_fx[i].shift(1)).dropna()\n",
    "    model.fit(np.array(X).reshape(-1,1),np.array(Y).reshape(-1,1))\n",
    "    alpha=model.intercept_[0]\n",
    "    beta=model.coef_[0][0]\n",
    "    r2=r2_score(np.array(Y).reshape(-1,1),model.predict(np.array(X).reshape(-1,1)))\n",
    "    res[i]=[alpha,beta,r2]\n",
    "res.rename({0:'alpha',1:'beta',2:'r2'}, axis=0, inplace=True)\n",
    "res"
   ]
  },
  {
   "cell_type": "markdown",
   "metadata": {},
   "source": [
    "<i> (b) </i> Supposing the foreign risk-free rate increases relative to the US rate:\n",
    "\n",
    "i. We would predict a relative strengthening of the USD for currencies with a positive beta from the regression above. Consequently, we would predict relative strengthenings of the USD for GBP and JPY.\n",
    "\n",
    "ii. Conversely (negative beta), we would predict relative weakenings of the USD for EUR and CHF.\n",
    "\n",
    "iii. This prediction would be strongest in the case of CHF (highest R-squared figure)."
   ]
  },
  {
   "cell_type": "markdown",
   "metadata": {},
   "source": [
    "### 3.3. The Dynamic Carry Trade\n",
    "\n",
    "Using:\n",
    "\n",
    "$$\n",
    "\\mathbb{E}[\\tilde{r}_{t+1}^i] = \\alpha + (\\beta-1)(r_{t,t+1}^{f,\\$} - r_{t,t+1}^{f,i})\n",
    "$$\n",
    "\n",
    "<i> (a) </i>"
   ]
  },
  {
   "cell_type": "code",
   "execution_count": 11,
   "metadata": {},
   "outputs": [
    {
     "name": "stdout",
     "output_type": "stream",
     "text": [
      "Fraction of time expected to be positive:  \n",
      "GBP1M 25.55 %\n",
      "EUR1M 51.09 %\n",
      "CHF1M 63.14 %\n",
      "JPY1M 0.36 %\n"
     ]
    }
   ],
   "source": [
    "tres_E=pd.DataFrame()\n",
    "for i in res.columns:\n",
    "    tres_E[i]=res.loc['alpha', i]+(res.loc['beta', i]-1)*(dfct_rf['USD1M']-dfct_rf[i])\n",
    "\n",
    "print('Fraction of time expected to be positive:  ')\n",
    "for i in tres_E.columns:\n",
    "    print(i, round(len(tres_E[tres_E[i]>0])*100/len(tres_E),2),'%')"
   ]
  },
  {
   "cell_type": "markdown",
   "metadata": {},
   "source": [
    "<i> (b) </i> CHF most consistently exhibits a positive risk premium, followed by EUR. GBP and JPY have the most frequent negative risk premium.\n",
    "\n",
    "<i> (c) </i> One could use expected relative risk-free rate variations to adjust positions based on FX risk premium for upcoming periods. Specifically, when risk-premium is predicted to be positive, one should favor increasing long and reducing short positions in the foreign currency. The opposite would be true for periods when risk-premium is predicted to be negative."
   ]
  }
 ],
 "metadata": {
  "kernelspec": {
   "display_name": "UChicago1_mini",
   "language": "python",
   "name": "python3"
  },
  "language_info": {
   "codemirror_mode": {
    "name": "ipython",
    "version": 3
   },
   "file_extension": ".py",
   "mimetype": "text/x-python",
   "name": "python",
   "nbconvert_exporter": "python",
   "pygments_lexer": "ipython3",
   "version": "3.11.6"
  }
 },
 "nbformat": 4,
 "nbformat_minor": 2
}
