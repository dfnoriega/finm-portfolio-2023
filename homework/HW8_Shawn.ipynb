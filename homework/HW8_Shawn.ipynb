{
 "cells": [
  {
   "cell_type": "code",
   "execution_count": null,
   "metadata": {},
   "outputs": [],
   "source": []
  },
  {
   "cell_type": "markdown",
   "metadata": {},
   "source": [
    "# HW8 Question 2\n",
    "\n",
    "## Summary Stats"
   ]
  },
  {
   "cell_type": "code",
   "execution_count": 33,
   "metadata": {},
   "outputs": [
    {
     "data": {
      "text/html": [
       "<div>\n",
       "<style scoped>\n",
       "    .dataframe tbody tr th:only-of-type {\n",
       "        vertical-align: middle;\n",
       "    }\n",
       "\n",
       "    .dataframe tbody tr th {\n",
       "        vertical-align: top;\n",
       "    }\n",
       "\n",
       "    .dataframe thead th {\n",
       "        text-align: right;\n",
       "    }\n",
       "</style>\n",
       "<table border=\"1\" class=\"dataframe\">\n",
       "  <thead>\n",
       "    <tr style=\"text-align: right;\">\n",
       "      <th></th>\n",
       "      <th>Mean</th>\n",
       "      <th>Volatility</th>\n",
       "      <th>Sharpe Ratio</th>\n",
       "      <th>Skewness</th>\n",
       "      <th>Ex Kurtosis</th>\n",
       "      <th>Historical VaR</th>\n",
       "    </tr>\n",
       "  </thead>\n",
       "  <tbody>\n",
       "    <tr>\n",
       "      <th>summary Gross Monthly Performancea</th>\n",
       "      <td>0.293887</td>\n",
       "      <td>0.472344</td>\n",
       "      <td>0.622187</td>\n",
       "      <td>-0.296428</td>\n",
       "      <td>-1.430646</td>\n",
       "      <td>-0.316800</td>\n",
       "    </tr>\n",
       "    <tr>\n",
       "      <th>summary Net Monthly Performanceb</th>\n",
       "      <td>0.207170</td>\n",
       "      <td>0.387647</td>\n",
       "      <td>0.534429</td>\n",
       "      <td>-0.817870</td>\n",
       "      <td>-0.094463</td>\n",
       "      <td>-0.268800</td>\n",
       "    </tr>\n",
       "    <tr>\n",
       "      <th>summary SPY</th>\n",
       "      <td>0.103263</td>\n",
       "      <td>0.516319</td>\n",
       "      <td>0.199997</td>\n",
       "      <td>-0.573558</td>\n",
       "      <td>-2.035350</td>\n",
       "      <td>-0.865156</td>\n",
       "    </tr>\n",
       "  </tbody>\n",
       "</table>\n",
       "</div>"
      ],
      "text/plain": [
       "                                        Mean  Volatility  Sharpe Ratio  \\\n",
       "summary Gross Monthly Performancea  0.293887    0.472344      0.622187   \n",
       "summary Net Monthly Performanceb    0.207170    0.387647      0.534429   \n",
       "summary SPY                         0.103263    0.516319      0.199997   \n",
       "\n",
       "                                    Skewness  Ex Kurtosis  Historical VaR  \n",
       "summary Gross Monthly Performancea -0.296428    -1.430646       -0.316800  \n",
       "summary Net Monthly Performanceb   -0.817870    -0.094463       -0.268800  \n",
       "summary SPY                        -0.573558    -2.035350       -0.865156  "
      ]
     },
     "execution_count": 33,
     "metadata": {},
     "output_type": "execute_result"
    }
   ],
   "source": [
    "import pandas as pd\n",
    "import numpy as np\n",
    "import statsmodels.api as sm\n",
    "import matplotlib.pyplot as plt\n",
    "import math\n",
    "\n",
    "pd.options.mode.chained_assignment = None  # default='warn' ## Silence warnings\n",
    "\n",
    "LTCM_Returns = pd.read_excel(\"ltcm_exhibits_data.xlsx\",\n",
    "                        sheet_name = \"Exhibit 2\",\n",
    "                        skiprows = 2,\n",
    "                        index_col = 0)\n",
    "\n",
    "LTCM_Returns = LTCM_Returns.dropna(axis=0, how=\"any\")\n",
    "\n",
    "## LTCM Returns row are good now\n",
    "\n",
    "SPX = pd.read_excel(\"gmo_analysis_data.xlsx\",\n",
    "                        sheet_name = \"returns (total)\",\n",
    "                        index_col = 0)\n",
    "\n",
    "\n",
    "## Copied from HW 6                     \n",
    "def Presenter(input_data, y_col_name):\n",
    "    temp_annualized_col = input_data[y_col_name] * 12\n",
    "    ## Yeah Yeah Yeah I can write some\n",
    "    ## Ultra-Fancy math stuff proving this and that for annualizing\n",
    "    ## the vol and skewness and whatever\n",
    "    ## But time are better spent elsewhere.\n",
    "\n",
    "    mean = temp_annualized_col.mean()\n",
    "    vol = temp_annualized_col.std()\n",
    "    sharpe = mean / vol\n",
    "    skew = temp_annualized_col.skew()\n",
    "    ex_kurt = temp_annualized_col.kurt() - 3\n",
    "    Hist_VaR = temp_annualized_col.quantile(0.05)\n",
    "    return pd.DataFrame({\n",
    "        \"Mean\": mean,\n",
    "        \"Volatility\": vol,\n",
    "        \"Sharpe Ratio\": sharpe,\n",
    "        \"Skewness\": skew,\n",
    "        \"Ex Kurtosis\": ex_kurt,\n",
    "        \"Historical VaR\": Hist_VaR\n",
    "    }, index = [f'summary {y_col_name}'])\n",
    "\n",
    "result = pd.concat([\n",
    "    Presenter(LTCM_Returns, y_col_name=\"Gross Monthly Performancea\"),\n",
    "    Presenter(LTCM_Returns, y_col_name='Net Monthly Performanceb'),\n",
    "    Presenter(SPX, y_col_name=\"SPY\")\n",
    "    ], axis=0)\n",
    "\n",
    "result"
   ]
  },
  {
   "cell_type": "markdown",
   "metadata": {},
   "source": [
    "## Comment Q2.1 NEED MORE\n",
    "\n",
    "Well, I think about 1/3 of the return are lost in gross to net, though it also decreased the volatility and bring more to negative terriroty. The investment are doing much better than SPY anyways."
   ]
  },
  {
   "cell_type": "markdown",
   "metadata": {},
   "source": [
    "## Q2.2\n",
    "\n",
    "Everything Below and Before Q3 are in MONTHLY return, NOT ANNUALIZED, unless otherwise stated."
   ]
  },
  {
   "cell_type": "code",
   "execution_count": 53,
   "metadata": {},
   "outputs": [
    {
     "name": "stdout",
     "output_type": "stream",
     "text": [
      "                            OLS Regression Results                            \n",
      "==============================================================================\n",
      "Dep. Variable:                Rm_LTCM   R-squared:                       0.003\n",
      "Model:                            OLS   Adj. R-squared:                 -0.017\n",
      "Method:                 Least Squares   F-statistic:                    0.1350\n",
      "Date:                Sat, 25 Nov 2023   Prob (F-statistic):              0.715\n",
      "Time:                        23:59:10   Log-Likelihood:                 107.30\n",
      "No. Observations:                  53   AIC:                            -210.6\n",
      "Df Residuals:                      51   BIC:                            -206.7\n",
      "Df Model:                           1                                         \n",
      "Covariance Type:            nonrobust                                         \n",
      "==============================================================================\n",
      "                 coef    std err          t      P>|t|      [0.025      0.975]\n",
      "------------------------------------------------------------------------------\n",
      "const          0.0163      0.005      3.172      0.003       0.006       0.027\n",
      "SPY            0.0505      0.137      0.367      0.715      -0.226       0.327\n",
      "==============================================================================\n",
      "Omnibus:                       11.944   Durbin-Watson:                   1.821\n",
      "Prob(Omnibus):                  0.003   Jarque-Bera (JB):               17.085\n",
      "Skew:                          -0.727   Prob(JB):                     0.000195\n",
      "Kurtosis:                       5.371   Cond. No.                         30.7\n",
      "==============================================================================\n",
      "\n",
      "Notes:\n",
      "[1] Standard Errors assume that the covariance matrix of the errors is correctly specified.\n"
     ]
    }
   ],
   "source": [
    "## The regression is on market excess returns.\n",
    "\n",
    "\n",
    "LTCM_Returns = pd.read_excel(\"ltcm_exhibits_data.xlsx\",\n",
    "                        sheet_name = \"Exhibit 2\",\n",
    "                        skiprows = 2,\n",
    "                        index_col = 0)\n",
    "\n",
    "LTCM_Returns = LTCM_Returns.dropna(axis=0, how=\"any\")\n",
    "\n",
    "## LTCM Returns row are good now\n",
    "\n",
    "SPX = pd.read_excel(\"gmo_analysis_data.xlsx\",\n",
    "                        sheet_name = \"returns (total)\",\n",
    "                        index_col = 0)\n",
    "\n",
    "LTCM_Returns.index = pd.to_datetime(LTCM_Returns.index)\n",
    "SPX.index = pd.to_datetime(SPX.index) + pd.Timedelta(days=1) ## The data are from the end of month. Gotta add 1 day\n",
    "\n",
    "Dataset_for_234 = pd.merge(LTCM_Returns[['Net Monthly Performanceb']],\n",
    "                        SPX[['SPY']], left_index = True, right_index = True)\n",
    "\n",
    "Dataset_for_234 = Dataset_for_234.rename(columns={'Net Monthly Performanceb': 'Rm_LTCM'})\n",
    "\n",
    "model = sm.OLS(Dataset_for_234['Rm_LTCM'], \n",
    "            sm.add_constant(Dataset_for_234['SPY'])).fit()\n",
    "\n",
    "print(model.summary())"
   ]
  },
  {
   "cell_type": "markdown",
   "metadata": {},
   "source": [
    "### Report\n",
    "\n",
    "Alpha is 0.0163, Beta is 0.0505, R^2 is 0.003. The insignificance of the result is astoundingly significant."
   ]
  },
  {
   "cell_type": "markdown",
   "metadata": {},
   "source": [
    "## Q2.3"
   ]
  },
  {
   "cell_type": "code",
   "execution_count": 55,
   "metadata": {},
   "outputs": [
    {
     "name": "stdout",
     "output_type": "stream",
     "text": [
      "                            OLS Regression Results                            \n",
      "==============================================================================\n",
      "Dep. Variable:                Rm_LTCM   R-squared:                       0.037\n",
      "Model:                            OLS   Adj. R-squared:                 -0.001\n",
      "Method:                 Least Squares   F-statistic:                    0.9642\n",
      "Date:                Sun, 26 Nov 2023   Prob (F-statistic):              0.388\n",
      "Time:                        00:02:17   Log-Likelihood:                 108.23\n",
      "No. Observations:                  53   AIC:                            -210.5\n",
      "Df Residuals:                      50   BIC:                            -204.5\n",
      "Df Model:                           2                                         \n",
      "Covariance Type:            nonrobust                                         \n",
      "==============================================================================\n",
      "                 coef    std err          t      P>|t|      [0.025      0.975]\n",
      "------------------------------------------------------------------------------\n",
      "const          0.0211      0.006      3.388      0.001       0.009       0.034\n",
      "SPY            0.1640      0.161      1.021      0.312      -0.159       0.487\n",
      "SPY_Sq        -4.8927      3.656     -1.338      0.187     -12.235       2.450\n",
      "==============================================================================\n",
      "Omnibus:                       16.262   Durbin-Watson:                   1.789\n",
      "Prob(Omnibus):                  0.000   Jarque-Bera (JB):               26.327\n",
      "Skew:                          -0.956   Prob(JB):                     1.92e-06\n",
      "Kurtosis:                       5.875   Cond. No.                         824.\n",
      "==============================================================================\n",
      "\n",
      "Notes:\n",
      "[1] Standard Errors assume that the covariance matrix of the errors is correctly specified.\n"
     ]
    }
   ],
   "source": [
    "Dataset_for_234['SPY_Sq'] = Dataset_for_234['SPY'] ** 2\n",
    "\n",
    "\n",
    "model = sm.OLS(Dataset_for_234['Rm_LTCM'], \n",
    "            sm.add_constant(Dataset_for_234[['SPY', 'SPY_Sq']])).fit()\n",
    "\n",
    "print(model.summary())"
   ]
  },
  {
   "cell_type": "markdown",
   "metadata": {},
   "source": [
    "### Report\n",
    "\n",
    "We have increased R^2 tenfold to 0.037, or 3.7%. We still see a positive beta for market return, which means that the fund is long market. "
   ]
  },
  {
   "cell_type": "markdown",
   "metadata": {},
   "source": [
    "## Q2.4"
   ]
  },
  {
   "cell_type": "code",
   "execution_count": 60,
   "metadata": {},
   "outputs": [
    {
     "name": "stdout",
     "output_type": "stream",
     "text": [
      "                            OLS Regression Results                            \n",
      "==============================================================================\n",
      "Dep. Variable:                Rm_LTCM   R-squared:                       0.067\n",
      "Model:                            OLS   Adj. R-squared:                  0.010\n",
      "Method:                 Least Squares   F-statistic:                     1.172\n",
      "Date:                Sun, 26 Nov 2023   Prob (F-statistic):              0.330\n",
      "Time:                        00:08:24   Log-Likelihood:                 109.06\n",
      "No. Observations:                  53   AIC:                            -210.1\n",
      "Df Residuals:                      49   BIC:                            -202.2\n",
      "Df Model:                           3                                         \n",
      "Covariance Type:            nonrobust                                         \n",
      "====================================================================================\n",
      "                       coef    std err          t      P>|t|      [0.025      0.975]\n",
      "------------------------------------------------------------------------------------\n",
      "const                0.0154      0.006      2.439      0.018       0.003       0.028\n",
      "SPY                  0.4527      0.284      1.596      0.117      -0.117       1.023\n",
      "SPY_Call_Like_K1    -1.0805      0.589     -1.834      0.073      -2.264       0.103\n",
      "SPY_Put_Like_K2      1.1479      1.445      0.794      0.431      -1.757       4.052\n",
      "==============================================================================\n",
      "Omnibus:                       11.398   Durbin-Watson:                   1.855\n",
      "Prob(Omnibus):                  0.003   Jarque-Bera (JB):               16.873\n",
      "Skew:                          -0.667   Prob(JB):                     0.000217\n",
      "Kurtosis:                       5.421   Cond. No.                         338.\n",
      "==============================================================================\n",
      "\n",
      "Notes:\n",
      "[1] Standard Errors assume that the covariance matrix of the errors is correctly specified.\n"
     ]
    }
   ],
   "source": [
    "Dataset_for_234['SPY_Call_Like_K1'] = Dataset_for_234['SPY'].apply(lambda x: max(x - .03, 0))\n",
    "Dataset_for_234['SPY_Put_Like_K2'] = Dataset_for_234['SPY'].apply(lambda x: max(-.03 - x, 0))\n",
    "\n",
    "model = sm.OLS(Dataset_for_234['Rm_LTCM'], \n",
    "            sm.add_constant(Dataset_for_234[['SPY', 'SPY_Call_Like_K1', 'SPY_Put_Like_K2']])).fit()\n",
    "\n",
    "print(model.summary())"
   ]
  },
  {
   "cell_type": "markdown",
   "metadata": {},
   "source": [
    "# HW 8 Question 3\n"
   ]
  },
  {
   "cell_type": "markdown",
   "metadata": {},
   "source": [
    "## Static Carry Table"
   ]
  },
  {
   "cell_type": "code",
   "execution_count": 111,
   "metadata": {},
   "outputs": [
    {
     "name": "stdout",
     "output_type": "stream",
     "text": [
      "                       Mean       Vol    Sharpe\n",
      "Log_Ex_Return_GBP -0.003502  0.298961 -0.011713\n",
      "Log_Ex_Return_EUR -0.004351  0.328097 -0.013263\n",
      "Log_Ex_Return_CHF  0.004312  0.342103  0.012604\n",
      "Log_Ex_Return_JPY -0.017415  0.316936 -0.054947\n"
     ]
    }
   ],
   "source": [
    "\n",
    "\n",
    "\n",
    "\n",
    "## Read Data\n",
    "RF_rates = pd.read_excel(\"fx_carry_data.xlsx\",\n",
    "                        sheet_name = \"risk-free rates\",\n",
    "                        index_col = 0)\n",
    "\n",
    "Log_RF_rates = RF_rates.map(lambda x: math.log(1+float(x)))\n",
    "\n",
    "FX_rates = pd.read_excel(\"fx_carry_data.xlsx\",\n",
    "                        sheet_name = \"fx rates\",\n",
    "                        index_col = 0)\n",
    "\n",
    "Log_FX_rates = FX_rates.map(lambda x: math.log(float(x)))\n",
    "\n",
    "Log_Raw_DF = pd.merge(Log_RF_rates, Log_FX_rates, left_index=True, right_index=True)\n",
    "\n",
    "## Helper\n",
    "def currency_name_converter(input):\n",
    "    Dict1 = {\n",
    "        \"UK\": \"GBP\",\n",
    "        \"EU\": \"EUR\",\n",
    "        \"SZ\": \"CHF\",\n",
    "        \"JP\": \"JPY\",\n",
    "    }\n",
    "    if len(input) == 2:\n",
    "        try:\n",
    "            return Dict1[input]\n",
    "        except:\n",
    "            return \"Not Found!\"\n",
    "    elif len(input) == 3:\n",
    "        for key, value in Dict1.items():\n",
    "            if value == input:\n",
    "                return key\n",
    "        return \"Not Found!\"\n",
    "    else:\n",
    "        return \"Not Found!\"\n",
    "\n",
    "def data_extractor(currency_name):\n",
    "    ## Use 3-Letter currency_name\n",
    "    FX_Name = f'US{currency_name_converter(currency_name)}'\n",
    "    Rate_Name = f'{currency_name}1M'\n",
    "    Temp_Dataset = Log_Raw_DF[['USD1M', Rate_Name, FX_Name]]\n",
    "\n",
    "    Temp_Dataset[f'{FX_Name}_t_plus_one'] = Temp_Dataset.loc[:, FX_Name].shift(-1) ## t+1 stuff\n",
    "    return Temp_Dataset\n",
    "\n",
    "def excess_return_finder(currency_name):\n",
    "    FX_Name = f'US{currency_name_converter(currency_name)}'\n",
    "    Rate_Name = f'{currency_name}1M'\n",
    "    Temp_Dataset = data_extractor(currency_name)\n",
    "    ## Excessive Return at t+1\n",
    "    Temp_Dataset[f'Log_Ex_Return_{currency_name}_t_plus_one'] = \\\n",
    "        Temp_Dataset[f'{FX_Name}_t_plus_one'] - Temp_Dataset[FX_Name] + Temp_Dataset[Rate_Name] - Temp_Dataset['USD1M']\n",
    "\n",
    "    ## Back to t\n",
    "    Temp_Dataset[f'Log_Ex_Return_{currency_name}'] = Temp_Dataset[f'Log_Ex_Return_{currency_name}_t_plus_one'].shift(1) \n",
    "    return Temp_Dataset[f'Log_Ex_Return_{currency_name}'] \n",
    "\n",
    "currency_list = ['GBP', 'EUR', 'CHF', 'JPY']\n",
    "Result_cols = []\n",
    "\n",
    "for i in currency_list:\n",
    "    Result_cols.append(f'Log_Ex_Return_{i}')\n",
    "    Log_Raw_DF[f'Log_Ex_Return_{i}'] = excess_return_finder(i)\n",
    "\n",
    "\n",
    "Temp_for_report = Log_Raw_DF[Result_cols]\n",
    "Temp_for_report = Temp_for_report.dropna(axis=0).map(lambda x: x * 12)\n",
    "\n",
    "\n",
    "summary_df = pd.DataFrame({\n",
    "    'Mean': Temp_for_report.mean(),\n",
    "    'Vol': Temp_for_report.std()\n",
    "})\n",
    "\n",
    "summary_df['Sharpe'] = summary_df['Mean'] / summary_df['Vol']\n",
    "\n",
    "print(summary_df)"
   ]
  },
  {
   "cell_type": "markdown",
   "metadata": {},
   "source": [
    "# Q3 Part 1 Explanations\n",
    "\n",
    "The mean log excessive returns are generally zero, and the variance (for log returns) are around 0.3. It seems that JPY has a better average excessive return, but it is still not much."
   ]
  },
  {
   "cell_type": "markdown",
   "metadata": {},
   "source": [
    "# Q3 Part 2\n",
    "\n",
    "Let us write everything in Log form here unless otherwise specified\n",
    "\n",
    "## (a)\n",
    "\n",
    "The Uncovered Interest Parity essentially states that the expected value of excessive returns should be zero. Because $E(r^~) = E(s_{t+1}) - s_t -r^{f, FX}_{t, t+1} - r^{f, \\$}_{t, t+1} = 0$.\n",
    "\n",
    "The conclusion is only partly verified. For instance, the worst performer of JPY at log return -0.017415 should give us a negative return of 1.726%, which is not a small number. Others, however, gives an excessive return of +- 0.4%, which is not big but also have some value.\n",
    "\n",
    "In addition, we are seeing very low Sharpe ratio and very high variance here. The UIP is generally held, but in short term it can be violated due to high variance.\n",
    "\n",
    "## (b)\n",
    "\n",
    "Long the CHF, or the Swiss Francs.\n",
    "\n",
    "## (c)\n",
    "\n",
    "The JPY gives a negative excessive return."
   ]
  },
  {
   "cell_type": "markdown",
   "metadata": {},
   "source": [
    "# Q3 Part 3"
   ]
  },
  {
   "cell_type": "code",
   "execution_count": 112,
   "metadata": {},
   "outputs": [
    {
     "name": "stdout",
     "output_type": "stream",
     "text": [
      "                GBP       EUR       CHF       JPY\n",
      "Alpha     -0.000489  0.000586  0.003631 -0.000500\n",
      "Beta       0.485836 -1.256358 -1.646596  0.371473\n",
      "R Squared  0.000382  0.002610  0.003948  0.000501\n"
     ]
    }
   ],
   "source": [
    "## Let us use our old functions\n",
    "\n",
    "def Single_Currency_Regression(currency_name):\n",
    "    ## 3 digit currency name\n",
    "    Temp_Dataset = data_extractor(currency_name)\n",
    "    FX_Name = f'US{currency_name_converter(currency_name)}'\n",
    "    Rate_Name = f'{currency_name}1M'\n",
    "    Temp_Dataset[f'{FX_Name}_Diff'] = Temp_Dataset[f'{FX_Name}_t_plus_one'] - Temp_Dataset[FX_Name]\n",
    "    Temp_Dataset[f'{Rate_Name}_USD_Rate_Diff'] = Temp_Dataset['USD1M'] - Temp_Dataset[Rate_Name]\n",
    "    Temp_Dataset = Temp_Dataset.dropna(axis = 0)\n",
    "    model = sm.OLS(Temp_Dataset[f'{FX_Name}_Diff'], \n",
    "                sm.add_constant(Temp_Dataset[f'{Rate_Name}_USD_Rate_Diff'])).fit()\n",
    "    ## print(model.summary())\n",
    "    return [model.params['const'], ## Alpha\n",
    "            model.params[f'{Rate_Name}_USD_Rate_Diff'], ## Beta\n",
    "            model.rsquared\n",
    "            ]\n",
    "\n",
    "Result_DF = {}\n",
    "\n",
    "for i in currency_list:\n",
    "    Result_DF[i] = Single_Currency_Regression(i)\n",
    "\n",
    "Result_DF = pd.DataFrame(Result_DF, index=['Alpha', 'Beta', 'R Squared'])\n",
    "print(Result_DF)"
   ]
  },
  {
   "cell_type": "markdown",
   "metadata": {},
   "source": [
    "## Q3 Part 3 (b)\n",
    "\n",
    "Well, a relative increase in foreign risk-free rate should reflect in an increase in the X-variable of the regression. Therefore, we conclude the following:\n",
    "\n",
    "(a) A strengthening of USD means that US dollar appreciates, therefore driving down the value of $s_[t+1]$. This means a decrease in Y-variables of the regression. It happens in EUR (Euros) and CHF (Swiss Francs) due to their negative betas\n",
    "\n",
    "(b) Similarly, weakening of the USD means a higher value of $s_{t+1}$, which leads to an increase in Y-variables. This happens in GBP (British Pounds) and JPY (Japanese Yen), due to their negative betas\n",
    "\n",
    "(c) The predictability is strongest for CHF due to highest R^2 value.\n"
   ]
  },
  {
   "cell_type": "code",
   "execution_count": 113,
   "metadata": {},
   "outputs": [
    {
     "data": {
      "text/html": [
       "<div>\n",
       "<style scoped>\n",
       "    .dataframe tbody tr th:only-of-type {\n",
       "        vertical-align: middle;\n",
       "    }\n",
       "\n",
       "    .dataframe tbody tr th {\n",
       "        vertical-align: top;\n",
       "    }\n",
       "\n",
       "    .dataframe thead th {\n",
       "        text-align: right;\n",
       "    }\n",
       "</style>\n",
       "<table border=\"1\" class=\"dataframe\">\n",
       "  <thead>\n",
       "    <tr style=\"text-align: right;\">\n",
       "      <th></th>\n",
       "      <th>GBP</th>\n",
       "      <th>EUR</th>\n",
       "      <th>CHF</th>\n",
       "      <th>JPY</th>\n",
       "    </tr>\n",
       "  </thead>\n",
       "  <tbody>\n",
       "    <tr>\n",
       "      <th>Alpha</th>\n",
       "      <td>-0.000489</td>\n",
       "      <td>0.000586</td>\n",
       "      <td>0.003631</td>\n",
       "      <td>-0.000500</td>\n",
       "    </tr>\n",
       "    <tr>\n",
       "      <th>Beta</th>\n",
       "      <td>0.485836</td>\n",
       "      <td>-1.256358</td>\n",
       "      <td>-1.646596</td>\n",
       "      <td>0.371473</td>\n",
       "    </tr>\n",
       "    <tr>\n",
       "      <th>R Squared</th>\n",
       "      <td>0.000382</td>\n",
       "      <td>0.002610</td>\n",
       "      <td>0.003948</td>\n",
       "      <td>0.000501</td>\n",
       "    </tr>\n",
       "  </tbody>\n",
       "</table>\n",
       "</div>"
      ],
      "text/plain": [
       "                GBP       EUR       CHF       JPY\n",
       "Alpha     -0.000489  0.000586  0.003631 -0.000500\n",
       "Beta       0.485836 -1.256358 -1.646596  0.371473\n",
       "R Squared  0.000382  0.002610  0.003948  0.000501"
      ]
     },
     "execution_count": 113,
     "metadata": {},
     "output_type": "execute_result"
    }
   ],
   "source": [
    "Result_DF"
   ]
  },
  {
   "cell_type": "code",
   "execution_count": 114,
   "metadata": {},
   "outputs": [
    {
     "data": {
      "text/plain": [
       "-0.0004890240195433706"
      ]
     },
     "execution_count": 114,
     "metadata": {},
     "output_type": "execute_result"
    }
   ],
   "source": [
    "Result_DF.loc['Alpha', 'GBP']"
   ]
  },
  {
   "cell_type": "markdown",
   "metadata": {},
   "source": [
    "# Q3 Part 4"
   ]
  },
  {
   "cell_type": "code",
   "execution_count": 115,
   "metadata": {},
   "outputs": [
    {
     "name": "stdout",
     "output_type": "stream",
     "text": [
      "Carry Trade Exp Gain:\n",
      "            GBP_carry_trade_exp_log_gain  EUR_carry_trade_exp_log_gain  \\\n",
      "DATE                                                                     \n",
      "1999-01-31                     -0.000068                     -0.002826   \n",
      "1999-02-28                     -0.000239                     -0.002867   \n",
      "1999-03-31                     -0.000325                     -0.003063   \n",
      "1999-04-30                     -0.000326                     -0.003787   \n",
      "1999-05-31                     -0.000335                     -0.003866   \n",
      "\n",
      "            CHF_carry_trade_exp_log_gain  JPY_carry_trade_exp_log_gain  \n",
      "DATE                                                                    \n",
      "1999-01-31                     -0.004606                     -0.002871  \n",
      "1999-02-28                     -0.004550                     -0.002948  \n",
      "1999-03-31                     -0.004609                     -0.002991  \n",
      "1999-04-30                     -0.005039                     -0.003000  \n",
      "1999-05-31                     -0.005045                     -0.003037  \n",
      "Number of Positive Entries:\n",
      "GBP_carry_trade_exp_log_gain     65\n",
      "EUR_carry_trade_exp_log_gain    137\n",
      "CHF_carry_trade_exp_log_gain    173\n",
      "JPY_carry_trade_exp_log_gain      0\n",
      "dtype: int64\n"
     ]
    }
   ],
   "source": [
    "def carry_trade_finder(currency_name):\n",
    "    Rate_Name = f'{currency_name}1M'\n",
    "    return Result_DF.loc['Alpha', currency_name] + (Result_DF.loc['Beta', currency_name] - 1) * (Log_Raw_DF['USD1M'] - Log_Raw_DF[Rate_Name])\n",
    "\n",
    "carry_trade_cols = []\n",
    "for i in currency_list:\n",
    "    name = f'{i}_carry_trade_exp_log_gain'\n",
    "    carry_trade_cols.append(name)\n",
    "    Log_Raw_DF[name] = carry_trade_finder(i)\n",
    "\n",
    "## We now have the result\n",
    "print(\"Carry Trade Exp Gain:\")\n",
    "print(Log_Raw_DF[carry_trade_cols].head())\n",
    "\n",
    "print(\"Number of Positive Entries:\")\n",
    "print(Log_Raw_DF[carry_trade_cols].apply(lambda x: (x > 0).sum()))"
   ]
  }
 ],
 "metadata": {
  "kernelspec": {
   "display_name": "Python 3",
   "language": "python",
   "name": "python3"
  },
  "language_info": {
   "codemirror_mode": {
    "name": "ipython",
    "version": 3
   },
   "file_extension": ".py",
   "mimetype": "text/x-python",
   "name": "python",
   "nbconvert_exporter": "python",
   "pygments_lexer": "ipython3",
   "version": "3.10.2"
  }
 },
 "nbformat": 4,
 "nbformat_minor": 2
}
