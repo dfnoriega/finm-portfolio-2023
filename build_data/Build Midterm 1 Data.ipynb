{
 "cells": [
  {
   "cell_type": "code",
   "execution_count": 1,
   "id": "75865fb3",
   "metadata": {},
   "outputs": [],
   "source": [
    "import pandas as pd\n",
    "import numpy as np\n",
    "import matplotlib.pyplot as plt\n",
    "import seaborn as sns"
   ]
  },
  {
   "cell_type": "code",
   "execution_count": 2,
   "id": "32ac4769",
   "metadata": {},
   "outputs": [],
   "source": [
    "rets = pd.read_excel('../data/spx_returns_weekly.xlsx',sheet_name='s&p500 rets').set_index('date')\n",
    "\n",
    "ticks = ['AAPL','MSFT','AMZN','NVDA','GOOGL','TSLA','XOM']"
   ]
  },
  {
   "cell_type": "code",
   "execution_count": 3,
   "id": "16df008a",
   "metadata": {},
   "outputs": [],
   "source": [
    "facs = pd.read_excel('../data/spx_returns_weekly.xlsx',sheet_name='benchmark rets').set_index('date')\n",
    "ticksF = ['SPY','IEF']\n",
    "f = facs[ticksF]"
   ]
  },
  {
   "cell_type": "code",
   "execution_count": 4,
   "id": "bfb97ff0",
   "metadata": {},
   "outputs": [],
   "source": [
    "retsx = rets[ticks].sub(f['IEF'],axis=0)\n",
    "spyx = f[['SPY']].sub(f['IEF'],axis=0)"
   ]
  },
  {
   "cell_type": "code",
   "execution_count": 5,
   "id": "eaf9effa",
   "metadata": {},
   "outputs": [
    {
     "data": {
      "text/html": [
       "<div>\n",
       "<style scoped>\n",
       "    .dataframe tbody tr th:only-of-type {\n",
       "        vertical-align: middle;\n",
       "    }\n",
       "\n",
       "    .dataframe tbody tr th {\n",
       "        vertical-align: top;\n",
       "    }\n",
       "\n",
       "    .dataframe thead th {\n",
       "        text-align: right;\n",
       "    }\n",
       "</style>\n",
       "<table border=\"1\" class=\"dataframe\">\n",
       "  <thead>\n",
       "    <tr style=\"text-align: right;\">\n",
       "      <th></th>\n",
       "      <th>security_name</th>\n",
       "    </tr>\n",
       "    <tr>\n",
       "      <th>ticker</th>\n",
       "      <th></th>\n",
       "    </tr>\n",
       "  </thead>\n",
       "  <tbody>\n",
       "    <tr>\n",
       "      <th>AAPL</th>\n",
       "      <td>Apple Inc</td>\n",
       "    </tr>\n",
       "    <tr>\n",
       "      <th>MSFT</th>\n",
       "      <td>Microsoft Corp</td>\n",
       "    </tr>\n",
       "    <tr>\n",
       "      <th>AMZN</th>\n",
       "      <td>Amazon.com Inc</td>\n",
       "    </tr>\n",
       "    <tr>\n",
       "      <th>NVDA</th>\n",
       "      <td>NVIDIA Corp</td>\n",
       "    </tr>\n",
       "    <tr>\n",
       "      <th>GOOGL</th>\n",
       "      <td>Alphabet Inc</td>\n",
       "    </tr>\n",
       "    <tr>\n",
       "      <th>TSLA</th>\n",
       "      <td>Tesla Inc</td>\n",
       "    </tr>\n",
       "    <tr>\n",
       "      <th>XOM</th>\n",
       "      <td>Exxon Mobil Corp</td>\n",
       "    </tr>\n",
       "  </tbody>\n",
       "</table>\n",
       "</div>"
      ],
      "text/plain": [
       "           security_name\n",
       "ticker                  \n",
       "AAPL           Apple Inc\n",
       "MSFT      Microsoft Corp\n",
       "AMZN      Amazon.com Inc\n",
       "NVDA         NVIDIA Corp\n",
       "GOOGL       Alphabet Inc\n",
       "TSLA           Tesla Inc\n",
       "XOM     Exxon Mobil Corp"
      ]
     },
     "execution_count": 5,
     "metadata": {},
     "output_type": "execute_result"
    }
   ],
   "source": [
    "info = pd.read_excel('../data/spx_returns_weekly.xlsx',sheet_name='s&p500 names').set_index('ticker')\n",
    "i = info.loc[ticks,['security_name']]\n",
    "i"
   ]
  },
  {
   "cell_type": "code",
   "execution_count": 6,
   "id": "be53f51b",
   "metadata": {},
   "outputs": [],
   "source": [
    "file_out = '../data/midterm_1_data_v2.xlsx'\n",
    "\n",
    "with pd.ExcelWriter(file_out) as writer:  \n",
    "    i.to_excel(writer, sheet_name= 'info')\n",
    "    retsx.to_excel(writer, sheet_name='excess returns')\n",
    "    spyx.to_excel(writer, sheet_name='spy')"
   ]
  }
 ],
 "metadata": {
  "hide_input": false,
  "kernelspec": {
   "display_name": "Python 3 (ipykernel)",
   "language": "python",
   "name": "python3"
  },
  "language_info": {
   "codemirror_mode": {
    "name": "ipython",
    "version": 3
   },
   "file_extension": ".py",
   "mimetype": "text/x-python",
   "name": "python",
   "nbconvert_exporter": "python",
   "pygments_lexer": "ipython3",
   "version": "3.9.6"
  }
 },
 "nbformat": 4,
 "nbformat_minor": 5
}
