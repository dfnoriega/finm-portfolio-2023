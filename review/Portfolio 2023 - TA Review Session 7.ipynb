{
 "cells": [
  {
   "cell_type": "markdown",
   "id": "a97c4251",
   "metadata": {},
   "source": [
    "# TA Review Session 7\n",
    "\n",
    "## FINM 36700 - 2023\n",
    "\n",
    "### UChicago Financial Mathematics\n",
    "* Mani Sawhney\n",
    "* msawhn2@uchicago.edu\n",
    "\n",
    "### Case: Grantham, Mayo, and Van Otterloo, 2012: Estimating the Equity Risk Premium) [9-211-051]. Case\n",
    "\n"
   ]
  },
  {
   "cell_type": "markdown",
   "id": "144f39b4",
   "metadata": {},
   "source": [
    "### Notation\n",
    "(Hidden LaTeX commands)\n",
    "\n",
    "\n",
    "\n",
    "\n",
    "\n",
    "\n",
    "\n",
    "$$\\newcommand{\\mux}{\\tilde{\\boldsymbol{\\mu}}}$$\n",
    "$$\\newcommand{\\wtan}{\\boldsymbol{\\text{w}}^{\\text{tan}}}$$\n",
    "$$\\newcommand{\\wtarg}{\\boldsymbol{\\text{w}}^{\\text{port}}}$$\n",
    "$$\\newcommand{\\mutarg}{\\tilde{\\boldsymbol{\\mu}}^{\\text{port}}}$$\n",
    "$$\\newcommand{\\wEW}{\\boldsymbol{\\text{w}}^{\\text{EW}}}$$\n",
    "$$\\newcommand{\\wRP}{\\boldsymbol{\\text{w}}^{\\text{RP}}}$$\n",
    "$$\\newcommand{\\wREG}{\\boldsymbol{\\text{w}}^{\\text{REG}}}$$"
   ]
  },
  {
   "cell_type": "markdown",
   "id": "1f22be3e",
   "metadata": {},
   "source": [
    "## Agenda\n",
    " - Lecture Review : GMO Case\n",
    " - HW 7 Highlights"
   ]
  },
  {
   "cell_type": "markdown",
   "id": "89e84c1d",
   "metadata": {},
   "source": [
    "## GMO Case"
   ]
  },
  {
   "cell_type": "markdown",
   "id": "82c39007",
   "metadata": {},
   "source": [
    "### Overview:\n",
    "\n",
    "- GMO functions as sophisticated asset allocators, employing a meticulous top-down modeling approach for comprehensive market forecasting.\n",
    "- The organization navigates across diverse asset classes, strategically adapting to dynamic market conditions.\n",
    "\n",
    "### Forecasting Focus:\n",
    "\n",
    "- A primary emphasis is placed on macroeconomic models, facilitating the identification of attractive asset classes within a strategic 7-10 year timeframe.\n",
    "- This forward-looking approach distinguishes GMO's investment strategy, aligning it with the extended investment horizon.\n",
    "\n",
    "\n",
    "### Long-Term Value Investing Philosophy:\n",
    "\n",
    "- GMO stands out with its unwavering commitment to long-term value investing principles.\n",
    "- Views markets as a \"voting machine\" in the short run, influenced by sentiments, trends, and behavioral factors.\n",
    "- In the long run, perceives markets as a \"waiting machine,\" where fundamental values prevail, allowing for strategic decision-making.\n",
    "\n",
    "### Specialization in Fundamental Values:\n",
    "\n",
    "- GMO's specialization lies in trading based on fundamental values over the long term.\n",
    "- This strategic positioning enables GMO to remain resilient against short-term market fluctuations, unaffected by transient news or Federal Reserve announcements.\n",
    "\n",
    "### Pros and Cons:\n",
    "\n",
    "Pros:\n",
    "- a. Scientific Approach:\n",
    "    GMO's methodology is rooted in a scientific analysis framework, incorporating data-driven insights and a meticulous study of price formation related to cash flows.\n",
    "\n",
    "- b. Value Investing Premium:\n",
    "    The adoption of a value investing approach provides GMO with a premium, leveraging fundamental principles for sustainable investment strategies.\n",
    "\n",
    "Cons:\n",
    "- a. Extreme Long-Term Challenges:\n",
    "    The potential challenge of managing extreme long-term investments is acknowledged, requiring robust strategies to navigate extended investment horizons.\n",
    "    \n",
    "- b. Limited Tech Stock Exposure Drawbacks:\n",
    "    Historical instances, such as the late 1990s tech boom, highlight challenges stemming from less investment in tech stocks, impacting short-term returns. However, this contrasts with the success of value plays during the subsequent tech bubble burst.\n",
    "\n"
   ]
  },
  {
   "cell_type": "code",
   "execution_count": 1,
   "id": "203d7149",
   "metadata": {},
   "outputs": [],
   "source": [
    "import pandas as pd\n",
    "import numpy as np\n",
    "import scipy.stats as stats\n",
    "from scipy.stats import kurtosis, skew\n",
    "from scipy.stats import norm\n",
    "import seaborn as sns\n",
    "import statsmodels.api as sm\n",
    "from statsmodels.regression.rolling import RollingOLS\n",
    "\n",
    "\n",
    "from sklearn.ensemble import RandomForestRegressor\n",
    "from sklearn.linear_model import LinearRegression\n",
    "from sklearn import tree\n",
    "from sklearn.neural_network import MLPRegressor\n",
    "\n",
    "import warnings\n",
    "warnings.filterwarnings(\"ignore\")\n",
    "\n",
    "%matplotlib inline\n",
    "\n",
    "\n",
    "import matplotlib.pyplot as plt\n",
    "plt.rcParams['figure.figsize']=[15, 6]\n",
    "import matplotlib.cm as cm"
   ]
  },
  {
   "cell_type": "markdown",
   "id": "a7caef81",
   "metadata": {},
   "source": [
    "# Helper Functions"
   ]
  },
  {
   "cell_type": "markdown",
   "id": "1b3fe92a",
   "metadata": {},
   "source": [
    "### Performance Summary Statistics"
   ]
  },
  {
   "cell_type": "code",
   "execution_count": 2,
   "id": "e3f6a71c",
   "metadata": {},
   "outputs": [],
   "source": [
    "def performance_summary(return_data):\n",
    "    \"\"\" \n",
    "        Returns the Performance Stats for given set of returns\n",
    "        Inputs: \n",
    "            return_data - DataFrame with Date index and Monthly Returns for different assets/strategies.\n",
    "        Output:\n",
    "            summary_stats - DataFrame with annualized mean return, vol, sharpe ratio. Skewness, Excess Kurtosis, Var (0.5) and\n",
    "                            CVaR (0.5) and drawdown based on monthly returns. \n",
    "    \"\"\"\n",
    "    summary_stats = return_data.mean().to_frame('Mean').apply(lambda x: x*12)\n",
    "    summary_stats['Volatility'] = return_data.std().apply(lambda x: x*np.sqrt(12))\n",
    "    summary_stats['Sharpe Ratio'] = summary_stats['Mean']/summary_stats['Volatility']\n",
    "    \n",
    "    summary_stats['Skewness'] = return_data.skew()\n",
    "    summary_stats['Excess Kurtosis'] = return_data.kurtosis()\n",
    "    summary_stats['VaR (0.05)'] = return_data.quantile(.05, axis = 0)\n",
    "    summary_stats['CVaR (0.05)'] = return_data[return_data <= return_data.quantile(.05, axis = 0)].mean()\n",
    "    summary_stats['Min'] = return_data.min()\n",
    "    summary_stats['Max'] = return_data.max()\n",
    "    \n",
    "    wealth_index = 1000*(1+return_data).cumprod()\n",
    "    previous_peaks = wealth_index.cummax()\n",
    "    drawdowns = (wealth_index - previous_peaks)/previous_peaks\n",
    "\n",
    "    summary_stats['Max Drawdown'] = drawdowns.min()\n",
    "    summary_stats['Peak'] = [previous_peaks[col][:drawdowns[col].idxmin()].idxmax() for col in previous_peaks.columns]\n",
    "    summary_stats['Bottom'] = drawdowns.idxmin()\n",
    "    \n",
    "    recovery_date = []\n",
    "    for col in wealth_index.columns:\n",
    "        prev_max = previous_peaks[col][:drawdowns[col].idxmin()].max()\n",
    "        recovery_wealth = pd.DataFrame([wealth_index[col][drawdowns[col].idxmin():]]).T\n",
    "        recovery_date.append(recovery_wealth[recovery_wealth[col] >= prev_max].index.min())\n",
    "    summary_stats['Recovery'] = recovery_date\n",
    "    \n",
    "    return summary_stats"
   ]
  },
  {
   "cell_type": "markdown",
   "id": "0a6634c0",
   "metadata": {},
   "source": [
    "### Time-series Regression"
   ]
  },
  {
   "cell_type": "code",
   "execution_count": 3,
   "id": "3174f4de",
   "metadata": {},
   "outputs": [],
   "source": [
    "def time_series_regression(portfolio, factors, multiple_factors = False, resid = False):\n",
    "    \n",
    "    ff_report = pd.DataFrame(index=portfolio.columns)\n",
    "    bm_residuals = pd.DataFrame(columns=portfolio.columns)\n",
    "\n",
    "    rhs = sm.add_constant(factors)\n",
    "\n",
    "    for portf in portfolio.columns:\n",
    "        lhs = portfolio[portf]\n",
    "        res = sm.OLS(lhs, rhs, missing='drop').fit()\n",
    "        ff_report.loc[portf, 'alpha_hat'] = res.params['const'] * 12\n",
    "        if multiple_factors:\n",
    "            ff_report.loc[portf, factors.columns[0] + ' beta'] = res.params[1]\n",
    "            ff_report.loc[portf, factors.columns[1]+ ' beta'] = res.params[2] \n",
    "            ff_report.loc[portf, factors.columns[2]+ ' beta'] = res.params[3]\n",
    "        else:\n",
    "            ff_report.loc[portf, factors.name + ' beta'] = res.params[1]\n",
    "\n",
    "            \n",
    "        ff_report.loc[portf, 'info_ratio'] = np.sqrt(12) * res.params['const'] / res.resid.std()\n",
    "        ff_report.loc[portf, 'treynor_ratio'] = 12 * portfolio[portf].mean() / res.params[1]\n",
    "        ff_report.loc[portf, 'R-squared'] = res.rsquared\n",
    "        ff_report.loc[portf, 'Tracking Error'] = (res.resid.std()*np.sqrt(12))\n",
    "\n",
    "        if resid:\n",
    "            bm_residuals[portf] = res.resid\n",
    "            \n",
    "            \n",
    "        \n",
    "    if resid:\n",
    "        return bm_residuals\n",
    "        \n",
    "    return ff_report"
   ]
  },
  {
   "cell_type": "markdown",
   "id": "ec8dcb78",
   "metadata": {},
   "source": [
    "### Tangency Weights"
   ]
  },
  {
   "cell_type": "code",
   "execution_count": 4,
   "id": "75d0a27d",
   "metadata": {},
   "outputs": [],
   "source": [
    "def tangency_weights(returns, cov_mat = 1):\n",
    "    \n",
    "    if cov_mat ==1:\n",
    "        cov_inv = np.linalg.inv((returns.cov()*12))\n",
    "    else:\n",
    "        cov = returns.cov()\n",
    "        covmat_diag = np.diag(np.diag((cov)))\n",
    "        covmat = cov_mat * cov + (1-cov_mat) * covmat_diag\n",
    "        cov_inv = np.linalg.inv((covmat*12))  \n",
    "        \n",
    "    ones = np.ones(returns.columns[1:].shape) \n",
    "    mu = returns.mean()*12\n",
    "    scaling = 1/(np.transpose(ones) @ cov_inv @ mu)\n",
    "    tangent_return = scaling*(cov_inv @ mu) \n",
    "    tangency_wts = pd.DataFrame(index = returns.columns[1:], data = tangent_return, columns = ['Tangent Weights'] )\n",
    "        \n",
    "    return tangency_wts"
   ]
  },
  {
   "cell_type": "markdown",
   "id": "b2bc4564",
   "metadata": {},
   "source": [
    "Out-of-sample R-squared"
   ]
  },
  {
   "cell_type": "code",
   "execution_count": 5,
   "id": "8c83647c",
   "metadata": {},
   "outputs": [],
   "source": [
    "def OOS_r2(df, factors, start):\n",
    "    y = df['SPY']\n",
    "    X = sm.add_constant(factors)\n",
    "\n",
    "    forecast_err, null_err = [], []\n",
    "\n",
    "    for i,j in enumerate(df.index):\n",
    "        if i >= start:\n",
    "            currX = X.iloc[:i]\n",
    "            currY = y.iloc[:i]\n",
    "            reg = sm.OLS(currY, currX, missing = 'drop').fit()\n",
    "            null_forecast = currY.mean()\n",
    "            reg_predict = reg.predict(X.iloc[[i]])\n",
    "            actual = y.iloc[[i]]\n",
    "            forecast_err.append(reg_predict - actual)\n",
    "            null_err.append(null_forecast - actual)\n",
    "            \n",
    "    RSS = (np.array(forecast_err)**2).sum()\n",
    "    TSS = (np.array(null_err)**2).sum()\n",
    "    \n",
    "    return ((1 - RSS/TSS),reg)"
   ]
  },
  {
   "cell_type": "markdown",
   "id": "076a97bc",
   "metadata": {},
   "source": [
    "OOS strategy"
   ]
  },
  {
   "cell_type": "code",
   "execution_count": 6,
   "id": "1a9d5905",
   "metadata": {},
   "outputs": [],
   "source": [
    "def OOS_strat(df, factors, start, weight):\n",
    "    returns = []\n",
    "    y = df['SPY']\n",
    "    X = sm.add_constant(factors)\n",
    "\n",
    "    for i,j in enumerate(df.index):\n",
    "        if i >= start:\n",
    "            currX = X.iloc[:i]\n",
    "            currY = y.iloc[:i]\n",
    "            reg = sm.OLS(currY, currX, missing = 'drop').fit()\n",
    "            pred = reg.predict(X.iloc[[i]])\n",
    "            w = pred * weight\n",
    "            returns.append((df.iloc[i]['SPY'] * w)[0])\n",
    "\n",
    "    df_strat = pd.DataFrame(data = returns, index = df.iloc[-(len(returns)):].index, columns = ['Strat Returns'])\n",
    "    return df_strat"
   ]
  },
  {
   "cell_type": "markdown",
   "id": "255a7d0b",
   "metadata": {},
   "source": [
    "# Reading Data"
   ]
  },
  {
   "cell_type": "code",
   "execution_count": 7,
   "id": "79080a99",
   "metadata": {},
   "outputs": [],
   "source": [
    "gmo_total_ret = pd.read_excel('gmo_analysis_data.xlsx',sheet_name = 'returns (total)', index_col = 0)\n",
    "gmo_total_ret.index.name = 'Date'"
   ]
  },
  {
   "cell_type": "code",
   "execution_count": 8,
   "id": "398ef3cc",
   "metadata": {},
   "outputs": [],
   "source": [
    "path = r'gmo_analysis_data.xlsx'\n",
    "rf = pd.read_excel(path,sheet_name = 'risk-free rate', index_col = 0)\n",
    "rf.index.name = 'Date'"
   ]
  },
  {
   "cell_type": "code",
   "execution_count": 9,
   "id": "0786c09b",
   "metadata": {},
   "outputs": [],
   "source": [
    "path = r'gmo_analysis_data.xlsx'\n",
    "gmo_signals = pd.read_excel(path,sheet_name = 'signals', index_col = 0)\n",
    "gmo_signals.index.name = 'Date'"
   ]
  },
  {
   "cell_type": "code",
   "execution_count": 10,
   "id": "e1e8430c",
   "metadata": {},
   "outputs": [
    {
     "data": {
      "text/html": [
       "<div>\n",
       "<style scoped>\n",
       "    .dataframe tbody tr th:only-of-type {\n",
       "        vertical-align: middle;\n",
       "    }\n",
       "\n",
       "    .dataframe tbody tr th {\n",
       "        vertical-align: top;\n",
       "    }\n",
       "\n",
       "    .dataframe thead th {\n",
       "        text-align: right;\n",
       "    }\n",
       "</style>\n",
       "<table border=\"1\" class=\"dataframe\">\n",
       "  <thead>\n",
       "    <tr style=\"text-align: right;\">\n",
       "      <th></th>\n",
       "      <th>SPY</th>\n",
       "      <th>GMWAX</th>\n",
       "    </tr>\n",
       "    <tr>\n",
       "      <th>Date</th>\n",
       "      <th></th>\n",
       "      <th></th>\n",
       "    </tr>\n",
       "  </thead>\n",
       "  <tbody>\n",
       "    <tr>\n",
       "      <th>2023-06-30</th>\n",
       "      <td>0.060289</td>\n",
       "      <td>0.035234</td>\n",
       "    </tr>\n",
       "    <tr>\n",
       "      <th>2023-07-31</th>\n",
       "      <td>0.028108</td>\n",
       "      <td>0.019797</td>\n",
       "    </tr>\n",
       "    <tr>\n",
       "      <th>2023-08-31</th>\n",
       "      <td>-0.020885</td>\n",
       "      <td>-0.025650</td>\n",
       "    </tr>\n",
       "    <tr>\n",
       "      <th>2023-09-30</th>\n",
       "      <td>-0.052018</td>\n",
       "      <td>-0.020966</td>\n",
       "    </tr>\n",
       "    <tr>\n",
       "      <th>2023-10-31</th>\n",
       "      <td>-0.026367</td>\n",
       "      <td>-0.034300</td>\n",
       "    </tr>\n",
       "  </tbody>\n",
       "</table>\n",
       "</div>"
      ],
      "text/plain": [
       "                 SPY     GMWAX\n",
       "Date                          \n",
       "2023-06-30  0.060289  0.035234\n",
       "2023-07-31  0.028108  0.019797\n",
       "2023-08-31 -0.020885 -0.025650\n",
       "2023-09-30 -0.052018 -0.020966\n",
       "2023-10-31 -0.026367 -0.034300"
      ]
     },
     "execution_count": 10,
     "metadata": {},
     "output_type": "execute_result"
    }
   ],
   "source": [
    "gmo_excess_ret = gmo_total_ret.copy()\n",
    "for col in gmo_excess_ret.columns:\n",
    "    gmo_excess_ret[col] = gmo_excess_ret[col] - rf['US3M']\n",
    "\n",
    "gmo_excess_ret.tail()"
   ]
  },
  {
   "cell_type": "markdown",
   "id": "35ef9884",
   "metadata": {},
   "source": [
    "## 2) Analyzing GMO\n",
    "\n",
    "#### This section utilizes data in the file, `gmo_analysis_data.xlsx`.\n",
    "#### Examine GMO's performance. Use the risk-free rate to convert the total returns to excess returns"
   ]
  },
  {
   "cell_type": "markdown",
   "id": "df5119cd",
   "metadata": {},
   "source": [
    "### 2.1) Calculate the mean, volatility, and Sharpe ratio for GMWAX. Do this for three samples:\n",
    "\n",
    "### • from inception through 2011\n",
    "### • 2012-present\n",
    "### • inception - present"
   ]
  },
  {
   "cell_type": "code",
   "execution_count": 11,
   "id": "fe54d2ee",
   "metadata": {},
   "outputs": [
    {
     "data": {
      "text/html": [
       "<div>\n",
       "<style scoped>\n",
       "    .dataframe tbody tr th:only-of-type {\n",
       "        vertical-align: middle;\n",
       "    }\n",
       "\n",
       "    .dataframe tbody tr th {\n",
       "        vertical-align: top;\n",
       "    }\n",
       "\n",
       "    .dataframe thead th {\n",
       "        text-align: right;\n",
       "    }\n",
       "</style>\n",
       "<table border=\"1\" class=\"dataframe\">\n",
       "  <thead>\n",
       "    <tr style=\"text-align: right;\">\n",
       "      <th></th>\n",
       "      <th>Mean</th>\n",
       "      <th>Volatility</th>\n",
       "      <th>Sharpe Ratio</th>\n",
       "    </tr>\n",
       "  </thead>\n",
       "  <tbody>\n",
       "    <tr>\n",
       "      <th>1993-2011</th>\n",
       "      <td>0.015827</td>\n",
       "      <td>0.125011</td>\n",
       "      <td>0.126603</td>\n",
       "    </tr>\n",
       "    <tr>\n",
       "      <th>2012-2023</th>\n",
       "      <td>0.036436</td>\n",
       "      <td>0.094503</td>\n",
       "      <td>0.385556</td>\n",
       "    </tr>\n",
       "    <tr>\n",
       "      <th>1993-2023</th>\n",
       "      <td>0.024859</td>\n",
       "      <td>0.112537</td>\n",
       "      <td>0.220898</td>\n",
       "    </tr>\n",
       "  </tbody>\n",
       "</table>\n",
       "</div>"
      ],
      "text/plain": [
       "               Mean  Volatility  Sharpe Ratio\n",
       "1993-2011  0.015827    0.125011      0.126603\n",
       "2012-2023  0.036436    0.094503      0.385556\n",
       "1993-2023  0.024859    0.112537      0.220898"
      ]
     },
     "execution_count": 11,
     "metadata": {},
     "output_type": "execute_result"
    }
   ],
   "source": [
    "sub_samples = {\n",
    "              '1993-2011' : ['1993','2011'],\n",
    "              '2012-2023' : ['2012','2023'],\n",
    "              '1993-2023' : ['1993','2023'],\n",
    "              }\n",
    "\n",
    "gmo_sum = []\n",
    "for k,v in sub_samples.items():\n",
    "    sub_gmo = gmo_excess_ret.loc[sub_samples[k][0]:sub_samples[k][1],['GMWAX']].dropna()\n",
    "    gmo_summary = performance_summary(sub_gmo)\n",
    "    gmo_summary = gmo_summary\n",
    "    gmo_summary.index = [k]\n",
    "    gmo_sum.append(gmo_summary)\n",
    "\n",
    "gmo_summary = pd.concat(gmo_sum)\n",
    "gmo_summary.loc[:,['Mean','Volatility','Sharpe Ratio']]"
   ]
  },
  {
   "cell_type": "markdown",
   "id": "c47e2a32",
   "metadata": {},
   "source": [
    "The mean increased and volatility decreased during 2012-2023, showing that GMO's forecasts and subsequently thier asset allocations for GMWAX worked during this period of turmoil as compared to the previous sub-period of 1993-2011."
   ]
  },
  {
   "cell_type": "markdown",
   "id": "0db0b51e",
   "metadata": {},
   "source": [
    "### 2.2 GMO believes a risk premium is compensation for a security's tendency to lose money at \"bad times\". For all three samples, analyze extreme scenarios by looking at -\n",
    "### • Min return\n",
    "### • 5th percentile (VaR-5th)\n",
    "### • Maximum  Drawdown"
   ]
  },
  {
   "cell_type": "code",
   "execution_count": 12,
   "id": "b06b4658",
   "metadata": {},
   "outputs": [
    {
     "data": {
      "text/html": [
       "<div>\n",
       "<style scoped>\n",
       "    .dataframe tbody tr th:only-of-type {\n",
       "        vertical-align: middle;\n",
       "    }\n",
       "\n",
       "    .dataframe tbody tr th {\n",
       "        vertical-align: top;\n",
       "    }\n",
       "\n",
       "    .dataframe thead th {\n",
       "        text-align: right;\n",
       "    }\n",
       "</style>\n",
       "<table border=\"1\" class=\"dataframe\">\n",
       "  <thead>\n",
       "    <tr style=\"text-align: right;\">\n",
       "      <th></th>\n",
       "      <th>Min</th>\n",
       "      <th>VaR (0.05)</th>\n",
       "      <th>Max Drawdown</th>\n",
       "    </tr>\n",
       "    <tr>\n",
       "      <th>Sub-Sample</th>\n",
       "      <th></th>\n",
       "      <th></th>\n",
       "      <th></th>\n",
       "    </tr>\n",
       "  </thead>\n",
       "  <tbody>\n",
       "    <tr>\n",
       "      <th>1993-2011</th>\n",
       "      <td>-0.149179</td>\n",
       "      <td>-0.059806</td>\n",
       "      <td>-0.355219</td>\n",
       "    </tr>\n",
       "    <tr>\n",
       "      <th>2012-2023</th>\n",
       "      <td>-0.118650</td>\n",
       "      <td>-0.037826</td>\n",
       "      <td>-0.216773</td>\n",
       "    </tr>\n",
       "    <tr>\n",
       "      <th>1993-2023</th>\n",
       "      <td>-0.149179</td>\n",
       "      <td>-0.047061</td>\n",
       "      <td>-0.355219</td>\n",
       "    </tr>\n",
       "  </tbody>\n",
       "</table>\n",
       "</div>"
      ],
      "text/plain": [
       "                 Min  VaR (0.05)  Max Drawdown\n",
       "Sub-Sample                                    \n",
       "1993-2011  -0.149179   -0.059806     -0.355219\n",
       "2012-2023  -0.118650   -0.037826     -0.216773\n",
       "1993-2023  -0.149179   -0.047061     -0.355219"
      ]
     },
     "execution_count": 12,
     "metadata": {},
     "output_type": "execute_result"
    }
   ],
   "source": [
    "sub_samples = {\n",
    "              '1993-2011' : ['1993','2011'],\n",
    "              '2012-2023' : ['2012','2023'],\n",
    "              '1993-2023' : ['1993','2023'],\n",
    "              }\n",
    "\n",
    "gmo_mdd = []\n",
    "for k,v in sub_samples.items():\n",
    "    sub_gmo = gmo_total_ret.loc[sub_samples[k][0]:sub_samples[k][1],['GMWAX']].dropna()\n",
    "    gmo_drawdown = performance_summary(sub_gmo)\n",
    "    gmo_drawdown = gmo_drawdown.loc[:,['Max Drawdown']]\n",
    "    gmo_drawdown.index = [k]\n",
    "    gmo_mdd.append(gmo_drawdown)\n",
    "\n",
    "gmo_mdd = pd.concat(gmo_mdd)\n",
    "gmo_mdd_summary = gmo_summary.loc[:,['Min','VaR (0.05)']].merge(gmo_mdd,how='inner',on=gmo_mdd.index).rename(columns={'key_0':'Sub-Sample'})\n",
    "gmo_mdd_summary.index = gmo_mdd_summary['Sub-Sample']\n",
    "gmo_mdd_summary = gmo_mdd_summary.drop(['Sub-Sample'],axis = 1)\n",
    "gmo_mdd_summary"
   ]
  },
  {
   "cell_type": "markdown",
   "id": "a131a636",
   "metadata": {},
   "source": [
    "GMWAX seems to have low tail-risk as depicted by the tail risk statistics above. "
   ]
  },
  {
   "cell_type": "markdown",
   "id": "74c97760",
   "metadata": {},
   "source": [
    "### 2.3) For all three samples, regress excess returns of GMWAX on excess returns of SPY."
   ]
  },
  {
   "cell_type": "markdown",
   "id": "f007cde8",
   "metadata": {},
   "source": [
    "### sub1 - 1993-2011\n",
    "### sub2 - 2012-2023\n",
    "### sub3 - 1993-2023\n"
   ]
  },
  {
   "cell_type": "code",
   "execution_count": 13,
   "id": "c546f838",
   "metadata": {},
   "outputs": [],
   "source": [
    "sub_1 = time_series_regression(gmo_excess_ret.loc['1993':'2011',['GMWAX']], gmo_excess_ret.loc['1993':'2011','SPY'])\n",
    "sub_2 = time_series_regression(gmo_excess_ret.loc['2012':'2023',['GMWAX']], gmo_excess_ret.loc['2012':'2023','SPY'])\n",
    "sub_3 = time_series_regression(gmo_excess_ret.loc['1993':'2023',['GMWAX']], gmo_excess_ret.loc['1993':'2023','SPY'])\n",
    "\n",
    "sub_1.index = ['GMWAX 1993-2011']\n",
    "sub_2.index = ['GMWAX 2012-2023']\n",
    "sub_3.index = ['GMWAX 1993-2023']\n",
    "\n",
    "\n",
    "reg_sub = pd.concat([sub_1,sub_2,sub_3])\n",
    "\n"
   ]
  },
  {
   "cell_type": "markdown",
   "id": "93bd0a3f",
   "metadata": {},
   "source": [
    "### 2.3.a) Report the estimated alpha, beta, and r-squared."
   ]
  },
  {
   "cell_type": "code",
   "execution_count": 14,
   "id": "41300a26",
   "metadata": {},
   "outputs": [
    {
     "data": {
      "text/html": [
       "<div>\n",
       "<style scoped>\n",
       "    .dataframe tbody tr th:only-of-type {\n",
       "        vertical-align: middle;\n",
       "    }\n",
       "\n",
       "    .dataframe tbody tr th {\n",
       "        vertical-align: top;\n",
       "    }\n",
       "\n",
       "    .dataframe thead th {\n",
       "        text-align: right;\n",
       "    }\n",
       "</style>\n",
       "<table border=\"1\" class=\"dataframe\">\n",
       "  <thead>\n",
       "    <tr style=\"text-align: right;\">\n",
       "      <th></th>\n",
       "      <th>SPY beta</th>\n",
       "      <th>alpha_hat</th>\n",
       "      <th>R-squared</th>\n",
       "    </tr>\n",
       "  </thead>\n",
       "  <tbody>\n",
       "    <tr>\n",
       "      <th>GMWAX 1993-2011</th>\n",
       "      <td>0.539615</td>\n",
       "      <td>-0.005751</td>\n",
       "      <td>0.507129</td>\n",
       "    </tr>\n",
       "    <tr>\n",
       "      <th>GMWAX 2012-2023</th>\n",
       "      <td>0.573764</td>\n",
       "      <td>-0.032654</td>\n",
       "      <td>0.754377</td>\n",
       "    </tr>\n",
       "    <tr>\n",
       "      <th>GMWAX 1993-2023</th>\n",
       "      <td>0.550609</td>\n",
       "      <td>-0.016567</td>\n",
       "      <td>0.582145</td>\n",
       "    </tr>\n",
       "  </tbody>\n",
       "</table>\n",
       "</div>"
      ],
      "text/plain": [
       "                 SPY beta  alpha_hat  R-squared\n",
       "GMWAX 1993-2011  0.539615  -0.005751   0.507129\n",
       "GMWAX 2012-2023  0.573764  -0.032654   0.754377\n",
       "GMWAX 1993-2023  0.550609  -0.016567   0.582145"
      ]
     },
     "execution_count": 14,
     "metadata": {},
     "output_type": "execute_result"
    }
   ],
   "source": [
    "reg_sub.loc[:,['SPY beta','alpha_hat','R-squared']]"
   ]
  },
  {
   "cell_type": "markdown",
   "id": "04b5407a",
   "metadata": {},
   "source": [
    "### 2.3.b) Is GMWAX a low-beta strategy? Has that changed since the case?\n",
    "\n",
    "GMWAX seems to have a relatively moderate beta with the market: ~50%-57%, It's market beta is not very low, we can consider it a low-beta strategy. The beta remains quite stable across both sub-samples"
   ]
  },
  {
   "cell_type": "code",
   "execution_count": 15,
   "id": "cb305a8a",
   "metadata": {},
   "outputs": [
    {
     "data": {
      "text/html": [
       "<div>\n",
       "<style scoped>\n",
       "    .dataframe tbody tr th:only-of-type {\n",
       "        vertical-align: middle;\n",
       "    }\n",
       "\n",
       "    .dataframe tbody tr th {\n",
       "        vertical-align: top;\n",
       "    }\n",
       "\n",
       "    .dataframe thead th {\n",
       "        text-align: right;\n",
       "    }\n",
       "</style>\n",
       "<table border=\"1\" class=\"dataframe\">\n",
       "  <thead>\n",
       "    <tr style=\"text-align: right;\">\n",
       "      <th></th>\n",
       "      <th>SPY beta</th>\n",
       "      <th>alpha_hat</th>\n",
       "      <th>R-squared</th>\n",
       "    </tr>\n",
       "  </thead>\n",
       "  <tbody>\n",
       "    <tr>\n",
       "      <th>GMWAX 2012-2023</th>\n",
       "      <td>0.573764</td>\n",
       "      <td>-0.032654</td>\n",
       "      <td>0.754377</td>\n",
       "    </tr>\n",
       "  </tbody>\n",
       "</table>\n",
       "</div>"
      ],
      "text/plain": [
       "                 SPY beta  alpha_hat  R-squared\n",
       "GMWAX 2012-2023  0.573764  -0.032654   0.754377"
      ]
     },
     "execution_count": 15,
     "metadata": {},
     "output_type": "execute_result"
    }
   ],
   "source": [
    "reg_sub.loc['GMWAX 2012-2023',['SPY beta','alpha_hat','R-squared']].to_frame().T"
   ]
  },
  {
   "cell_type": "markdown",
   "id": "e9aee65b",
   "metadata": {},
   "source": [
    "Correlation between SPY and GMWAX"
   ]
  },
  {
   "cell_type": "code",
   "execution_count": 35,
   "id": "6dbbabd4",
   "metadata": {},
   "outputs": [
    {
     "data": {
      "text/plain": [
       "0.7629845877139098"
      ]
     },
     "execution_count": 35,
     "metadata": {},
     "output_type": "execute_result"
    }
   ],
   "source": [
    "gmo_excess_ret['SPY'].corr(gmo_excess_ret['GMWAX'])"
   ]
  },
  {
   "cell_type": "markdown",
   "id": "60be28a5",
   "metadata": {},
   "source": [
    "### Performance Metrics and Strategy Evaluation:\n",
    "\n",
    "- Multivariate Stats:\n",
    "     Negative alpha in every subsample implies a scarcity of surplus returns, emphasizing the challenges in consistently outperforming the market.\n",
    "\n",
    "- Correlation:\n",
    "    A notable 70% correlation between SPY and GMO over the entire period underscores a strong interconnectedness between GMWAX and the market.\n"
   ]
  },
  {
   "cell_type": "markdown",
   "id": "43017031",
   "metadata": {},
   "source": [
    "## 3 Forecast Regressions\n",
    "\n",
    "#### This section utilizes data in the file,`gmo_analysis_data.xlsx`."
   ]
  },
  {
   "cell_type": "markdown",
   "id": "76aa017c",
   "metadata": {},
   "source": [
    "### 3.1) Consider the lagged regression, where the regressor, ($X$), is a period behind the target, ($r^{SPY}$).\n",
    "\\begin{align}\n",
    "r^{SPY}_t = \\alpha^{SPY,X}+(\\beta^{SPY,X})'X_{t-1}+\\epsilon^{SPY,X}_t\n",
    "\\end{align}\n",
    "### Estimate (1) and report the $R^2$, as well as the OLS estimates for $\\alpha$ and $\\beta$. Do this for...\n",
    "- $X$ as a single regressor, the dividend-price ratio.\n",
    "- $X$ as a single regressor, the earnings-price ratio.\n",
    "- $X$ as three regressors, the dividend-price ratio, the earnings-price ratio, and the 10-year yield.\n",
    "\n",
    "### For each, report the r-squared."
   ]
  },
  {
   "cell_type": "markdown",
   "id": "12333eb6",
   "metadata": {},
   "source": [
    "The beauty of dynamic trading is moving around weights, we can generate less than perfect correlation to the one asset that I am trading. We are very correlated to the market."
   ]
  },
  {
   "cell_type": "code",
   "execution_count": 21,
   "id": "8abb60bc",
   "metadata": {},
   "outputs": [
    {
     "data": {
      "text/html": [
       "<div>\n",
       "<style scoped>\n",
       "    .dataframe tbody tr th:only-of-type {\n",
       "        vertical-align: middle;\n",
       "    }\n",
       "\n",
       "    .dataframe tbody tr th {\n",
       "        vertical-align: top;\n",
       "    }\n",
       "\n",
       "    .dataframe thead th {\n",
       "        text-align: right;\n",
       "    }\n",
       "</style>\n",
       "<table border=\"1\" class=\"dataframe\">\n",
       "  <thead>\n",
       "    <tr style=\"text-align: right;\">\n",
       "      <th></th>\n",
       "      <th>alpha_hat</th>\n",
       "      <th>DP beta</th>\n",
       "      <th>info_ratio</th>\n",
       "      <th>treynor_ratio</th>\n",
       "      <th>R-squared</th>\n",
       "      <th>Tracking Error</th>\n",
       "    </tr>\n",
       "  </thead>\n",
       "  <tbody>\n",
       "    <tr>\n",
       "      <th>DP</th>\n",
       "      <td>-0.113775</td>\n",
       "      <td>0.009516</td>\n",
       "      <td>-0.7659</td>\n",
       "      <td>10.851643</td>\n",
       "      <td>0.009359</td>\n",
       "      <td>0.148551</td>\n",
       "    </tr>\n",
       "  </tbody>\n",
       "</table>\n",
       "</div>"
      ],
      "text/plain": [
       "    alpha_hat   DP beta  info_ratio  treynor_ratio  R-squared  Tracking Error\n",
       "DP  -0.113775  0.009516     -0.7659      10.851643   0.009359        0.148551"
      ]
     },
     "metadata": {},
     "output_type": "display_data"
    },
    {
     "data": {
      "text/html": [
       "<div>\n",
       "<style scoped>\n",
       "    .dataframe tbody tr th:only-of-type {\n",
       "        vertical-align: middle;\n",
       "    }\n",
       "\n",
       "    .dataframe tbody tr th {\n",
       "        vertical-align: top;\n",
       "    }\n",
       "\n",
       "    .dataframe thead th {\n",
       "        text-align: right;\n",
       "    }\n",
       "</style>\n",
       "<table border=\"1\" class=\"dataframe\">\n",
       "  <thead>\n",
       "    <tr style=\"text-align: right;\">\n",
       "      <th></th>\n",
       "      <th>alpha_hat</th>\n",
       "      <th>EP beta</th>\n",
       "      <th>info_ratio</th>\n",
       "      <th>treynor_ratio</th>\n",
       "      <th>R-squared</th>\n",
       "      <th>Tracking Error</th>\n",
       "    </tr>\n",
       "  </thead>\n",
       "  <tbody>\n",
       "    <tr>\n",
       "      <th>EP</th>\n",
       "      <td>-0.073934</td>\n",
       "      <td>0.003252</td>\n",
       "      <td>-0.497533</td>\n",
       "      <td>31.751752</td>\n",
       "      <td>0.008692</td>\n",
       "      <td>0.148601</td>\n",
       "    </tr>\n",
       "  </tbody>\n",
       "</table>\n",
       "</div>"
      ],
      "text/plain": [
       "    alpha_hat   EP beta  info_ratio  treynor_ratio  R-squared  Tracking Error\n",
       "EP  -0.073934  0.003252   -0.497533      31.751752   0.008692        0.148601"
      ]
     },
     "metadata": {},
     "output_type": "display_data"
    },
    {
     "data": {
      "text/html": [
       "<div>\n",
       "<style scoped>\n",
       "    .dataframe tbody tr th:only-of-type {\n",
       "        vertical-align: middle;\n",
       "    }\n",
       "\n",
       "    .dataframe tbody tr th {\n",
       "        vertical-align: top;\n",
       "    }\n",
       "\n",
       "    .dataframe thead th {\n",
       "        text-align: right;\n",
       "    }\n",
       "</style>\n",
       "<table border=\"1\" class=\"dataframe\">\n",
       "  <thead>\n",
       "    <tr style=\"text-align: right;\">\n",
       "      <th></th>\n",
       "      <th>alpha_hat</th>\n",
       "      <th>DP beta</th>\n",
       "      <th>EP beta</th>\n",
       "      <th>US10Y beta</th>\n",
       "      <th>info_ratio</th>\n",
       "      <th>treynor_ratio</th>\n",
       "      <th>R-squared</th>\n",
       "      <th>Tracking Error</th>\n",
       "    </tr>\n",
       "  </thead>\n",
       "  <tbody>\n",
       "    <tr>\n",
       "      <th>DP,EP,US10Y</th>\n",
       "      <td>-0.180763</td>\n",
       "      <td>0.008023</td>\n",
       "      <td>0.002694</td>\n",
       "      <td>-0.000982</td>\n",
       "      <td>-1.221168</td>\n",
       "      <td>12.870259</td>\n",
       "      <td>0.016364</td>\n",
       "      <td>0.148025</td>\n",
       "    </tr>\n",
       "  </tbody>\n",
       "</table>\n",
       "</div>"
      ],
      "text/plain": [
       "             alpha_hat   DP beta   EP beta  US10Y beta  info_ratio  \\\n",
       "DP,EP,US10Y  -0.180763  0.008023  0.002694   -0.000982   -1.221168   \n",
       "\n",
       "             treynor_ratio  R-squared  Tracking Error  \n",
       "DP,EP,US10Y      12.870259   0.016364        0.148025  "
      ]
     },
     "metadata": {},
     "output_type": "display_data"
    }
   ],
   "source": [
    "SPY = gmo_total_ret.loc[:,['SPY']]\n",
    "signal_1 = ['DP']\n",
    "factor_1 = gmo_signals.loc[:,signal_1].shift(1).squeeze()\n",
    "signal_reg_1 = time_series_regression(SPY, factor_1, multiple_factors=False, resid=False)\n",
    "signal_reg_1.index = ['DP']\n",
    "signal_reg_1\n",
    "\n",
    "\n",
    "signal_2 = ['EP']\n",
    "factor_2 = gmo_signals.loc[:,signal_2].shift(1).squeeze()\n",
    "signal_reg_2 = time_series_regression(SPY, factor_2, multiple_factors=False, resid=False)\n",
    "signal_reg_2.index = ['EP']\n",
    "signal_reg_2\n",
    "\n",
    "\n",
    "signal_3 = ['DP','EP','US10Y']\n",
    "factor_3 = gmo_signals.loc[:,['DP','EP','US10Y']].shift(1)\n",
    "signal_reg_3 = time_series_regression(SPY, factor_3, multiple_factors=True, resid=False)\n",
    "signal_reg_3.index = ['DP,EP,US10Y']\n",
    "\n",
    "display(signal_reg_1,signal_reg_2,signal_reg_3)"
   ]
  },
  {
   "cell_type": "markdown",
   "id": "6e99a12a",
   "metadata": {},
   "source": [
    "### 3.2) For each of the three regressions, let’s try to utilize the resulting forecast in a trading strategy.\n",
    "- Build the forecasted SPY returns: $\\hat{r}^{SPY}_{t+1}$. Note that this denotes the forecast made using $X_t$ to forecast the $(t+1)$ return.\n",
    "- Set the scale of the investment in SPY equal to 100 times the forecasted value:\n",
    "$\n",
    "w_t = 100 \\hat{r}^{SPY}_{t+1}\n",
    "$\n",
    "- We are not taking this scaling too seriously. We just want the  strategy  to  go  bigger  inperiods where the forecast is high and to withdraw in periods where the forecast is low, or even negative.\n",
    "- Calcualte the return on this strategy:\n",
    "$\n",
    "r^X_{t+1} = w_tr^{SPY}_{t+1}\n",
    "$\n",
    "\n",
    "#### You should now have the trading strategy returns, $r^x$ for each of the forecasts. For each strategy, estimate:\n",
    "- mean, volatility, Sharpe,\n",
    "- max-drawdown\n",
    "- market alpha\n",
    "- market beta\n",
    "- market Information"
   ]
  },
  {
   "cell_type": "code",
   "execution_count": 25,
   "id": "ecaf2184",
   "metadata": {},
   "outputs": [],
   "source": [
    "DP_return = (gmo_signals.loc[:,'DP'].shift(1).to_frame() * signal_reg_1['DP beta'])+signal_reg_1['alpha_hat']/12\n",
    "DP_return = DP_return.rename(columns={'DP':'Forecasted Return'}) * 100\n",
    "DP_forecast_return = pd.DataFrame(DP_return['Forecasted Return']*gmo_total_ret.loc[:,['SPY']]['SPY'], columns=DP_return.columns, index=DP_return.index)\n",
    "\n",
    "\n",
    "EP_return = (gmo_signals.loc[:,'EP'].shift(1).to_frame() * signal_reg_2['EP beta'])+signal_reg_2['alpha_hat']/12\n",
    "EP_return = EP_return.rename(columns={'EP':'Forecasted Return'}) * 100\n",
    "EP_forecast_return = pd.DataFrame(EP_return['Forecasted Return']*gmo_total_ret.loc[:,['SPY']]['SPY'], columns=EP_return.columns, index=EP_return.index)\n",
    "\n",
    "\n",
    "forecasted_rets = (np.array(gmo_signals.shift(1).loc[:,['DP','EP','US10Y']]) @ np.array(signal_reg_3.loc[:,['DP beta','EP beta','US10Y beta']].T))\n",
    "multiple_factor_return = (pd.DataFrame(forecasted_rets,columns = ['Forecasted Return'],index= gmo_signals.index)) \n",
    "multiple_factor_return['Forecasted Return'] = (multiple_factor_return['Forecasted Return'] + float(signal_reg_3['alpha_hat']/12))*100\n",
    "multiple_forecast_return = pd.DataFrame(multiple_factor_return['Forecasted Return'] *gmo_total_ret.loc[:,['SPY']]['SPY'], columns=multiple_factor_return.columns, index=multiple_factor_return.index)\n",
    "\n"
   ]
  },
  {
   "cell_type": "code",
   "execution_count": 26,
   "id": "be3e7b3d",
   "metadata": {},
   "outputs": [
    {
     "data": {
      "text/html": [
       "<div>\n",
       "<style scoped>\n",
       "    .dataframe tbody tr th:only-of-type {\n",
       "        vertical-align: middle;\n",
       "    }\n",
       "\n",
       "    .dataframe tbody tr th {\n",
       "        vertical-align: top;\n",
       "    }\n",
       "\n",
       "    .dataframe thead th {\n",
       "        text-align: right;\n",
       "    }\n",
       "</style>\n",
       "<table border=\"1\" class=\"dataframe\">\n",
       "  <thead>\n",
       "    <tr style=\"text-align: right;\">\n",
       "      <th></th>\n",
       "      <th>Mean</th>\n",
       "      <th>Volatility</th>\n",
       "      <th>Sharpe Ratio</th>\n",
       "      <th>Max Drawdown</th>\n",
       "      <th>Market Beta</th>\n",
       "      <th>Market Alpha</th>\n",
       "      <th>Market Information Ratio</th>\n",
       "    </tr>\n",
       "  </thead>\n",
       "  <tbody>\n",
       "    <tr>\n",
       "      <th>DP</th>\n",
       "      <td>0.109536</td>\n",
       "      <td>0.148855</td>\n",
       "      <td>0.735857</td>\n",
       "      <td>-0.656960</td>\n",
       "      <td>0.861719</td>\n",
       "      <td>0.041107</td>\n",
       "      <td>0.549035</td>\n",
       "    </tr>\n",
       "    <tr>\n",
       "      <th>EP</th>\n",
       "      <td>0.108053</td>\n",
       "      <td>0.128903</td>\n",
       "      <td>0.838250</td>\n",
       "      <td>-0.385314</td>\n",
       "      <td>0.733538</td>\n",
       "      <td>0.049803</td>\n",
       "      <td>0.732554</td>\n",
       "    </tr>\n",
       "    <tr>\n",
       "      <th>DP-EP-US10Y</th>\n",
       "      <td>0.125098</td>\n",
       "      <td>0.145607</td>\n",
       "      <td>0.859145</td>\n",
       "      <td>-0.524621</td>\n",
       "      <td>0.778170</td>\n",
       "      <td>0.063304</td>\n",
       "      <td>0.721245</td>\n",
       "    </tr>\n",
       "  </tbody>\n",
       "</table>\n",
       "</div>"
      ],
      "text/plain": [
       "                 Mean  Volatility  Sharpe Ratio  Max Drawdown  Market Beta  \\\n",
       "DP           0.109536    0.148855      0.735857     -0.656960     0.861719   \n",
       "EP           0.108053    0.128903      0.838250     -0.385314     0.733538   \n",
       "DP-EP-US10Y  0.125098    0.145607      0.859145     -0.524621     0.778170   \n",
       "\n",
       "             Market Alpha  Market Information Ratio  \n",
       "DP               0.041107                  0.549035  \n",
       "EP               0.049803                  0.732554  \n",
       "DP-EP-US10Y      0.063304                  0.721245  "
      ]
     },
     "execution_count": 26,
     "metadata": {},
     "output_type": "execute_result"
    }
   ],
   "source": [
    "strategy = {'DP': DP_forecast_return.dropna(),\n",
    "          'EP': EP_forecast_return.dropna(),\n",
    "          'DP-EP-US10Y': multiple_forecast_return.dropna()\n",
    "         }\n",
    "factor = gmo_excess_ret.loc[:,['SPY']]\n",
    "total_strategy_summary = []\n",
    "\n",
    "for key,value in strategy.items():\n",
    "    strat = strategy[key]\n",
    "    strat_summary = performance_summary(strat)\n",
    "    strat_summary.index = [key]\n",
    "    strat_summary['Negative Risk Premium Months'] = len(strat[strat['Forecasted Return'] - rf['US3M'] <0])\n",
    "    strat_summary['Total Months'] = len(strat)\n",
    "    ts = time_series_regression(strat, factor[strat.index[0]:].squeeze(), False)\n",
    "    strat_summary['Market Beta'] = ts['SPY beta'].values\n",
    "    strat_summary['Market Alpha'] = ts['alpha_hat'].values\n",
    "    strat_summary['Market Information Ratio'] = ts['info_ratio'].values\n",
    "    \n",
    "    total_strategy_summary.append(strat_summary)\n",
    "    \n",
    "total_strategy_df = pd.concat(total_strategy_summary)\n",
    "  \n",
    "total_strategy_df.loc[:,['Mean','Volatility','Sharpe Ratio','Max Drawdown','Market Beta','Market Alpha','Market Information Ratio']]\n",
    "\n",
    "\n",
    "\n"
   ]
  },
  {
   "cell_type": "markdown",
   "id": "ca9b8ba1",
   "metadata": {},
   "source": [
    "### 3.3) GMO believes a risk premium is compensation for a security's tendency to lose money at \"bad times\". Let's consider risk characteristics."
   ]
  },
  {
   "cell_type": "markdown",
   "id": "616e85e0",
   "metadata": {},
   "source": [
    "### 3.3.a) For both strategies, the market, and GMO, calculate the monthly VaR for $\\pi=.05$. Just use the quantile of the historic data for this VaR calculation."
   ]
  },
  {
   "cell_type": "code",
   "execution_count": 27,
   "id": "3664076d",
   "metadata": {},
   "outputs": [
    {
     "data": {
      "text/html": [
       "<div>\n",
       "<style scoped>\n",
       "    .dataframe tbody tr th:only-of-type {\n",
       "        vertical-align: middle;\n",
       "    }\n",
       "\n",
       "    .dataframe tbody tr th {\n",
       "        vertical-align: top;\n",
       "    }\n",
       "\n",
       "    .dataframe thead th {\n",
       "        text-align: right;\n",
       "    }\n",
       "</style>\n",
       "<table border=\"1\" class=\"dataframe\">\n",
       "  <thead>\n",
       "    <tr style=\"text-align: right;\">\n",
       "      <th></th>\n",
       "      <th>VaR (0.05)</th>\n",
       "    </tr>\n",
       "  </thead>\n",
       "  <tbody>\n",
       "    <tr>\n",
       "      <th>DP</th>\n",
       "      <td>-0.052332</td>\n",
       "    </tr>\n",
       "    <tr>\n",
       "      <th>EP</th>\n",
       "      <td>-0.053891</td>\n",
       "    </tr>\n",
       "    <tr>\n",
       "      <th>DP-EP-US10Y</th>\n",
       "      <td>-0.064085</td>\n",
       "    </tr>\n",
       "    <tr>\n",
       "      <th>SPY</th>\n",
       "      <td>-0.073525</td>\n",
       "    </tr>\n",
       "    <tr>\n",
       "      <th>GMWAX</th>\n",
       "      <td>-0.047061</td>\n",
       "    </tr>\n",
       "  </tbody>\n",
       "</table>\n",
       "</div>"
      ],
      "text/plain": [
       "             VaR (0.05)\n",
       "DP            -0.052332\n",
       "EP            -0.053891\n",
       "DP-EP-US10Y   -0.064085\n",
       "SPY           -0.073525\n",
       "GMWAX         -0.047061"
      ]
     },
     "execution_count": 27,
     "metadata": {},
     "output_type": "execute_result"
    }
   ],
   "source": [
    "market_summary = performance_summary(gmo_excess_ret.loc[:,['SPY']])\n",
    "gmo_summary = performance_summary(gmo_excess_ret.loc[:,['GMWAX']].dropna())\n",
    "strat_var= pd.concat([total_strategy_df.loc[:,['VaR (0.05)']],market_summary.loc[:,['VaR (0.05)']],gmo_summary.loc[:,['VaR (0.05)']]])\n",
    "strat_var"
   ]
  },
  {
   "cell_type": "markdown",
   "id": "673b99d2",
   "metadata": {},
   "source": [
    "### 3.3.b) The GMO case mentions that stocks under-performed short-term bonds from 2000-2011. Does the dynamic portfolio above under-perform the risk-free rate over this time?\n",
    "\n",
    "All dynamic portfolios outperform the risk-free rate."
   ]
  },
  {
   "cell_type": "code",
   "execution_count": 29,
   "id": "4f7239a9",
   "metadata": {},
   "outputs": [
    {
     "data": {
      "text/html": [
       "<div>\n",
       "<style scoped>\n",
       "    .dataframe tbody tr th:only-of-type {\n",
       "        vertical-align: middle;\n",
       "    }\n",
       "\n",
       "    .dataframe tbody tr th {\n",
       "        vertical-align: top;\n",
       "    }\n",
       "\n",
       "    .dataframe thead th {\n",
       "        text-align: right;\n",
       "    }\n",
       "</style>\n",
       "<table border=\"1\" class=\"dataframe\">\n",
       "  <thead>\n",
       "    <tr style=\"text-align: right;\">\n",
       "      <th></th>\n",
       "      <th>Mean</th>\n",
       "      <th>Volatility</th>\n",
       "      <th>Sharpe Ratio</th>\n",
       "      <th>Max Drawdown</th>\n",
       "    </tr>\n",
       "  </thead>\n",
       "  <tbody>\n",
       "    <tr>\n",
       "      <th>DP</th>\n",
       "      <td>0.039708</td>\n",
       "      <td>0.186013</td>\n",
       "      <td>0.213470</td>\n",
       "      <td>-0.656960</td>\n",
       "    </tr>\n",
       "    <tr>\n",
       "      <th>EP</th>\n",
       "      <td>0.037708</td>\n",
       "      <td>0.134765</td>\n",
       "      <td>0.279807</td>\n",
       "      <td>-0.385314</td>\n",
       "    </tr>\n",
       "    <tr>\n",
       "      <th>DP-EP-US10Y</th>\n",
       "      <td>0.061472</td>\n",
       "      <td>0.158856</td>\n",
       "      <td>0.386965</td>\n",
       "      <td>-0.524621</td>\n",
       "    </tr>\n",
       "  </tbody>\n",
       "</table>\n",
       "</div>"
      ],
      "text/plain": [
       "                 Mean  Volatility  Sharpe Ratio  Max Drawdown\n",
       "DP           0.039708    0.186013      0.213470     -0.656960\n",
       "EP           0.037708    0.134765      0.279807     -0.385314\n",
       "DP-EP-US10Y  0.061472    0.158856      0.386965     -0.524621"
      ]
     },
     "execution_count": 29,
     "metadata": {},
     "output_type": "execute_result"
    }
   ],
   "source": [
    "strats = {'DP': DP_forecast_return.dropna(),\n",
    "          'EP': EP_forecast_return.dropna(),\n",
    "          'DP-EP-US10Y': multiple_forecast_return.dropna()\n",
    "         }\n",
    "strat_summary_0011 =[]\n",
    "for k,v in strats.items():\n",
    "    strat = (strats[k]['2000':'2011']['Forecasted Return']).to_frame('Forecasted Returns')\n",
    "    perf_summary = performance_summary(strat)\n",
    "    perf_summary.index = [k]\n",
    "    strat_summary_0011.append(perf_summary)\n",
    "    \n",
    "\n",
    "strat_summary_df_0011 = pd.concat(strat_summary_0011)\n",
    "strat_summary_df_0011.loc[:,['Mean','Volatility','Sharpe Ratio','Max Drawdown']]"
   ]
  },
  {
   "cell_type": "markdown",
   "id": "8546c275",
   "metadata": {},
   "source": [
    "### 3.3.c) Based on the regression estimates, in how many periods do we estimate a negative risk premium?"
   ]
  },
  {
   "cell_type": "code",
   "execution_count": 30,
   "id": "56d26ef8",
   "metadata": {},
   "outputs": [
    {
     "data": {
      "text/html": [
       "<div>\n",
       "<style scoped>\n",
       "    .dataframe tbody tr th:only-of-type {\n",
       "        vertical-align: middle;\n",
       "    }\n",
       "\n",
       "    .dataframe tbody tr th {\n",
       "        vertical-align: top;\n",
       "    }\n",
       "\n",
       "    .dataframe thead th {\n",
       "        text-align: right;\n",
       "    }\n",
       "</style>\n",
       "<table border=\"1\" class=\"dataframe\">\n",
       "  <thead>\n",
       "    <tr style=\"text-align: right;\">\n",
       "      <th></th>\n",
       "      <th>Negative Risk Premium Months</th>\n",
       "      <th>Total Months</th>\n",
       "      <th>Negative Risk Premium Months (%)</th>\n",
       "    </tr>\n",
       "  </thead>\n",
       "  <tbody>\n",
       "    <tr>\n",
       "      <th>DP</th>\n",
       "      <td>139</td>\n",
       "      <td>368</td>\n",
       "      <td>37.771739</td>\n",
       "    </tr>\n",
       "    <tr>\n",
       "      <th>EP</th>\n",
       "      <td>139</td>\n",
       "      <td>368</td>\n",
       "      <td>37.771739</td>\n",
       "    </tr>\n",
       "    <tr>\n",
       "      <th>DP-EP-US10Y</th>\n",
       "      <td>138</td>\n",
       "      <td>368</td>\n",
       "      <td>37.500000</td>\n",
       "    </tr>\n",
       "  </tbody>\n",
       "</table>\n",
       "</div>"
      ],
      "text/plain": [
       "             Negative Risk Premium Months  Total Months  \\\n",
       "DP                                    139           368   \n",
       "EP                                    139           368   \n",
       "DP-EP-US10Y                           138           368   \n",
       "\n",
       "             Negative Risk Premium Months (%)  \n",
       "DP                                  37.771739  \n",
       "EP                                  37.771739  \n",
       "DP-EP-US10Y                         37.500000  "
      ]
     },
     "execution_count": 30,
     "metadata": {},
     "output_type": "execute_result"
    }
   ],
   "source": [
    "neg_risk_premium = total_strategy_df.loc[:,['Negative Risk Premium Months','Total Months']]\n",
    "neg_risk_premium['Negative Risk Premium Months (%)'] = neg_risk_premium['Negative Risk Premium Months'] *100/ neg_risk_premium['Total Months']\n",
    "neg_risk_premium"
   ]
  },
  {
   "cell_type": "markdown",
   "id": "d7ba29bb",
   "metadata": {},
   "source": [
    "### 3.3.c) Based on the regression estimates, in how many periods do we estimate a negative risk premium?\n"
   ]
  },
  {
   "cell_type": "code",
   "execution_count": 32,
   "id": "cfe8c7a5",
   "metadata": {},
   "outputs": [
    {
     "data": {
      "text/html": [
       "<div>\n",
       "<style scoped>\n",
       "    .dataframe tbody tr th:only-of-type {\n",
       "        vertical-align: middle;\n",
       "    }\n",
       "\n",
       "    .dataframe tbody tr th {\n",
       "        vertical-align: top;\n",
       "    }\n",
       "\n",
       "    .dataframe thead th {\n",
       "        text-align: right;\n",
       "    }\n",
       "</style>\n",
       "<table border=\"1\" class=\"dataframe\">\n",
       "  <thead>\n",
       "    <tr style=\"text-align: right;\">\n",
       "      <th></th>\n",
       "      <th>Negative Risk Premium Months</th>\n",
       "      <th>Total Months</th>\n",
       "      <th>Negative Risk Premium Months (%)</th>\n",
       "    </tr>\n",
       "  </thead>\n",
       "  <tbody>\n",
       "    <tr>\n",
       "      <th>DP</th>\n",
       "      <td>139</td>\n",
       "      <td>368</td>\n",
       "      <td>37.771739</td>\n",
       "    </tr>\n",
       "    <tr>\n",
       "      <th>EP</th>\n",
       "      <td>139</td>\n",
       "      <td>368</td>\n",
       "      <td>37.771739</td>\n",
       "    </tr>\n",
       "    <tr>\n",
       "      <th>DP-EP-US10Y</th>\n",
       "      <td>138</td>\n",
       "      <td>368</td>\n",
       "      <td>37.500000</td>\n",
       "    </tr>\n",
       "  </tbody>\n",
       "</table>\n",
       "</div>"
      ],
      "text/plain": [
       "             Negative Risk Premium Months  Total Months  \\\n",
       "DP                                    139           368   \n",
       "EP                                    139           368   \n",
       "DP-EP-US10Y                           138           368   \n",
       "\n",
       "             Negative Risk Premium Months (%)  \n",
       "DP                                  37.771739  \n",
       "EP                                  37.771739  \n",
       "DP-EP-US10Y                         37.500000  "
      ]
     },
     "execution_count": 32,
     "metadata": {},
     "output_type": "execute_result"
    }
   ],
   "source": [
    "neg_risk_premium = total_strategy_df.loc[:,['Negative Risk Premium Months','Total Months']]\n",
    "neg_risk_premium['Negative Risk Premium Months (%)'] = neg_risk_premium['Negative Risk Premium Months'] *100/ neg_risk_premium['Total Months']\n",
    "neg_risk_premium"
   ]
  },
  {
   "cell_type": "markdown",
   "id": "d79f8047",
   "metadata": {},
   "source": [
    "This section utilizes data in the file, `gmo_analysis_data.xlsx`.\n",
    "\n",
    "Reconsider the problem above, of estimating (1) for $x$. The reported $R^2$ was the in-sample $R^2$ it examined how well the forecasts fit in the sample from which the parameters were estimated. <br><br>\n",
    "\n",
    "**In particular, focus on the case of using both dividend-price and earnings-price as signals.**\n",
    "\n",
    "Let's consider the out-of-sample r-squared. To do so, we need the following:\n",
    "- Start at $t=60$.\n",
    "- Estmiate (1) only using data through time $t$.\n",
    "- Use the estimated parameters of (1), along with $x_{t+1}$ to calculate the out-of-sample forecast for the following period, $t+1$.\n",
    "\\begin{align}\n",
    "\\hat{r}^{SPY}_{t+1} = \\hat{a}^{SPY,x}_t+(\\beta^{SPY,x})'x_t \n",
    "\\end{align}\n",
    "- Calculate the $t+1$ forecast error,\n",
    "\\begin{align}\n",
    "  e^x_{t+1} = r^{SPY}_{t+1} - \\hat{r}^{SPY}_{t+1}\n",
    "\\end{align}\n",
    "- Move to $t=61$, and loop through the rest of the sample.\n",
    "\n",
    "You now have the time-series of out-of-sample prediction errors, $e^x$.\n",
    "\n",
    "Calculate the time-series of out-of-sample prediction errors $e^0$, which are based on the null forecast:\n",
    "\\begin{align*}\n",
    "\\bar{r}^{SPY}_{t+1} &= \\frac{1}{t}\\sum^{t}_{i=1}r^{SPY}_i \\\\\n",
    "e^0_{t+1} &= r^{SPY}_{t+1} - \\bar{r}^{SPY}_{t+1}\n",
    "\\end{align*}\n"
   ]
  },
  {
   "cell_type": "markdown",
   "id": "b08e8f79",
   "metadata": {},
   "source": [
    "### 4.1) Report the out-of-sample $R^2$:\n",
    "\\begin{align}\n",
    " R^2_{OOS} \\equiv 1-\\frac{\\sum^T_{i=61}(e^x_i)^2}{\\sum^T_{i=61}(e^0_i)^2} \n",
    "\\end{align}\n",
    "### note that unlike an in-sample r-squared, the out-of-sample r-squared can be anywhere between $(-\\infty,1]$."
   ]
  },
  {
   "cell_type": "code",
   "execution_count": 36,
   "id": "27263808",
   "metadata": {},
   "outputs": [],
   "source": [
    "def OOS_r2(df, factors, start):\n",
    "    y = df['SPY']\n",
    "    X = sm.add_constant(factors)\n",
    "\n",
    "    forecast_err, null_err = [], []\n",
    "\n",
    "    for i,j in enumerate(df.index):\n",
    "        if i >= start:\n",
    "            currX = X.iloc[:i]\n",
    "            currY = y.iloc[:i]\n",
    "            reg = sm.OLS(currY, currX, missing = 'drop').fit()\n",
    "            null_forecast = currY.mean()\n",
    "            reg_predict = reg.predict(X.iloc[[i]])\n",
    "            actual = y.iloc[[i]]\n",
    "            forecast_err.append(reg_predict - actual)\n",
    "            null_err.append(null_forecast - actual)\n",
    "            \n",
    "    RSS = (np.array(forecast_err)**2).sum()\n",
    "    TSS = (np.array(null_err)**2).sum()\n",
    "    \n",
    "    return ((1 - RSS/TSS),reg)"
   ]
  },
  {
   "cell_type": "code",
   "execution_count": 336,
   "id": "1605a432",
   "metadata": {},
   "outputs": [
    {
     "data": {
      "text/html": [
       "<div>\n",
       "<style scoped>\n",
       "    .dataframe tbody tr th:only-of-type {\n",
       "        vertical-align: middle;\n",
       "    }\n",
       "\n",
       "    .dataframe tbody tr th {\n",
       "        vertical-align: top;\n",
       "    }\n",
       "\n",
       "    .dataframe thead th {\n",
       "        text-align: right;\n",
       "    }\n",
       "</style>\n",
       "<table border=\"1\" class=\"dataframe\">\n",
       "  <thead>\n",
       "    <tr style=\"text-align: right;\">\n",
       "      <th></th>\n",
       "      <th>OOS R-Squared</th>\n",
       "    </tr>\n",
       "  </thead>\n",
       "  <tbody>\n",
       "    <tr>\n",
       "      <th>DP</th>\n",
       "      <td>-0.002074</td>\n",
       "    </tr>\n",
       "    <tr>\n",
       "      <th>EP</th>\n",
       "      <td>-0.006394</td>\n",
       "    </tr>\n",
       "    <tr>\n",
       "      <th>DP-EP</th>\n",
       "      <td>-0.017227</td>\n",
       "    </tr>\n",
       "    <tr>\n",
       "      <th>All</th>\n",
       "      <td>-0.030651</td>\n",
       "    </tr>\n",
       "  </tbody>\n",
       "</table>\n",
       "</div>"
      ],
      "text/plain": [
       "       OOS R-Squared\n",
       "DP         -0.002074\n",
       "EP         -0.006394\n",
       "DP-EP      -0.017227\n",
       "All        -0.030651"
      ]
     },
     "execution_count": 336,
     "metadata": {},
     "output_type": "execute_result"
    }
   ],
   "source": [
    "oos_r2_sum = pd.concat([OOS_r2_dp,OOS_r2_ep,OOS_r2_epdp,OOS_r2_all])\n",
    "oos_r2_sum"
   ]
  },
  {
   "cell_type": "markdown",
   "id": "b03a7e0e",
   "metadata": {},
   "source": [
    "This forecasting strategy produces a negative OOS r-squared, which indicates our strategy fits the data worse than a horizontal line given by the expanding mean of the sample.\n"
   ]
  },
  {
   "cell_type": "markdown",
   "id": "7a92b818",
   "metadata": {},
   "source": [
    "In the context of Out-of-Sample (OOS) R-squared, it is benchmarked against a regular forecast. This assessment involves comparing the error of our forecast using our sample average (instead of 1). The baseline is determined by the sum of squared errors, which measures how substantial the forecast errors were compared to a scenario of doing nothing. Consequently, the OOS R-squared could potentially yield a negative value, indicating the extent to which the forecast performed worse than a simple strategy of using the sample average."
   ]
  },
  {
   "cell_type": "code",
   "execution_count": null,
   "id": "fff8470c",
   "metadata": {},
   "outputs": [],
   "source": []
  }
 ],
 "metadata": {
  "kernelspec": {
   "display_name": "Python 3 (ipykernel)",
   "language": "python",
   "name": "python3"
  },
  "language_info": {
   "codemirror_mode": {
    "name": "ipython",
    "version": 3
   },
   "file_extension": ".py",
   "mimetype": "text/x-python",
   "name": "python",
   "nbconvert_exporter": "python",
   "pygments_lexer": "ipython3",
   "version": "3.9.12"
  }
 },
 "nbformat": 4,
 "nbformat_minor": 5
}
